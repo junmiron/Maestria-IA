{
 "cells": [
  {
   "cell_type": "markdown",
   "metadata": {
    "application/vnd.databricks.v1+cell": {
     "cellMetadata": {},
     "inputWidgets": {},
     "nuid": "dac2fddb-c893-4177-a02d-a9e10b0defc0",
     "showTitle": false,
     "tableResultSettingsMap": {},
     "title": ""
    }
   },
   "source": [
    "### Ejercicio Práctico"
   ]
  },
  {
   "cell_type": "markdown",
   "metadata": {
    "application/vnd.databricks.v1+cell": {
     "cellMetadata": {},
     "inputWidgets": {},
     "nuid": "d470551a-288c-4185-a669-19091902ef08",
     "showTitle": false,
     "tableResultSettingsMap": {},
     "title": ""
    }
   },
   "source": [
    "Asignatura: Data Science y Big Data\n",
    "Máster en Inteligencia Artificial\n",
    "Prof. Ronal Muresano\n",
    "\n",
    "\n",
    "La práctica está compuesta por un conjunto de operaciones en Spark y al final de la práctica debe generar un fichero de tipo notebook que se tendrá que subir a la plataforma. \n",
    "\n",
    "La empresa de desarrollo de software CRAN (R studio) quiere que le diseñe una ETL en Spark que permita enriquecer su sistema de logs. Dentro de este proceso se incluye un primer CSV que esta compuesto de los logs y tiene nombre de “dataset.csv” y un segundo fichero que incluye la geografía “geography.csv”. \n",
    "\n",
    "Dentro de los campos del fichero de logs tenemos: \n"
   ]
  },
  {
   "cell_type": "markdown",
   "metadata": {
    "application/vnd.databricks.v1+cell": {
     "cellMetadata": {},
     "inputWidgets": {},
     "nuid": "639f4147-403b-4dd7-8e0c-2b7e8f8c1888",
     "showTitle": false,
     "tableResultSettingsMap": {},
     "title": ""
    }
   },
   "source": [
    "Ver documento"
   ]
  },
  {
   "cell_type": "markdown",
   "metadata": {
    "application/vnd.databricks.v1+cell": {
     "cellMetadata": {},
     "inputWidgets": {},
     "nuid": "1ceea99a-f0b8-4b40-a3c5-5676b409269e",
     "showTitle": false,
     "tableResultSettingsMap": {},
     "title": ""
    }
   },
   "source": [
    "En el fichero de geografía tenemos: \n",
    "\n",
    "Ver documento"
   ]
  },
  {
   "cell_type": "markdown",
   "metadata": {
    "application/vnd.databricks.v1+cell": {
     "cellMetadata": {},
     "inputWidgets": {},
     "nuid": "63f4ac8c-307f-4815-aaad-42719a8ce2da",
     "showTitle": false,
     "tableResultSettingsMap": {},
     "title": ""
    }
   },
   "source": [
    "1)\tLea el fichero y cargue cada dataframe con un esquema predeterminado. Además, rellene los elementos vacíos con 0 para las variables numéricas y “NOT-APPLICABLE” para el resto de string. "
   ]
  },
  {
   "cell_type": "code",
   "execution_count": 0,
   "metadata": {
    "application/vnd.databricks.v1+cell": {
     "cellMetadata": {
      "byteLimit": 2048000,
      "rowLimit": 10000
     },
     "inputWidgets": {},
     "nuid": "f54b8679-4f73-4ed8-a450-24ab091aaadc",
     "showTitle": false,
     "tableResultSettingsMap": {},
     "title": ""
    }
   },
   "outputs": [],
   "source": [
    "import pyspark.sql.functions as f \n",
    "from pyspark.sql.functions import col, sum\n",
    "from pyspark.sql.types import IntegerType, DoubleType, StringType, BooleanType, ArrayType, NumericType, StructType, StructField\n"
   ]
  },
  {
   "cell_type": "code",
   "execution_count": 0,
   "metadata": {
    "application/vnd.databricks.v1+cell": {
     "cellMetadata": {
      "byteLimit": 2048000,
      "rowLimit": 10000
     },
     "inputWidgets": {},
     "nuid": "26663b52-3726-4c95-b0f9-bb277d88e402",
     "showTitle": false,
     "tableResultSettingsMap": {},
     "title": ""
    }
   },
   "outputs": [
    {
     "output_type": "stream",
     "name": "stdout",
     "output_type": "stream",
     "text": [
      "root\n |-- country_code: string (nullable = true)\n |-- country_name: string (nullable = true)\n |-- subcontinent_name: string (nullable = true)\n |-- continent_name: string (nullable = true)\n\n+------------+--------------------+-----------------+--------------+\n|country_code|        country_name|subcontinent_name|continent_name|\n+------------+--------------------+-----------------+--------------+\n|          DZ|             Algeria|     North Africa|        Africa|\n|          MA|             Morocco|     North Africa|        Africa|\n|          SD|               Sudan|     North Africa|        Africa|\n|          SS|         South Sudan|     North Africa|        Africa|\n|          TN|             Tunisia|     North Africa|        Africa|\n|          AO|              Angola|Subsaharan Africa|        Africa|\n|          BF|        Burkina Faso|Subsaharan Africa|        Africa|\n|          BI|             Burundi|Subsaharan Africa|        Africa|\n|          BJ|               Benin|Subsaharan Africa|        Africa|\n|          BW|            Botswana|Subsaharan Africa|        Africa|\n|          CD|Congo, Democratic...|Subsaharan Africa|        Africa|\n|          CF|Central African R...|Subsaharan Africa|        Africa|\n|          CG|               Congo|Subsaharan Africa|        Africa|\n|          CI|         Ivory Coast|Subsaharan Africa|        Africa|\n|          CM|            Cameroon|Subsaharan Africa|        Africa|\n|          CV|          Cape Verde|Subsaharan Africa|        Africa|\n|          DJ|            Djibouti|Subsaharan Africa|        Africa|\n|          ER|             Eritrea|Subsaharan Africa|        Africa|\n|          ET|            Ethiopia|Subsaharan Africa|        Africa|\n|          GA|               Gabon|Subsaharan Africa|        Africa|\n+------------+--------------------+-----------------+--------------+\nonly showing top 20 rows\n\n"
     ]
    }
   ],
   "source": [
    "file_path_geo = \"dbfs:/FileStore/geography.csv\"\n",
    "file_path_dev = \"dbfs:/FileStore/device.csv\"\n",
    "\n",
    "df_geo = spark.read.csv(file_path_geo, header=True, inferSchema=True)\n",
    "df_dev = spark.read.csv(file_path_dev, header=True, inferSchema=True)\n",
    "df_geo.show(20)"
   ]
  },
  {
   "cell_type": "markdown",
   "metadata": {
    "application/vnd.databricks.v1+cell": {
     "cellMetadata": {},
     "inputWidgets": {},
     "nuid": "661d8994-2d4f-4e03-b973-625b7b923655",
     "showTitle": false,
     "tableResultSettingsMap": {},
     "title": ""
    }
   },
   "source": [
    "Esta vez use inferSchema ya que en medical_services use un schema creado"
   ]
  },
  {
   "cell_type": "code",
   "execution_count": 0,
   "metadata": {
    "application/vnd.databricks.v1+cell": {
     "cellMetadata": {
      "byteLimit": 2048000,
      "rowLimit": 10000
     },
     "inputWidgets": {},
     "nuid": "79131244-f6d2-445e-97e9-dc04e9d32312",
     "showTitle": false,
     "tableResultSettingsMap": {},
     "title": ""
    }
   },
   "outputs": [
    {
     "output_type": "stream",
     "name": "stdout",
     "output_type": "stream",
     "text": [
      "+----------+-------------------+-------+------------+------+------------+----------+--------+-------+-----+\n|      date|               time|   size|version_code|  arch|          os|   package| version|country|ip_id|\n+----------+-------------------+-------+------------+------+------------+----------+--------+-------+-----+\n|2015-12-12|2024-12-29 13:42:10| 257886|       3.2.2|  i386|     mingw32|  HistData|   0.7-6|     CZ|    1|\n|2015-12-12|2024-12-29 13:24:37|1236751|       3.2.2|x86_64|     mingw32|   RJSONIO|   1.3-0|     DE|    2|\n|2015-12-12|2024-12-29 13:42:35|2077876|       3.2.2|  i386|     mingw32|    UsingR|   2.0-5|     CZ|    1|\n|2015-12-12|2024-12-29 13:42:01| 266724|       3.2.2|  i386|     mingw32| gridExtra|   2.0.0|     CZ|    1|\n|2015-12-12|2024-12-29 13:00:21|3687766|          NA|    NA|          NA|      lme4|  1.1-10|     DE|    3|\n|2015-12-12|2024-12-29 13:08:56|  57429|          NA|    NA|          NA|  testthat|  0.11.0|     DE|    3|\n|2015-12-12|2024-12-29 13:08:09| 216068|       3.2.2|x86_64|     mingw32|   mvtnorm|   1.0-3|     DE|    4|\n|2015-12-12|2024-12-29 13:25:00|3595497|       3.2.2|x86_64|     mingw32|      maps|   3.0.1|     DE|    2|\n|2015-12-12|2024-12-29 13:25:05|1579597|       3.2.2|x86_64|     mingw32|        sp|   1.2-1|     DE|    2|\n|2015-12-12|2024-12-29 13:25:21| 892152|       3.2.3|x86_64|     mingw32| geosphere|   1.4-3|     DE|    2|\n|2015-12-12|2024-12-29 10:43:38|  74715|       3.1.3|x86_64|     mingw32| ryouready|     0.4|     DE|    5|\n|2015-12-12|2024-12-29 20:56:16| 802583|       3.1.0|x86_64|     mingw32|      mgcv|  1.8-10|     ES|    6|\n|2015-12-12|2024-12-29 20:55:43| 129135|       3.2.1|x86_64|     mingw32|    gtools|   3.4.2|     US|    7|\n|2015-12-12|2024-12-29 20:56:20| 164040|       3.2.3|x86_64|   linux-gnu|matrixcalc|   1.0-3|     HK|    8|\n|2015-12-12|2024-12-29 20:56:16| 651370|       3.2.2|x86_64|   linux-gnu| lubridate|   1.5.0|     US|    9|\n|2015-12-12|2024-12-29 20:56:27|1608250|       3.2.3|x86_64|darwin13.4.0|       XML|3.98-1.3|     US|   10|\n|2015-12-12|2024-12-29 20:55:22| 173549|       3.2.3|x86_64|   linux-gnu|doParallel|  1.0.10|     US|   11|\n|2015-12-12|2024-12-29 20:56:14|  38159|       3.2.2|  i386|     mingw32|     abind|   1.4-3|     CA|   12|\n|2015-12-12|2024-12-29 20:56:17| 277704|          NA|    NA|          NA|       h2o| 3.6.0.8|     GB|   13|\n|2015-12-12|2024-12-29 20:56:27| 287846|       3.2.2|  i386|     mingw32|    xtable|   1.8-0|     US|   10|\n+----------+-------------------+-------+------------+------+------------+----------+--------+-------+-----+\nonly showing top 20 rows\n\n"
     ]
    }
   ],
   "source": [
    "df_dev.show(20)"
   ]
  },
  {
   "cell_type": "code",
   "execution_count": 0,
   "metadata": {
    "application/vnd.databricks.v1+cell": {
     "cellMetadata": {
      "byteLimit": 2048000,
      "rowLimit": 10000
     },
     "inputWidgets": {},
     "nuid": "6ed017ca-faf3-4a28-905c-ab288d5057c8",
     "showTitle": false,
     "tableResultSettingsMap": {},
     "title": ""
    }
   },
   "outputs": [
    {
     "output_type": "stream",
     "name": "stdout",
     "output_type": "stream",
     "text": [
      "root\n |-- country_code: string (nullable = true)\n |-- country_name: string (nullable = true)\n |-- subcontinent_name: string (nullable = true)\n |-- continent_name: string (nullable = true)\n\nroot\n |-- date: date (nullable = true)\n |-- time: timestamp (nullable = true)\n |-- size: integer (nullable = true)\n |-- version_code: string (nullable = true)\n |-- arch: string (nullable = true)\n |-- os: string (nullable = true)\n |-- package: string (nullable = true)\n |-- version: string (nullable = true)\n |-- country: string (nullable = true)\n |-- ip_id: integer (nullable = true)\n\n"
     ]
    }
   ],
   "source": [
    "df_geo.printSchema()\n",
    "df_dev.printSchema()"
   ]
  },
  {
   "cell_type": "markdown",
   "metadata": {
    "application/vnd.databricks.v1+cell": {
     "cellMetadata": {},
     "inputWidgets": {},
     "nuid": "b1b34b88-0f13-46a3-b12a-50af1c952798",
     "showTitle": false,
     "tableResultSettingsMap": {},
     "title": ""
    }
   },
   "source": [
    "timestamp no lo considero numeric por que una hora 0 podria ser confuso\n",
    "Uso lo del ejercicio de medical services y lo convierto en una UDF"
   ]
  },
  {
   "cell_type": "code",
   "execution_count": 0,
   "metadata": {
    "application/vnd.databricks.v1+cell": {
     "cellMetadata": {
      "byteLimit": 2048000,
      "rowLimit": 10000
     },
     "inputWidgets": {},
     "nuid": "236f2a7f-2e22-4d4d-ae9e-76e11ea2075f",
     "showTitle": false,
     "tableResultSettingsMap": {},
     "title": ""
    }
   },
   "outputs": [],
   "source": [
    "def fillna_cust(df):\n",
    "    dataFrame_cols = df.dtypes\n",
    "    values = {}\n",
    "\n",
    "    for col, col_type in dataFrame_cols:\n",
    "        if col_type in ['int', 'double']:\n",
    "            values[col] = 0\n",
    "        else:\n",
    "            values[col] = 'NOT-APPLICABLE'\n",
    "\n",
    "    return df.fillna(values)"
   ]
  },
  {
   "cell_type": "code",
   "execution_count": 0,
   "metadata": {
    "application/vnd.databricks.v1+cell": {
     "cellMetadata": {
      "byteLimit": 2048000,
      "rowLimit": 10000
     },
     "inputWidgets": {},
     "nuid": "dacd3612-edd3-46c0-ba14-efb8686d805d",
     "showTitle": false,
     "tableResultSettingsMap": {},
     "title": ""
    }
   },
   "outputs": [
    {
     "output_type": "stream",
     "name": "stdout",
     "output_type": "stream",
     "text": [
      "+------------+--------------------+-----------------+--------------+\n|country_code|        country_name|subcontinent_name|continent_name|\n+------------+--------------------+-----------------+--------------+\n|          DZ|             Algeria|     North Africa|        Africa|\n|          MA|             Morocco|     North Africa|        Africa|\n|          SD|               Sudan|     North Africa|        Africa|\n|          SS|         South Sudan|     North Africa|        Africa|\n|          TN|             Tunisia|     North Africa|        Africa|\n|          AO|              Angola|Subsaharan Africa|        Africa|\n|          BF|        Burkina Faso|Subsaharan Africa|        Africa|\n|          BI|             Burundi|Subsaharan Africa|        Africa|\n|          BJ|               Benin|Subsaharan Africa|        Africa|\n|          BW|            Botswana|Subsaharan Africa|        Africa|\n|          CD|Congo, Democratic...|Subsaharan Africa|        Africa|\n|          CF|Central African R...|Subsaharan Africa|        Africa|\n|          CG|               Congo|Subsaharan Africa|        Africa|\n|          CI|         Ivory Coast|Subsaharan Africa|        Africa|\n|          CM|            Cameroon|Subsaharan Africa|        Africa|\n|          CV|          Cape Verde|Subsaharan Africa|        Africa|\n|          DJ|            Djibouti|Subsaharan Africa|        Africa|\n|          ER|             Eritrea|Subsaharan Africa|        Africa|\n|          ET|            Ethiopia|Subsaharan Africa|        Africa|\n|          GA|               Gabon|Subsaharan Africa|        Africa|\n+------------+--------------------+-----------------+--------------+\nonly showing top 20 rows\n\n"
     ]
    }
   ],
   "source": [
    "df_geo_new = fillna_cust(df_geo)\n",
    "df_geo_new.show()"
   ]
  },
  {
   "cell_type": "code",
   "execution_count": 0,
   "metadata": {
    "application/vnd.databricks.v1+cell": {
     "cellMetadata": {
      "byteLimit": 2048000,
      "rowLimit": 10000
     },
     "inputWidgets": {},
     "nuid": "d3d8d792-dda1-4e35-bb75-cfe1df4dcccd",
     "showTitle": false,
     "tableResultSettingsMap": {},
     "title": ""
    }
   },
   "outputs": [
    {
     "output_type": "stream",
     "name": "stdout",
     "output_type": "stream",
     "text": [
      "+----------+-------------------+-------+------------+------+------------+----------+--------+-------+-----+\n|      date|               time|   size|version_code|  arch|          os|   package| version|country|ip_id|\n+----------+-------------------+-------+------------+------+------------+----------+--------+-------+-----+\n|2015-12-12|2024-12-29 13:42:10| 257886|       3.2.2|  i386|     mingw32|  HistData|   0.7-6|     CZ|    1|\n|2015-12-12|2024-12-29 13:24:37|1236751|       3.2.2|x86_64|     mingw32|   RJSONIO|   1.3-0|     DE|    2|\n|2015-12-12|2024-12-29 13:42:35|2077876|       3.2.2|  i386|     mingw32|    UsingR|   2.0-5|     CZ|    1|\n|2015-12-12|2024-12-29 13:42:01| 266724|       3.2.2|  i386|     mingw32| gridExtra|   2.0.0|     CZ|    1|\n|2015-12-12|2024-12-29 13:00:21|3687766|          NA|    NA|          NA|      lme4|  1.1-10|     DE|    3|\n|2015-12-12|2024-12-29 13:08:56|  57429|          NA|    NA|          NA|  testthat|  0.11.0|     DE|    3|\n|2015-12-12|2024-12-29 13:08:09| 216068|       3.2.2|x86_64|     mingw32|   mvtnorm|   1.0-3|     DE|    4|\n|2015-12-12|2024-12-29 13:25:00|3595497|       3.2.2|x86_64|     mingw32|      maps|   3.0.1|     DE|    2|\n|2015-12-12|2024-12-29 13:25:05|1579597|       3.2.2|x86_64|     mingw32|        sp|   1.2-1|     DE|    2|\n|2015-12-12|2024-12-29 13:25:21| 892152|       3.2.3|x86_64|     mingw32| geosphere|   1.4-3|     DE|    2|\n|2015-12-12|2024-12-29 10:43:38|  74715|       3.1.3|x86_64|     mingw32| ryouready|     0.4|     DE|    5|\n|2015-12-12|2024-12-29 20:56:16| 802583|       3.1.0|x86_64|     mingw32|      mgcv|  1.8-10|     ES|    6|\n|2015-12-12|2024-12-29 20:55:43| 129135|       3.2.1|x86_64|     mingw32|    gtools|   3.4.2|     US|    7|\n|2015-12-12|2024-12-29 20:56:20| 164040|       3.2.3|x86_64|   linux-gnu|matrixcalc|   1.0-3|     HK|    8|\n|2015-12-12|2024-12-29 20:56:16| 651370|       3.2.2|x86_64|   linux-gnu| lubridate|   1.5.0|     US|    9|\n|2015-12-12|2024-12-29 20:56:27|1608250|       3.2.3|x86_64|darwin13.4.0|       XML|3.98-1.3|     US|   10|\n|2015-12-12|2024-12-29 20:55:22| 173549|       3.2.3|x86_64|   linux-gnu|doParallel|  1.0.10|     US|   11|\n|2015-12-12|2024-12-29 20:56:14|  38159|       3.2.2|  i386|     mingw32|     abind|   1.4-3|     CA|   12|\n|2015-12-12|2024-12-29 20:56:17| 277704|          NA|    NA|          NA|       h2o| 3.6.0.8|     GB|   13|\n|2015-12-12|2024-12-29 20:56:27| 287846|       3.2.2|  i386|     mingw32|    xtable|   1.8-0|     US|   10|\n+----------+-------------------+-------+------------+------+------------+----------+--------+-------+-----+\nonly showing top 20 rows\n\n"
     ]
    }
   ],
   "source": [
    "df_dev_new = fillna_cust(df_dev)\n",
    "df_dev_new.show(20)"
   ]
  },
  {
   "cell_type": "markdown",
   "metadata": {
    "application/vnd.databricks.v1+cell": {
     "cellMetadata": {},
     "inputWidgets": {},
     "nuid": "2703e8e2-e486-4242-bc2f-608aae52d4fc",
     "showTitle": false,
     "tableResultSettingsMap": {},
     "title": ""
    }
   },
   "source": [
    "2)\tDetermine el número de paquetes por cada tipo descargado y añádalo como una nueva columna llamada “Num_Package_downloaded” al datraframe original "
   ]
  },
  {
   "cell_type": "code",
   "execution_count": 0,
   "metadata": {
    "application/vnd.databricks.v1+cell": {
     "cellMetadata": {
      "byteLimit": 2048000,
      "rowLimit": 10000
     },
     "inputWidgets": {},
     "nuid": "b7b171b7-ad30-4b92-9d4d-e775a152be09",
     "showTitle": false,
     "tableResultSettingsMap": {},
     "title": ""
    }
   },
   "outputs": [
    {
     "output_type": "stream",
     "name": "stdout",
     "output_type": "stream",
     "text": [
      "+------------------+----------------------+\n|           package|Num_Package_downloaded|\n+------------------+----------------------+\n|           TH.data|                   532|\n|             sharx|                    20|\n|           spssDDI|                     8|\n|        xpose4data|                     5|\n|        websockets|                     3|\n|                MM|                    17|\n|             rtson|                    12|\n|         ade4TkGUI|                    48|\n|       BayesVarSel|                    20|\n|           bdscale|                    18|\n|              JADE|                    28|\n|            ncvreg|                    30|\n|          hapassoc|                    32|\n|           MIIVsem|                    17|\n|           waffect|                    17|\n|RcmdrPlugin.orloca|                    30|\n|           cshapes|                    30|\n|            teigen|                    25|\n|      RcppParallel|                    28|\n|         RcppShark|                    12|\n+------------------+----------------------+\nonly showing top 20 rows\n\n+----------+----------+-------------------+-------+------------+------+------------+--------+-------+-----+----------------------+\n|   package|      date|               time|   size|version_code|  arch|          os| version|country|ip_id|Num_Package_downloaded|\n+----------+----------+-------------------+-------+------------+------+------------+--------+-------+-----+----------------------+\n|  HistData|2015-12-12|2024-12-29 13:42:10| 257886|       3.2.2|  i386|     mingw32|   0.7-6|     CZ|    1|                   159|\n|   RJSONIO|2015-12-12|2024-12-29 13:24:37|1236751|       3.2.2|x86_64|     mingw32|   1.3-0|     DE|    2|                  1358|\n|    UsingR|2015-12-12|2024-12-29 13:42:35|2077876|       3.2.2|  i386|     mingw32|   2.0-5|     CZ|    1|                   151|\n| gridExtra|2015-12-12|2024-12-29 13:42:01| 266724|       3.2.2|  i386|     mingw32|   2.0.0|     CZ|    1|                  1758|\n|      lme4|2015-12-12|2024-12-29 13:00:21|3687766|          NA|    NA|          NA|  1.1-10|     DE|    3|                  1560|\n|  testthat|2015-12-12|2024-12-29 13:08:56|  57429|          NA|    NA|          NA|  0.11.0|     DE|    3|                  1178|\n|   mvtnorm|2015-12-12|2024-12-29 13:08:09| 216068|       3.2.2|x86_64|     mingw32|   1.0-3|     DE|    4|                   999|\n|      maps|2015-12-12|2024-12-29 13:25:00|3595497|       3.2.2|x86_64|     mingw32|   3.0.1|     DE|    2|                  1586|\n|        sp|2015-12-12|2024-12-29 13:25:05|1579597|       3.2.2|x86_64|     mingw32|   1.2-1|     DE|    2|                  1020|\n| geosphere|2015-12-12|2024-12-29 13:25:21| 892152|       3.2.3|x86_64|     mingw32|   1.4-3|     DE|    2|                   284|\n| ryouready|2015-12-12|2024-12-29 10:43:38|  74715|       3.1.3|x86_64|     mingw32|     0.4|     DE|    5|                    57|\n|      mgcv|2015-12-12|2024-12-29 20:56:16| 802583|       3.1.0|x86_64|     mingw32|  1.8-10|     ES|    6|                  1402|\n|    gtools|2015-12-12|2024-12-29 20:55:43| 129135|       3.2.1|x86_64|     mingw32|   3.4.2|     US|    7|                  1544|\n|matrixcalc|2015-12-12|2024-12-29 20:56:20| 164040|       3.2.3|x86_64|   linux-gnu|   1.0-3|     HK|    8|                   204|\n| lubridate|2015-12-12|2024-12-29 20:56:16| 651370|       3.2.2|x86_64|   linux-gnu|   1.5.0|     US|    9|                   626|\n|       XML|2015-12-12|2024-12-29 20:56:27|1608250|       3.2.3|x86_64|darwin13.4.0|3.98-1.3|     US|   10|                  1916|\n|doParallel|2015-12-12|2024-12-29 20:55:22| 173549|       3.2.3|x86_64|   linux-gnu|  1.0.10|     US|   11|                  1328|\n|     abind|2015-12-12|2024-12-29 20:56:14|  38159|       3.2.2|  i386|     mingw32|   1.4-3|     CA|   12|                   538|\n|       h2o|2015-12-12|2024-12-29 20:56:17| 277704|          NA|    NA|          NA| 3.6.0.8|     GB|   13|                   136|\n|    xtable|2015-12-12|2024-12-29 20:56:27| 287846|       3.2.2|  i386|     mingw32|   1.8-0|     US|   10|                  2163|\n|DiagrammeR|2015-12-12|2024-12-29 20:56:10|3477491|       3.2.2|  i386|     mingw32|   0.8.1|     BY|   14|                   243|\n|      yaml|2015-12-12|2024-12-29 20:56:10| 180621|       3.2.2|  i386|     mingw32|  2.1.13|     BY|   14|                  2077|\n| htmltools|2015-12-12|2024-12-29 20:56:11|  86299|       3.2.2|  i386|     mingw32|   0.2.6|     BY|   14|                  1350|\n|   caTools|2015-12-12|2024-12-29 20:56:11| 230233|       3.2.2|  i386|     mingw32|  1.17.1|     BY|   14|                  1944|\n|   mvtnorm|2015-12-12|2024-12-29 20:56:11| 223490|       3.2.2|  i386|     mingw32|   1.0-3|     BY|   14|                   999|\n|   TH.data|2015-12-12|2024-12-29 20:56:15|5209314|       3.2.2|  i386|     mingw32|   1.0-6|     BY|   14|                   532|\n|      mime|2015-12-12|2024-12-29 20:56:15|  37920|       3.2.2|  i386|     mingw32|     0.4|     BY|   14|                  2498|\n|  evaluate|2015-12-12|2024-12-29 20:56:16|  41105|       3.2.2|  i386|     mingw32|     0.8|     BY|   14|                  2094|\n|   formatR|2015-12-12|2024-12-29 20:56:16|  53726|       3.2.2|  i386|     mingw32|   1.2.1|     BY|   14|                  1162|\n|     highr|2015-12-12|2024-12-29 20:56:16|  36253|       3.2.2|  i386|     mingw32|   0.5.1|     BY|   14|                  1155|\n+----------+----------+-------------------+-------+------------+------+------------+--------+-------+-----+----------------------+\nonly showing top 30 rows\n\n"
     ]
    }
   ],
   "source": [
    "package_counts = df_dev_new.groupBy(\"package\").agg(f.count(\"package\").alias(\"Num_Package_downloaded\"))\n",
    "package_counts.show(20)\n",
    "\n",
    "df_dev_pkd = df_dev_new.join(package_counts, on=\"package\", how=\"left\")\n",
    "\n",
    "df_dev_pkd.show(30)\n"
   ]
  },
  {
   "cell_type": "markdown",
   "metadata": {
    "application/vnd.databricks.v1+cell": {
     "cellMetadata": {},
     "inputWidgets": {},
     "nuid": "d7d03550-d184-4d5d-8610-d26cd04d1b02",
     "showTitle": false,
     "tableResultSettingsMap": {},
     "title": ""
    }
   },
   "source": [
    "3)\tSepare todos los dispositivos cuya arquitectura sea del tipo “x86-64” y realice las siguientes operaciones: \n",
    "\n",
    "a.\tConcatene la dirección IP, la versión del sistema operativo y la versión de R, este proceso lo debe hacer con una función UDF. \n",
    "\n",
    "b.\tLa columna resultante, inclúyala en el dataframe original como “Device_code”, recuerde hacer un identificador monolítico para poder hacer el mergeo de datasets.\n",
    "\n",
    "Nota: use un join para hacer este apartado.\n"
   ]
  },
  {
   "cell_type": "code",
   "execution_count": 0,
   "metadata": {
    "application/vnd.databricks.v1+cell": {
     "cellMetadata": {
      "byteLimit": 2048000,
      "rowLimit": 10000
     },
     "inputWidgets": {},
     "nuid": "53a5e799-6aa2-4bc3-a7c1-4303c045aa62",
     "showTitle": false,
     "tableResultSettingsMap": {},
     "title": ""
    }
   },
   "outputs": [],
   "source": [
    "def cal_concat(df, col_uid, col_name1, col_name2, col_name3, col_concat_name):\n",
    "    df_concat = df.withColumn(col_concat_name, f.concat(col(col_name1), col(col_name2), col(col_name3)))\n",
    "    return df_concat.select(col_concat_name, col_uid)"
   ]
  },
  {
   "cell_type": "code",
   "execution_count": 0,
   "metadata": {
    "application/vnd.databricks.v1+cell": {
     "cellMetadata": {
      "byteLimit": 2048000,
      "rowLimit": 10000
     },
     "inputWidgets": {},
     "nuid": "9653e777-7f28-4547-a7a9-9eaaad450f3a",
     "showTitle": false,
     "tableResultSettingsMap": {},
     "title": ""
    }
   },
   "outputs": [
    {
     "output_type": "stream",
     "name": "stdout",
     "output_type": "stream",
     "text": [
      "+---+----------+----------+-------------------+-------+------------+------+------------+--------+-------+-----+----------------------+--------------------+\n|uid|   package|      date|               time|   size|version_code|  arch|          os| version|country|ip_id|Num_Package_downloaded|         Device_code|\n+---+----------+----------+-------------------+-------+------------+------+------------+--------+-------+-----+----------------------+--------------------+\n|  0|  HistData|2015-12-12|2024-12-29 13:42:10| 257886|       3.2.2|  i386|     mingw32|   0.7-6|     CZ|    1|                   159|       1mingw320.7-6|\n|  1|   RJSONIO|2015-12-12|2024-12-29 13:24:37|1236751|       3.2.2|x86_64|     mingw32|   1.3-0|     DE|    2|                  1358|       2mingw321.3-0|\n|  2|    UsingR|2015-12-12|2024-12-29 13:42:35|2077876|       3.2.2|  i386|     mingw32|   2.0-5|     CZ|    1|                   151|       1mingw322.0-5|\n|  3| gridExtra|2015-12-12|2024-12-29 13:42:01| 266724|       3.2.2|  i386|     mingw32|   2.0.0|     CZ|    1|                  1758|       1mingw322.0.0|\n|  4|      lme4|2015-12-12|2024-12-29 13:00:21|3687766|          NA|    NA|          NA|  1.1-10|     DE|    3|                  1560|           3NA1.1-10|\n|  5|  testthat|2015-12-12|2024-12-29 13:08:56|  57429|          NA|    NA|          NA|  0.11.0|     DE|    3|                  1178|           3NA0.11.0|\n|  6|   mvtnorm|2015-12-12|2024-12-29 13:08:09| 216068|       3.2.2|x86_64|     mingw32|   1.0-3|     DE|    4|                   999|       4mingw321.0-3|\n|  7|      maps|2015-12-12|2024-12-29 13:25:00|3595497|       3.2.2|x86_64|     mingw32|   3.0.1|     DE|    2|                  1586|       2mingw323.0.1|\n|  8|        sp|2015-12-12|2024-12-29 13:25:05|1579597|       3.2.2|x86_64|     mingw32|   1.2-1|     DE|    2|                  1020|       2mingw321.2-1|\n|  9| geosphere|2015-12-12|2024-12-29 13:25:21| 892152|       3.2.3|x86_64|     mingw32|   1.4-3|     DE|    2|                   284|       2mingw321.4-3|\n| 10| ryouready|2015-12-12|2024-12-29 10:43:38|  74715|       3.1.3|x86_64|     mingw32|     0.4|     DE|    5|                    57|         5mingw320.4|\n| 11|      mgcv|2015-12-12|2024-12-29 20:56:16| 802583|       3.1.0|x86_64|     mingw32|  1.8-10|     ES|    6|                  1402|      6mingw321.8-10|\n| 12|    gtools|2015-12-12|2024-12-29 20:55:43| 129135|       3.2.1|x86_64|     mingw32|   3.4.2|     US|    7|                  1544|       7mingw323.4.2|\n| 13|matrixcalc|2015-12-12|2024-12-29 20:56:20| 164040|       3.2.3|x86_64|   linux-gnu|   1.0-3|     HK|    8|                   204|     8linux-gnu1.0-3|\n| 14| lubridate|2015-12-12|2024-12-29 20:56:16| 651370|       3.2.2|x86_64|   linux-gnu|   1.5.0|     US|    9|                   626|     9linux-gnu1.5.0|\n| 15|       XML|2015-12-12|2024-12-29 20:56:27|1608250|       3.2.3|x86_64|darwin13.4.0|3.98-1.3|     US|   10|                  1916|10darwin13.4.03.9...|\n| 16|doParallel|2015-12-12|2024-12-29 20:55:22| 173549|       3.2.3|x86_64|   linux-gnu|  1.0.10|     US|   11|                  1328|   11linux-gnu1.0.10|\n| 17|     abind|2015-12-12|2024-12-29 20:56:14|  38159|       3.2.2|  i386|     mingw32|   1.4-3|     CA|   12|                   538|      12mingw321.4-3|\n| 18|       h2o|2015-12-12|2024-12-29 20:56:17| 277704|          NA|    NA|          NA| 3.6.0.8|     GB|   13|                   136|         13NA3.6.0.8|\n| 19|    xtable|2015-12-12|2024-12-29 20:56:27| 287846|       3.2.2|  i386|     mingw32|   1.8-0|     US|   10|                  2163|      10mingw321.8-0|\n+---+----------+----------+-------------------+-------+------------+------+------------+--------+-------+-----+----------------------+--------------------+\nonly showing top 20 rows\n\n"
     ]
    }
   ],
   "source": [
    "df_dev_uid = df_dev_pkd.withColumn('uid', f.monotonically_increasing_id())\n",
    "\n",
    "df_dev_dvc = cal_concat(df_dev_uid, 'uid', 'ip_id', 'os', 'version', 'Device_code')\n",
    "\n",
    "df_dev_joined = df_dev_uid.join(df_dev_dvc, \"uid\", \"inner\")\n",
    "\n",
    "df_dev_joined.show(20)"
   ]
  },
  {
   "cell_type": "markdown",
   "metadata": {
    "application/vnd.databricks.v1+cell": {
     "cellMetadata": {},
     "inputWidgets": {},
     "nuid": "1bd5130d-77ed-49ae-894c-0654415121b9",
     "showTitle": false,
     "tableResultSettingsMap": {},
     "title": ""
    }
   },
   "source": [
    "4)\tCarge el dataframe de la geografía y haga un join para enriquecer todas las columnas de la geografía en el dataframe original. "
   ]
  },
  {
   "cell_type": "markdown",
   "metadata": {
    "application/vnd.databricks.v1+cell": {
     "cellMetadata": {},
     "inputWidgets": {},
     "nuid": "416c26b6-5db3-40b9-9bcc-81f5f2b1ca43",
     "showTitle": false,
     "tableResultSettingsMap": {},
     "title": ""
    }
   },
   "source": [
    "No entendi con que hay que enriquecer, todos los ejercicios fueron sobre devices"
   ]
  },
  {
   "cell_type": "code",
   "execution_count": 0,
   "metadata": {
    "application/vnd.databricks.v1+cell": {
     "cellMetadata": {},
     "inputWidgets": {},
     "nuid": "9a2b035d-c541-4464-84f2-2c96960636e4",
     "showTitle": false,
     "tableResultSettingsMap": {},
     "title": ""
    }
   },
   "outputs": [],
   "source": []
  },
  {
   "cell_type": "markdown",
   "metadata": {
    "application/vnd.databricks.v1+cell": {
     "cellMetadata": {},
     "inputWidgets": {},
     "nuid": "e291c33e-2bb1-4d78-b517-38c404db8e11",
     "showTitle": false,
     "tableResultSettingsMap": {},
     "title": ""
    }
   },
   "source": [
    "5)\tMuestre un top 10 de los paquetes más descargados por país, sistema operativo y versión de R "
   ]
  },
  {
   "cell_type": "code",
   "execution_count": 0,
   "metadata": {
    "application/vnd.databricks.v1+cell": {
     "cellMetadata": {
      "byteLimit": 2048000,
      "rowLimit": 10000
     },
     "inputWidgets": {},
     "nuid": "7c2d46c7-30d7-4b84-8158-41f4a4feeed5",
     "showTitle": false,
     "tableResultSettingsMap": {},
     "title": ""
    }
   },
   "outputs": [
    {
     "output_type": "stream",
     "name": "stdout",
     "output_type": "stream",
     "text": [
      "+-------+-------+--------+---------+-----------+\n|country|     os| version|  package|package_dwn|\n+-------+-------+--------+---------+-----------+\n|     US|mingw32|  0.12.2|     Rcpp|       1291|\n|     US|mingw32|   1.4.3|  foreach|       1140|\n|     US|mingw32|   1.8.3|     plyr|       1128|\n|     US|mingw32|   0.9-7|    rJava|       1122|\n|     US|mingw32|   1.0.1|  ggplot2|       1024|\n|     US|mingw32|   1.0-1|  stringi|       1020|\n|     US|mingw32|   1.0.8|iterators|       1016|\n|     US|mingw32|1.95-4.7|    RCurl|       1016|\n|     US|mingw32|   1.0.0|  stringr|        968|\n|     US|mingw32|     1.5| magrittr|        967|\n+-------+-------+--------+---------+-----------+\n\n"
     ]
    }
   ],
   "source": [
    "df_dv_top10 = df_dev_joined.groupBy('country', 'os', 'version', 'package').agg(f.count(\"package\").alias(\"package_dwn\")).orderBy(col(\"package_dwn\").desc()).limit(10)\n",
    "\n",
    "\n",
    "df_dv_top10.show()"
   ]
  },
  {
   "cell_type": "markdown",
   "metadata": {
    "application/vnd.databricks.v1+cell": {
     "cellMetadata": {},
     "inputWidgets": {},
     "nuid": "ae38e12f-3ddc-4f35-8a28-6163ae7d601d",
     "showTitle": false,
     "tableResultSettingsMap": {},
     "title": ""
    }
   },
   "source": [
    "6)\tCrear una columna año, mes y día a partir de la columna date"
   ]
  },
  {
   "cell_type": "code",
   "execution_count": 0,
   "metadata": {
    "application/vnd.databricks.v1+cell": {
     "cellMetadata": {
      "byteLimit": 2048000,
      "rowLimit": 10000
     },
     "inputWidgets": {},
     "nuid": "f22aa97d-a4fc-477f-966b-4e3ddca1cf6a",
     "showTitle": false,
     "tableResultSettingsMap": {},
     "title": ""
    }
   },
   "outputs": [
    {
     "output_type": "stream",
     "name": "stdout",
     "output_type": "stream",
     "text": [
      "+---+----------+----------+-------------------+-------+------------+------+------------+--------+-------+-----+----------------------+--------------------+----+-----+---+\n|uid|   package|      date|               time|   size|version_code|  arch|          os| version|country|ip_id|Num_Package_downloaded|         Device_code|year|month|day|\n+---+----------+----------+-------------------+-------+------------+------+------------+--------+-------+-----+----------------------+--------------------+----+-----+---+\n|  0|  HistData|2015-12-12|2024-12-29 13:42:10| 257886|       3.2.2|  i386|     mingw32|   0.7-6|     CZ|    1|                   159|       1mingw320.7-6|2015|   12| 12|\n|  1|   RJSONIO|2015-12-12|2024-12-29 13:24:37|1236751|       3.2.2|x86_64|     mingw32|   1.3-0|     DE|    2|                  1358|       2mingw321.3-0|2015|   12| 12|\n|  2|    UsingR|2015-12-12|2024-12-29 13:42:35|2077876|       3.2.2|  i386|     mingw32|   2.0-5|     CZ|    1|                   151|       1mingw322.0-5|2015|   12| 12|\n|  3| gridExtra|2015-12-12|2024-12-29 13:42:01| 266724|       3.2.2|  i386|     mingw32|   2.0.0|     CZ|    1|                  1758|       1mingw322.0.0|2015|   12| 12|\n|  4|      lme4|2015-12-12|2024-12-29 13:00:21|3687766|          NA|    NA|          NA|  1.1-10|     DE|    3|                  1560|           3NA1.1-10|2015|   12| 12|\n|  5|  testthat|2015-12-12|2024-12-29 13:08:56|  57429|          NA|    NA|          NA|  0.11.0|     DE|    3|                  1178|           3NA0.11.0|2015|   12| 12|\n|  6|   mvtnorm|2015-12-12|2024-12-29 13:08:09| 216068|       3.2.2|x86_64|     mingw32|   1.0-3|     DE|    4|                   999|       4mingw321.0-3|2015|   12| 12|\n|  7|      maps|2015-12-12|2024-12-29 13:25:00|3595497|       3.2.2|x86_64|     mingw32|   3.0.1|     DE|    2|                  1586|       2mingw323.0.1|2015|   12| 12|\n|  8|        sp|2015-12-12|2024-12-29 13:25:05|1579597|       3.2.2|x86_64|     mingw32|   1.2-1|     DE|    2|                  1020|       2mingw321.2-1|2015|   12| 12|\n|  9| geosphere|2015-12-12|2024-12-29 13:25:21| 892152|       3.2.3|x86_64|     mingw32|   1.4-3|     DE|    2|                   284|       2mingw321.4-3|2015|   12| 12|\n| 10| ryouready|2015-12-12|2024-12-29 10:43:38|  74715|       3.1.3|x86_64|     mingw32|     0.4|     DE|    5|                    57|         5mingw320.4|2015|   12| 12|\n| 11|      mgcv|2015-12-12|2024-12-29 20:56:16| 802583|       3.1.0|x86_64|     mingw32|  1.8-10|     ES|    6|                  1402|      6mingw321.8-10|2015|   12| 12|\n| 12|    gtools|2015-12-12|2024-12-29 20:55:43| 129135|       3.2.1|x86_64|     mingw32|   3.4.2|     US|    7|                  1544|       7mingw323.4.2|2015|   12| 12|\n| 13|matrixcalc|2015-12-12|2024-12-29 20:56:20| 164040|       3.2.3|x86_64|   linux-gnu|   1.0-3|     HK|    8|                   204|     8linux-gnu1.0-3|2015|   12| 12|\n| 14| lubridate|2015-12-12|2024-12-29 20:56:16| 651370|       3.2.2|x86_64|   linux-gnu|   1.5.0|     US|    9|                   626|     9linux-gnu1.5.0|2015|   12| 12|\n| 15|       XML|2015-12-12|2024-12-29 20:56:27|1608250|       3.2.3|x86_64|darwin13.4.0|3.98-1.3|     US|   10|                  1916|10darwin13.4.03.9...|2015|   12| 12|\n| 16|doParallel|2015-12-12|2024-12-29 20:55:22| 173549|       3.2.3|x86_64|   linux-gnu|  1.0.10|     US|   11|                  1328|   11linux-gnu1.0.10|2015|   12| 12|\n| 17|     abind|2015-12-12|2024-12-29 20:56:14|  38159|       3.2.2|  i386|     mingw32|   1.4-3|     CA|   12|                   538|      12mingw321.4-3|2015|   12| 12|\n| 18|       h2o|2015-12-12|2024-12-29 20:56:17| 277704|          NA|    NA|          NA| 3.6.0.8|     GB|   13|                   136|         13NA3.6.0.8|2015|   12| 12|\n| 19|    xtable|2015-12-12|2024-12-29 20:56:27| 287846|       3.2.2|  i386|     mingw32|   1.8-0|     US|   10|                  2163|      10mingw321.8-0|2015|   12| 12|\n+---+----------+----------+-------------------+-------+------------+------+------------+--------+-------+-----+----------------------+--------------------+----+-----+---+\nonly showing top 20 rows\n\n"
     ]
    }
   ],
   "source": [
    "df_dev_date = df_dev_joined.withColumn(\"year\", f.year(df_dev_joined[\"date\"])) \\\n",
    "                 .withColumn(\"month\", f.month(df_dev_joined[\"date\"])) \\\n",
    "                 .withColumn(\"day\", f.dayofmonth(df_dev_joined[\"date\"]))\n",
    "\n",
    "df_dev_date.show()"
   ]
  },
  {
   "cell_type": "markdown",
   "metadata": {
    "application/vnd.databricks.v1+cell": {
     "cellMetadata": {},
     "inputWidgets": {},
     "nuid": "5edd7bbd-1e1e-42d3-9230-87ad27ff13ab",
     "showTitle": false,
     "tableResultSettingsMap": {},
     "title": ""
    }
   },
   "source": [
    "7)\tGuarde el fichero "
   ]
  },
  {
   "cell_type": "code",
   "execution_count": 0,
   "metadata": {
    "application/vnd.databricks.v1+cell": {
     "cellMetadata": {
      "byteLimit": 2048000,
      "rowLimit": 10000
     },
     "inputWidgets": {},
     "nuid": "300460de-8823-408c-a56c-90b9828c02f9",
     "showTitle": false,
     "tableResultSettingsMap": {},
     "title": ""
    }
   },
   "outputs": [],
   "source": [
    "df_dev_date.write.mode('overwrite').parquet('def_dev_date')"
   ]
  }
 ],
 "metadata": {
  "application/vnd.databricks.v1+notebook": {
   "computePreferences": null,
   "dashboards": [],
   "environmentMetadata": null,
   "language": "python",
   "notebookMetadata": {
    "pythonIndentUnit": 4
   },
   "notebookName": "Enunciado",
   "widgets": {}
  },
  "kernelspec": {
   "display_name": "Python 3 (ipykernel)",
   "language": "python",
   "name": "python3"
  },
  "language_info": {
   "codemirror_mode": {
    "name": "ipython",
    "version": 3
   },
   "file_extension": ".py",
   "mimetype": "text/x-python",
   "name": "python",
   "nbconvert_exporter": "python",
   "pygments_lexer": "ipython3",
   "version": "3.9.12"
  }
 },
 "nbformat": 4,
 "nbformat_minor": 0
}
