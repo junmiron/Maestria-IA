{
 "cells": [
  {
   "cell_type": "markdown",
   "id": "4132039a-5094-4bcd-a6d9-d0d65596be3d",
   "metadata": {},
   "source": [
    "### Ejercicio Práctico"
   ]
  },
  {
   "cell_type": "markdown",
   "id": "9b3cb2b1-3798-4c4a-bad8-07fd47c42bc8",
   "metadata": {},
   "source": [
    "Asignatura: Data Science y Big Data\n",
    "Máster en Inteligencia Artificial\n",
    "Prof. Ronal Muresano\n",
    "\n",
    "\n",
    "La práctica está compuesta por un conjunto de operaciones en Spark y al final de la práctica debe generar un fichero de tipo notebook que se tendrá que subir a la plataforma. \n",
    "\n",
    "La empresa de desarrollo de software CRAN (R studio) quiere que le diseñe una ETL en Spark que permita enriquecer su sistema de logs. Dentro de este proceso se incluye un primer CSV que esta compuesto de los logs y tiene nombre de “dataset.csv” y un segundo fichero que incluye la geografía “geography.csv”. \n",
    "\n",
    "Dentro de los campos del fichero de logs tenemos: \n"
   ]
  },
  {
   "cell_type": "markdown",
   "id": "3a6ee107-d06d-4d4c-ad85-ae541bab05ba",
   "metadata": {},
   "source": [
    "Ver documento"
   ]
  },
  {
   "cell_type": "markdown",
   "id": "eb26a780-748e-4298-be30-be39f97c7860",
   "metadata": {},
   "source": [
    "En el fichero de geografía tenemos: \n",
    "\n",
    "Ver documento"
   ]
  },
  {
   "cell_type": "markdown",
   "id": "b57d91e5-6392-4808-a9f4-10f9584e3e9f",
   "metadata": {},
   "source": [
    "1)\tLea el fichero y cargue cada dataframe con un esquema predeterminado. Además, rellene los elementos vacíos con 0 para las variables numéricas y “NOT-APPLICABLE” para el resto de string. "
   ]
  },
  {
   "cell_type": "code",
   "execution_count": null,
   "id": "04f17191-ca7b-4529-8ec0-7cf1ef9d55ad",
   "metadata": {},
   "outputs": [],
   "source": []
  },
  {
   "cell_type": "markdown",
   "id": "bfc87943-6a93-4802-bf23-22c72ae4cb3a",
   "metadata": {},
   "source": [
    "2)\tDetermine el número de paquetes por cada tipo descargado y añádalo como una nueva columna llamada “Num_Package_downloaded” al datraframe original "
   ]
  },
  {
   "cell_type": "code",
   "execution_count": null,
   "id": "9092eb7c-8260-454e-817e-238beed47a46",
   "metadata": {},
   "outputs": [],
   "source": []
  },
  {
   "cell_type": "markdown",
   "id": "a363c198-4ca9-4c31-b018-b08648bed8d6",
   "metadata": {},
   "source": [
    "3)\tSepare todos los dispositivos cuya arquitectura sea del tipo “x86-64” y realice las siguientes operaciones: \n",
    "\n",
    "a.\tConcatene la dirección IP, la versión del sistema operativo y la versión de R, este proceso lo debe hacer con una función UDF. \n",
    "\n",
    "b.\tLa columna resultante, inclúyala en el dataframe original como “Device_code”, recuerde hacer un identificador monolítico para poder hacer el mergeo de datasets.\n",
    "\n",
    "Nota: use un join para hacer este apartado.\n"
   ]
  },
  {
   "cell_type": "code",
   "execution_count": null,
   "id": "24a59822-b539-4f76-9a45-6adc192161ef",
   "metadata": {},
   "outputs": [],
   "source": []
  },
  {
   "cell_type": "markdown",
   "id": "09ae6c7a-195d-497b-977d-ff65a82e90ee",
   "metadata": {},
   "source": [
    "4)\tCarge el dataframe de la geografía y haga un join para enriquecer todas las columnas de la geografía en el dataframe original. "
   ]
  },
  {
   "cell_type": "code",
   "execution_count": null,
   "id": "b7a9f579-58da-4d7e-ba56-1c770bcc9ccd",
   "metadata": {},
   "outputs": [],
   "source": []
  },
  {
   "cell_type": "markdown",
   "id": "6eb5877c-864b-422a-80bd-80c835d4f601",
   "metadata": {},
   "source": [
    "5)\tMuestre un top 10 de los paquetes más descargados por país, sistema operativo y versión de R "
   ]
  },
  {
   "cell_type": "code",
   "execution_count": null,
   "id": "413e5304-9a72-4b8f-b72a-44315bdd8434",
   "metadata": {},
   "outputs": [],
   "source": []
  },
  {
   "cell_type": "markdown",
   "id": "90579e1d-edde-4576-8126-fff2f86b4e60",
   "metadata": {},
   "source": [
    "6)\tCrear una columna año, mes y día a partir de la columna date"
   ]
  },
  {
   "cell_type": "code",
   "execution_count": null,
   "id": "08447e32-f934-4bd2-99f2-cfbed798c23d",
   "metadata": {},
   "outputs": [],
   "source": []
  },
  {
   "cell_type": "markdown",
   "id": "51257eca-e577-4b1b-9ed4-300f96bc73be",
   "metadata": {},
   "source": [
    "7)\tGuarde el fichero "
   ]
  },
  {
   "cell_type": "code",
   "execution_count": null,
   "id": "51d18dd8-2c2c-4ddd-9775-1dfc625e3c09",
   "metadata": {},
   "outputs": [],
   "source": []
  }
 ],
 "metadata": {
  "kernelspec": {
   "display_name": "Python 3 (ipykernel)",
   "language": "python",
   "name": "python3"
  },
  "language_info": {
   "codemirror_mode": {
    "name": "ipython",
    "version": 3
   },
   "file_extension": ".py",
   "mimetype": "text/x-python",
   "name": "python",
   "nbconvert_exporter": "python",
   "pygments_lexer": "ipython3",
   "version": "3.9.12"
  }
 },
 "nbformat": 4,
 "nbformat_minor": 5
}
