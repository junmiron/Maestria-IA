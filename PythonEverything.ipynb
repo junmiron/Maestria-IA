{
 "cells": [
  {
   "cell_type": "markdown",
   "id": "8c01a973-ebf8-4ade-99ec-61ee130d5690",
   "metadata": {},
   "source": [
    "# Primeros pasos con Python"
   ]
  },
  {
   "cell_type": "markdown",
   "id": "e5f439ff-a6df-48d1-a4bb-3d14ade438d7",
   "metadata": {},
   "source": [
    "## 1. ¡Hola mundo! Entrada y salida por pantalla\n",
    "\n",
    "Nuestro primer programa en Python es (¡cómo no!) mostrar \"Hola mundo\" por pantalla. Es tradición iniciarse en cada lenguaje de programación con esta icónica grase. También es una forma sencilla de asegurarse de que el entorno de desarrollo está configurado correctamente y de que se puede ejecutar código sin problemas.\n",
    "\n",
    "Esta acción es muy simple en Python. Basta con escribir en la siguiente celda la función `print` y, a continuación, escribir entre paréntesis la frase entrecomillada `\"¡Hola mundo!\"`"
   ]
  },
  {
   "cell_type": "code",
   "execution_count": null,
   "id": "29832aae-4179-4836-8e25-b316ca76c9fb",
   "metadata": {},
   "outputs": [],
   "source": [
    "print(\"¡Hola mundo!\")"
   ]
  },
  {
   "cell_type": "markdown",
   "id": "9ec5e0aa-5fa5-4901-aa01-070de31f13dc",
   "metadata": {},
   "source": [
    "Efectivamente, se obtiene la salida de texto deseada justo debajo de la celda de código."
   ]
  },
  {
   "cell_type": "markdown",
   "id": "ad7b43d8-ad10-4314-8ad9-d4365931b52f",
   "metadata": {},
   "source": [
    "Por oposición, la función `input` en Python se utiliza para recibir entradas del usuario. Es decir, permite al usuario introducir datos en el programa, generalmente desde el teclado.\n",
    "Al ejecutarse, esta función requiere que el usuario escriba algo y presione Enter. Lo que el usuario escribe se devuelve como una cadena de texto."
   ]
  },
  {
   "cell_type": "code",
   "execution_count": null,
   "id": "65899719-4cd0-42c9-bfb8-182376fd875f",
   "metadata": {},
   "outputs": [],
   "source": [
    "# La entrada de texto de la función input se asigna a la variable nombre\n",
    "nombre = input(\"Por favor, introduce tu nombre: \")\n",
    "# La función print muestra de nuevo por pantalla el valor de la nueva variable\n",
    "print(\"Tu nombre es:\")\n",
    "print(nombre)"
   ]
  },
  {
   "cell_type": "markdown",
   "id": "c5277fec",
   "metadata": {},
   "source": []
  },
  {
   "cell_type": "markdown",
   "id": "fe498244-339a-45ec-a436-97e3eb93c584",
   "metadata": {},
   "source": [
    "El símbolo `#` mostrado en el ejemplo anterior se emplea para indicar que el texto que le sigue es un comentario. Este tipo de frases sobre el código son muy útiles para mejorar su legibilidad."
   ]
  },
  {
   "cell_type": "markdown",
   "id": "48106d71-1021-47c4-843c-69a384ebba80",
   "metadata": {},
   "source": [
    "## 2. Variables en Python\n",
    "Las variables son esenciales en cualquier lenguaje de programación. En Python, una variable permite referenciar un valor con un nombre específico. A diferencia de otros lenguajes, en Python no es necesario declarar el tipo de variable de antemano. El tipo de dato de la variable se determina dinámicamente en tiempo de ejecución.\n",
    "\n",
    "La asignación de Variables se realiza usando el operador `=`."
   ]
  },
  {
   "cell_type": "code",
   "execution_count": 5,
   "id": "66c59b93-9310-40a9-93c1-1ae7afdbc30d",
   "metadata": {},
   "outputs": [],
   "source": [
    "x = 5\n",
    "nombre = \"Juan\""
   ]
  },
  {
   "cell_type": "markdown",
   "id": "8f964132-80d2-4867-83cf-417d5ea608dc",
   "metadata": {},
   "source": [
    "Python tiene varios tipos de datos incorporados. Aunque más adelante se analizarán algunos de ellos con mayor detalle, los más comunes son:\n",
    "\n",
    "* **int**: números enteros.\n",
    "\n",
    "* **float**: números decimales.\n",
    "\n",
    "* **str**: cadenas de texto.\n",
    "\n",
    "* **tuple**: tuplas (listas inmutables).\n",
    "\n",
    "* **list**: listas de valores.\n",
    "\n",
    "\n",
    "* **dict**: diccionarios (mapeo entre pares)."
   ]
  },
  {
   "cell_type": "code",
   "execution_count": 9,
   "id": "0239deb1-42af-4752-b932-903dc9080d4b",
   "metadata": {},
   "outputs": [],
   "source": [
    "entero = 10\n",
    "decimal = 20.5\n",
    "texto = \"Esto es un string\"\n",
    "mi_tupla = (1, 2, 3)\n",
    "mi_lista = [1, 2, 3]\n",
    "mi_dict = {\"nombre\": \"Juan\", \"edad\": 25}"
   ]
  },
  {
   "cell_type": "markdown",
   "id": "a569dc8a",
   "metadata": {},
   "source": [
    "Cambia el primer valor de la tupla"
   ]
  },
  {
   "cell_type": "code",
   "execution_count": 17,
   "id": "150266ac",
   "metadata": {},
   "outputs": [],
   "source": [
    "tupla1 = \"Juan\", 28, 2.21"
   ]
  },
  {
   "cell_type": "markdown",
   "id": "76b48f28",
   "metadata": {},
   "source": [
    "### Errores, cuidado"
   ]
  },
  {
   "cell_type": "code",
   "execution_count": null,
   "id": "7975eea6",
   "metadata": {},
   "outputs": [],
   "source": [
    "tupla1[0] = 'Ana'"
   ]
  },
  {
   "cell_type": "markdown",
   "id": "f573ba60",
   "metadata": {},
   "source": [
    "### Esto bien"
   ]
  },
  {
   "cell_type": "code",
   "execution_count": 19,
   "id": "ffac59e2",
   "metadata": {},
   "outputs": [],
   "source": [
    "tupla1 = \"Juan\", 28, 2.21\n",
    "tupla1 = \"Ana\", 28, 2.21"
   ]
  },
  {
   "cell_type": "code",
   "execution_count": null,
   "id": "f1e4f8d8",
   "metadata": {},
   "outputs": [],
   "source": [
    "tupla1[0]"
   ]
  },
  {
   "cell_type": "code",
   "execution_count": null,
   "id": "e139f542",
   "metadata": {},
   "outputs": [],
   "source": []
  },
  {
   "cell_type": "markdown",
   "id": "5dac0fc3-8b95-4b80-b49e-04a0fda34bc5",
   "metadata": {},
   "source": [
    "Además, es posible asignar múltiples variables en una sola línea"
   ]
  },
  {
   "cell_type": "code",
   "execution_count": null,
   "id": "27c5f4d0-3fcf-4a25-aadc-c97dcc0e3412",
   "metadata": {},
   "outputs": [],
   "source": [
    "a, b, c = 5, 3.2, \"Hola\"\n",
    "print(a)\n",
    "print(b)\n",
    "print(c)"
   ]
  },
  {
   "cell_type": "markdown",
   "id": "ea93c89c-c126-4fdb-ae36-b41a0705db2f",
   "metadata": {},
   "source": [
    "Las variables pueden también ser locales o globales, según si pueden o no ser accedidas desde cualquier parte del código\n",
    "\n",
    "* **Globales**: se definen fuera de cualquier función y pueden ser accedidas desde cualquier parte del código, incluso dentro de funciones (siempre que no se haya definido una variable local con el mismo nombre).\n",
    "\n",
    "* **Locales**: se definen dentro de una función y sólo pueden ser accedidas y modificadas dentro de esa función.\n",
    "\n",
    "Aunque se analizan las funciones en un apartado posterior, se introducen en el ejemplo siguiente para estudiar el alcance de las variables"
   ]
  },
  {
   "cell_type": "code",
   "execution_count": null,
   "id": "785e34e4-62f9-4098-b709-5bdf9c68eaed",
   "metadata": {},
   "outputs": [],
   "source": [
    "# Se instancia una variable global\n",
    "variable_global = \"Soy global\"\n",
    "\n",
    "# Se construye una función dentro de la cual se instancia una variable local\n",
    "def mi_funcion():\n",
    "    variable_local = \"Soy local\"\n",
    "    print(variable_global)\n",
    "    print(variable_local)\n",
    "\n",
    "# La función puede acceder a ambas variables\n",
    "mi_funcion()\n",
    "# En cambio, no se puede acceder a la variable local desde fuera de la función (descomentar para ver error)\n",
    "# print(variable_local)"
   ]
  },
  {
   "cell_type": "markdown",
   "id": "7e014de1-9d68-43fc-a55e-ff775b0ebad3",
   "metadata": {},
   "source": [
    "---\n",
    "**Ejercicio 1.** Se quiere construir una simple calculadora que determina el IVA (Impuesto al Valor Agregado) de un producto basado en su precio original. El precio del producto es proporcionado por el usuario como una cadena de texto, y la tasa del IVA es del 21%.\n",
    "Se ha de pedir al usuario que ingrese el precio del producto como una cadena de texto. A continuación se ha de calcular el IVA, mostrarlo por pantalla y calcular el precio total (precio original + IVA)."
   ]
  },
  {
   "cell_type": "code",
   "execution_count": null,
   "id": "a8e8bed6-3634-424b-9991-460ade342263",
   "metadata": {},
   "outputs": [],
   "source": [
    "precio_sin_IVA = input(\"Introduce el precio del producto sin IVA: \")\n",
    "precio_sin_IVA = float(precio_sin_IVA)\n",
    "IVA = precio_sin_IVA * 0.21\n",
    "print(\"El IVA del producto es:\")\n",
    "print(IVA)\n",
    "precio_con_IVA = precio_sin_IVA + IVA\n",
    "print(\"El precio del producto con IVA es:\")\n",
    "print(precio_con_IVA)"
   ]
  },
  {
   "cell_type": "markdown",
   "id": "f76aacd0-f278-40c9-9bb3-9e80ff629c63",
   "metadata": {},
   "source": [
    "---\n",
    "**Ejercicio 2.** Calcula la energía cinética de un móvil, dada por la fórmula\n",
    "$\n",
    "E_C=\\frac{1}{2}mv^2\\,\\,,\n",
    "$\n",
    "donde la masa $m$ y la velocidad $v$ son datos proporcionados por el usuario.\n"
   ]
  },
  {
   "cell_type": "code",
   "execution_count": null,
   "id": "a214831c-1436-48ba-b010-1f11c966e18f",
   "metadata": {},
   "outputs": [],
   "source": [
    "# Inputs del usuario\n",
    "masa_str = input(\"Introduce la masa del móvil en kilogramos: \")\n",
    "velocidad_str = input(\"Introduce la velocidad del móvil en metros por segundo: \")\n",
    "# Transformación de los datos a float\n",
    "masa = float(masa_str)\n",
    "velocidad = float(velocidad_str)\n",
    "# Cálculo de la energía cinética\n",
    "energia_cinetica = 0.5 * masa * velocidad * velocidad\n",
    "# Salida por pantalla\n",
    "print(\"La energía cinética del móvil en julios es: \")\n",
    "print(energia_cinetica)"
   ]
  },
  {
   "cell_type": "markdown",
   "id": "d9e036f6-aae8-40b0-a35f-da4bb9ad8995",
   "metadata": {},
   "source": [
    "## 3. Función print en Python\n",
    "\n",
    "Ya que es la primera función que hemos empleado, vamos a analizar más profundamente la función `print`.\n",
    "La función print se utiliza para enviar datos, ya sea texto o variables, a la salida estándar (generalmente la consola o pantalla). Aunque a simple vista parece sencilla, ofrece una variedad de opciones para personalizar su comportamiento.\n",
    "\n",
    "La función `print` admite como argumentos cualquier número de objetos en una misma llamada de la función. Cada uno de estos objetos se introducen separados por comas."
   ]
  },
  {
   "cell_type": "code",
   "execution_count": null,
   "id": "6b0f744e-b8ec-4d67-9e28-38d3f063601d",
   "metadata": {},
   "outputs": [],
   "source": [
    "print(\"El resultado de dividir\", 5, \"entre\", 8, \"es\", 5/8)"
   ]
  },
  {
   "cell_type": "markdown",
   "id": "d6c4a170-0f86-419f-aa13-083825d5116a",
   "metadata": {},
   "source": [
    "La función `print` admite diferentes tipos de datos. Aunque los distintos tipos se analizan en el apartado siguiente, en este caso se han introducido variables de tipo texto, variables númericas y una operación aritmética.\n",
    "Además, el resultado de la operación genera el resultado deseado."
   ]
  },
  {
   "cell_type": "markdown",
   "id": "aa87dc99-659a-4dd2-a524-8eb4127a7847",
   "metadata": {},
   "source": [
    "La función `print` también acepta variables como entrada y devuelve el contenido de las mismas."
   ]
  },
  {
   "cell_type": "code",
   "execution_count": null,
   "id": "f3265265-9a6f-4271-abd3-4ab09f9abfbd",
   "metadata": {},
   "outputs": [],
   "source": [
    "via = \"Avenida\"\n",
    "nombre = \"Baleares\"\n",
    "numero = 7\n",
    "piso = 2\n",
    "puerta = 4\n",
    "print(\"Vivo en la calle:\")\n",
    "print(via, nombre, numero, piso, puerta)"
   ]
  },
  {
   "cell_type": "markdown",
   "id": "33e08aa0-a321-422e-b9dc-0ebb1c6bea00",
   "metadata": {},
   "source": [
    "Cabe notar que la salida de la función `print` añade un espacio entre cada argumento.\n",
    "Esto se puede modificar incorporando el argumento opcionales `sep` (de separación) al final de la función `print`"
   ]
  },
  {
   "cell_type": "code",
   "execution_count": null,
   "id": "3c8af3e9-a528-4599-8142-606f8241f937",
   "metadata": {},
   "outputs": [],
   "source": [
    "print(\"La tabla de multiplicar del 5 es:\")\n",
    "print(5*1, 5*2, 5*3, 5*4, 5*5, 5*6, 5*7, 5*8, 5*9, 5*10, sep=\", \")"
   ]
  },
  {
   "cell_type": "markdown",
   "id": "74a78ea1-fca8-4c76-a761-ff260dd6d70b",
   "metadata": {},
   "source": [
    "Asimismo, la función `print` también introduce un salto de línea al final de la salida. \n",
    "Este comportamiento se puede alterar con el argumento opcional `end`."
   ]
  },
  {
   "cell_type": "code",
   "execution_count": null,
   "id": "d837a950-bb37-47d6-a4cd-c6ed2848a3d6",
   "metadata": {},
   "outputs": [],
   "source": [
    "print(\"La tabla de multiplicar del 5 es:\", end=\" \")\n",
    "print(5*1, 5*2, 5*3, 5*4, 5*5, 5*6, 5*7, 5*8, 5*9, 5*10, sep=\", \")"
   ]
  },
  {
   "cell_type": "markdown",
   "id": "471c8643-e33c-4c9c-808e-1175caf706e5",
   "metadata": {},
   "source": [
    "---\n",
    "\n",
    "**Ejercicio 3.** Se desea generar una salida de texto que incluya los nombres completos de cuatro estudiantes, las notas en dos exámenes parciales y su calificación final. El resultado ha de presentarse en formato CSV (comma separated values), es decir, la información de cada estudiante ha de presentarse por líneas y separada por comas. Además, se ha de incluir un encabezado con el nombre de las variables. La información de los estudiantes es la siguiente:\n",
    "\n",
    "| nombre | apellido1 | apellido2 | examen1 | examen2 |\n",
    "| --- | --- | --- | --- | --- |\n",
    "| Juan | Pérez | Benedí | 5.8 | 8.5 |\n",
    "| María José | Álvarez | Ortega | 9.5 | 9.1 |\n",
    "| Salvador | Navarro | Gil | 3.2 | 6.4 |"
   ]
  },
  {
   "cell_type": "code",
   "execution_count": null,
   "id": "d1d83f5c-172e-4001-9e3d-8f497c85beca",
   "metadata": {},
   "outputs": [],
   "source": [
    "# En primer lugar asignamos las variables\n",
    "nombre_1 = \"Juan\"\n",
    "apellido1_1 = \"Pérez\"\n",
    "apellido2_1 = \"Benedí\"\n",
    "examen1_1 = 5.8\n",
    "examen2_1 = 8.5\n",
    "nombre_2 = \"María José\"\n",
    "apellido1_2 = \"Álvarez\"\n",
    "apellido2_2 = \"Ortega\"\n",
    "examen1_2 = 9.5\n",
    "examen2_2 = 9.1\n",
    "nombre_3 = \"Salvador\"\n",
    "apellido1_3 = \"Navarro\"\n",
    "apellido2_3 = \"Gil\"\n",
    "examen1_3 = 3.2\n",
    "examen2_3 = 6.5\n",
    "\n",
    "# La primera línea de la salida es el encabezado\n",
    "print(\"nombre\", \"apellido1\", \"apellido2\", \"examen1\", \"examen2\", \"nota final\", sep=\",\")\n",
    "# Las siguientes líneas corresponden a cada estudiarnte\n",
    "print(nombre_1, apellido1_1, apellido2_1, examen1_1, examen2_1, (examen1_1 + examen2_1) / 2, sep=\",\")\n",
    "print(nombre_2, apellido1_2, apellido2_2, examen1_2, examen2_2, (examen1_2 + examen2_2) / 2, sep=\",\")\n",
    "print(nombre_3, apellido1_3, apellido2_3, examen1_3, examen2_3, (examen1_3 + examen2_3) / 2, sep=\",\")"
   ]
  },
  {
   "cell_type": "markdown",
   "id": "b478210f-781e-4fae-b59e-133b25e6241f",
   "metadata": {},
   "source": [
    "## 4. Precedencia de operadores\n",
    "\n",
    "La precedencia de operadores determina el orden en el que se evalúan las operaciones en una expresión. Al manipular una expresión que utiliza múltiples operadores, es importante entender esta precedencia para saber cómo se evaluará la expresión.\n",
    "\n",
    "La precedencia de operadores en Python, desde la más alta a la más baja, es:\n",
    "\n",
    "| Precedencia | Operador | Nombre | Función |\n",
    "| --- | --- | --- | --- |\n",
    "|  1 | () | Paréntesis | |\n",
    "|  2 | ** | Potencia | Eleva el término de la izquierda al término de la derecha |\n",
    "|  3 | +x, -x | Signo | |\n",
    "|  4 | \\* | Multiplicación | |\n",
    "|    | /  | División | |\n",
    "|    | // | División entera | Calcula el cociente de la división entera | \n",
    "|    | %  | Módulo | Calcula el resto de la división entera |\n",
    "|  5 | + | Suma  | |\n",
    "|    | - | Resta | |\n",
    "|  6 | == | Igualdad | Compara la igualdad de dos términos |\n",
    "|    | != | Desigualdad | Compara la desigualdad de dos términos |\n",
    "|  7 | < | Menor que |  |\n",
    "|    | <= | Menor o igual que |  |\n",
    "|    | > | Mayor que |  |\n",
    "|    | >= | Mayor o igual que |  |\n",
    "|  8 | =  | Asignación | |\n",
    "|    | += | Suma y asigna | |\n",
    "|    | -= | Resta y asigna | |\n",
    "|    | \\*= | Multiplica y asigna | |\n",
    "|    | /= | Divide y asigna | |\n",
    "|  9 | not | NOT lógico | Niega la variable |\n",
    "|    | and | AND lógico | Conjunción de dos variables lógicas |\n",
    "|    | or  | OR lógico  | Disyunción de dos variables lógicas | \n",
    "| 10 | is  | identidad |  |\n",
    "|    | is not | identidad negada | |\n",
    "| 11 | in | membresía | Pertenencia a un conjunto |\n",
    "|    | not in | membresía negada | No pertenencia a un conjunto |\n",
    "\n"
   ]
  },
  {
   "cell_type": "markdown",
   "id": "38f9b773",
   "metadata": {},
   "source": [
    "En el ejemplo siguiente se muestra cómo actúa la precedencia operacional."
   ]
  },
  {
   "cell_type": "code",
   "execution_count": null,
   "id": "e5b8c951",
   "metadata": {},
   "outputs": [],
   "source": [
    "x = 10\n",
    "y = 20\n",
    "z = 30\n",
    "\n",
    "resultado = x + y * z > 600 or y - z < -10\n",
    "\n",
    "\"\"\"\n",
    "Atendiendo al criterio de precedencia, en primer lugar se asigna el signo - al número 10.\n",
    "En segundo lugar actúa el operador *, seguido de el operador + y el -,\n",
    "de modo que cada operación aritmética queda resuelta.\n",
    "Les sigue la aplicación de los operadores de comparación, en orden de aparición.\n",
    "Finalmente, se aplica el or lógico.\n",
    "\"\"\"\n",
    "print(resultado)"
   ]
  },
  {
   "cell_type": "markdown",
   "id": "c2a8b349",
   "metadata": {},
   "source": [
    "---\n",
    "\n",
    "**Ejercicio 4.** Emilia está planeando salir a pasear en bicicleta. Sin embargo, quiere asegurarse de que el día sea óptimo en términos de condiciones meteorológicas y según su propio horario.\n",
    "La temperatura debe ser mayor a 10 grados Celsius pero menor a 30 grados Celsius para que el clima sea agradable.\n",
    "Si la temperatura es mayor a 30 grados Celsius, entonces la humedad ha de ser menor al 20%.\n",
    "Debes tener al menos 1 hora más libre que la duración del paseo, para tener tiempo de preparación y descanso.\n",
    "- a) Expresa todas las condiciones anteriores en una única sentencia. Las variables son las siguientes:\n",
    "\n",
    "| Variable | Definición |\n",
    "| --- | --- |\n",
    "| temperatura | Temperatura actual en grados Celsius |\n",
    "| humedad | Humedad un porcentaje |\n",
    "| horas_libres | Cuántas horas tienes libres hoy |\n",
    "| duracion_paseo | Cuántas horas normalmente toma tu paseo en bicicleta |\n",
    "\n",
    "- b) Evalúa la expresión anterior para los siguientes valores:Dados los valores para las variables anteriores, evalúa la siguiente expresión:\n",
    "\n",
    "| Variable | Valor |\n",
    "| --- | --- |\n",
    "| temperatura | 22 |\n",
    "| Humedad | 10 |\n",
    "| horas_libres | 3 |\n",
    "| duracion_paseo | 1.5 |\n",
    "\n",
    "¿Es un buen día para pasear en bicicleta?\n"
   ]
  },
  {
   "cell_type": "code",
   "execution_count": null,
   "id": "9f2f7645-da76-4e30-834d-c0caab1fa674",
   "metadata": {},
   "outputs": [],
   "source": [
    "# a)\n",
    "# Expresamos la sentencia comentada ya que todavía no se ha asignado valor a las variables\n",
    "# mi_sentencia = (temperatura > 10 and temperatura < 30) or (temperatura > 30 and humedad < 20) and horas_libres > (duracion_paseo + 1)\n",
    "\n",
    "# b)\n",
    "temperatura = 22\n",
    "humedad = 10\n",
    "horas_libres = 3\n",
    "duracion_paseo = 1.5\n",
    "mi_sentencia = (temperatura > 10 and temperatura < 30) or (temperatura > 30 and humedad < 20) and (horas_libres > (duracion_paseo + 1))\n",
    "print(mi_sentencia)\n",
    "# Como el output es True significa que ha salido un buen día para pasear en bicicleta según Emilia"
   ]
  },
  {
   "cell_type": "markdown",
   "id": "e4cae02d",
   "metadata": {},
   "source": [
    " "
   ]
  },
  {
   "cell_type": "markdown",
   "id": "9c7fbd85",
   "metadata": {},
   "source": [
    "# Cadenas y listas"
   ]
  },
  {
   "cell_type": "markdown",
   "id": "fb7f7638",
   "metadata": {},
   "source": [
    "## 1. Cadenas "
   ]
  },
  {
   "cell_type": "markdown",
   "id": "c68f6c2f",
   "metadata": {},
   "source": [
    "### Definición"
   ]
  },
  {
   "cell_type": "markdown",
   "id": "6624b4c5",
   "metadata": {},
   "source": [
    "Las cadenas o strings son secuencias de caracteres. En python, se introducen usando comillas simples `'` o dobles `\"`. No obstante, toda cadena tiene que estar iniciada y cerrada con el mismo símbolo de comillas.  "
   ]
  },
  {
   "cell_type": "code",
   "execution_count": 1,
   "id": "8c457026",
   "metadata": {},
   "outputs": [
    {
     "name": "stdout",
     "output_type": "stream",
     "text": [
      "Esto es una cadena en Python\n",
      "Esto es una cadena en Python\n"
     ]
    }
   ],
   "source": [
    "# Las cadenas siguientes son idénticas\n",
    "cadena1 = 'Esto es una cadena en Python'\n",
    "cadena2 = \"Esto es una cadena en Python\"\n",
    "print(cadena1)\n",
    "print(cadena2)"
   ]
  },
  {
   "cell_type": "markdown",
   "id": "05156707",
   "metadata": {},
   "source": [
    "Una cadena vacía se implementa con dos comillas (del mismo tipo) sin ningún carácter en medio: \n",
    "`''`"
   ]
  },
  {
   "cell_type": "markdown",
   "id": "e7b0eeec",
   "metadata": {},
   "source": [
    "### Operaciones básicas con cadenas"
   ]
  },
  {
   "cell_type": "markdown",
   "id": "f272cd72",
   "metadata": {},
   "source": [
    "Las cadenas permiten ciertas operaciones mal llamadas \"aritméticas\", pues no lo son en el sentido tradicional. Las dos operaciones principales que puedes realizar con cadenas son la concatenación y la replicación.\n",
    "\n",
    "La concatenación de cadenas se implementa con el operador `+`, que da lugar a una nueva cadena formada por la primera cadena seguida de la segunda. Del mismo modo, el operador de suma y asignación `+=` concatena dos cadenas y la reasigna a la variable de la primera."
   ]
  },
  {
   "cell_type": "code",
   "execution_count": 2,
   "id": "973bf327",
   "metadata": {},
   "outputs": [
    {
     "name": "stdout",
     "output_type": "stream",
     "text": [
      "Mi nombre es José Luis\n",
      "Mi nombre es José Luis García Montalvo\n"
     ]
    }
   ],
   "source": [
    "# La cadena c es la suma de tres cadenas: a, el espacio\n",
    "a = \"Mi nombre es\"\n",
    "b = \"José Luis\"\n",
    "c = a + \" \" + b\n",
    "print(c)\n",
    "# Para extender la cadena podemos emplear el operador +=\n",
    "d = \"García Montalvo\"\n",
    "c += \" \" + d\n",
    "print(c)"
   ]
  },
  {
   "cell_type": "markdown",
   "id": "e7e696a0",
   "metadata": {},
   "source": [
    "El símbolo `*` seguido de un entero positivo $n$ reproduce $n$ veces la misma cadena"
   ]
  },
  {
   "cell_type": "code",
   "execution_count": 3,
   "id": "f18537c1",
   "metadata": {},
   "outputs": [
    {
     "name": "stdout",
     "output_type": "stream",
     "text": [
      "nanananananananananabatman\n"
     ]
    }
   ],
   "source": [
    "cadena = \"na\" * 10 + 'batman'\n",
    "print(cadena)"
   ]
  },
  {
   "cell_type": "markdown",
   "id": "7bef1cc8",
   "metadata": {},
   "source": [
    "Sin embargo, hay ciertas operaciones que no están permitidas con cadenas, como la resta o la división de cadenas. Si intentas hacerlo, Python te devolverá un error.\n",
    "\n",
    "Cabe destacar que, mientras en muchos lenguajes la concatenación de cadenas puede ser una operación costosa en términos de rendimiento, en Python es bastante eficiente. No obstante, si necesitas realizar muchas concatenaciones en un bucle, a menudo es más eficiente usar métodos como `''.join(lista_de_cadenas)` para combinar todas las cadenas en una lista en una sola cadena."
   ]
  },
  {
   "cell_type": "markdown",
   "id": "250af1f5",
   "metadata": {},
   "source": [
    "### Acceso a caracteres"
   ]
  },
  {
   "cell_type": "markdown",
   "id": "1987b48e",
   "metadata": {},
   "source": [
    "Las cadenas funcionan internamente como un array de caracteres, de modo que es posible acceder a ellos usando índices. \n",
    "Para acceder a un carácter en una posición específica en una cadena se utiliza el índice del carácter entre corchetes `[]`. Se ha de tener en cuenta que el primer carácter tiene por índice cero. \n",
    "\n",
    "Además, la utilización de índices negativos en las cadenas equivale a acceder a la posición representada en valor absoluto pero comenzando por el final de la cadena y siendo -1 la última posición."
   ]
  },
  {
   "cell_type": "code",
   "execution_count": 5,
   "id": "7cc02aa7",
   "metadata": {},
   "outputs": [
    {
     "name": "stdout",
     "output_type": "stream",
     "text": [
      "R,  , l, d\n"
     ]
    }
   ],
   "source": [
    "mi_cadena = \"Rafa Nadal\"\n",
    "primer_caracter = mi_cadena[0]\n",
    "quinto_caracter = mi_cadena[4]\n",
    "ultimo_caracter = mi_cadena[-1]\n",
    "antepenultimo_caracter = mi_cadena[-3]\n",
    "print(primer_caracter, quinto_caracter, ultimo_caracter, antepenultimo_caracter, sep=', ')"
   ]
  },
  {
   "cell_type": "markdown",
   "id": "fabb24ef",
   "metadata": {},
   "source": [
    "Las cadenas en Python son inmutables, lo que significa que al intentar modificar cualquier caracter particular de una cadena Python emite un error. Al realizar cualquier operación sobre una cadena en realidad se está creando una nueva cadena, dejando la original sin ningún cambio."
   ]
  },
  {
   "cell_type": "code",
   "execution_count": 7,
   "id": "8bd5b205",
   "metadata": {},
   "outputs": [],
   "source": [
    "a = \"Soy inmutable\"\n",
    "# Al descomentar la siguiente línea aparece un error, debido a que las cadenas son inmutables.\n",
    "#a[7] = 'K'"
   ]
  },
  {
   "cell_type": "markdown",
   "id": "870456a5",
   "metadata": {},
   "source": [
    "### Slices (subcadenas)"
   ]
  },
  {
   "cell_type": "markdown",
   "id": "4a85a6f6",
   "metadata": {},
   "source": [
    "La segmentación de cadenas en Python permite extraer una subcadena o slice de una cadena (en general, de cualquier objeto indexable) utilizando un rango de índices.\n",
    "\n",
    "La sintaxis básica de una subcadena es:\n",
    "\n",
    "`subcadena = cadena[inicio:fin]`\n",
    "\n",
    "donde `inicio` es el primer carácter de la subcadena y `fin` es el primer carácter que no se incluye en la subcadena, es decir, `fin - 1` es el último carácter de la subcadena."
   ]
  },
  {
   "cell_type": "code",
   "execution_count": 8,
   "id": "3a5498fb",
   "metadata": {},
   "outputs": [
    {
     "name": "stdout",
     "output_type": "stream",
     "text": [
      "azo\n"
     ]
    }
   ],
   "source": [
    "cadena = \"Amazonas\"\n",
    "subcadena = cadena[2:5]\n",
    "print(subcadena)"
   ]
  },
  {
   "cell_type": "markdown",
   "id": "dc6ae084",
   "metadata": {},
   "source": [
    "En caso de omisión de `inicio` se sobrentiende que se ha de extraer una subcadena que parte del primer carácter de la cadena original. Equivalentemente, la omisión de `fin` indica que la subcadena llega hasta el final de la cadena original."
   ]
  },
  {
   "cell_type": "code",
   "execution_count": 9,
   "id": "b43664f9",
   "metadata": {},
   "outputs": [
    {
     "name": "stdout",
     "output_type": "stream",
     "text": [
      "Amaz\n",
      "azonas\n"
     ]
    }
   ],
   "source": [
    "subcadena1 = cadena[:4]   # Desde el principio hasta el índice 3.\n",
    "subcadena2 = cadena[2:]   # Desde el índice 2 hasta el final.\n",
    "print(subcadena1)\n",
    "print(subcadena2)"
   ]
  },
  {
   "cell_type": "markdown",
   "id": "5fda8e26",
   "metadata": {},
   "source": [
    "Como ocurre en el caso del acceso a índices, los valores negativos indican posiciones en la cadena partiendo desde el final de la misma. En todo caso, la posición real representada como inicio ha de ser menor al valor representado en fin."
   ]
  },
  {
   "cell_type": "code",
   "execution_count": 10,
   "id": "716e9716",
   "metadata": {},
   "outputs": [
    {
     "name": "stdout",
     "output_type": "stream",
     "text": [
      "ona\n"
     ]
    }
   ],
   "source": [
    "subcadena3 = cadena[-4:-1] # Desde la cuarta última posición hasta la última (sin incluirla)\n",
    "print(subcadena3)"
   ]
  },
  {
   "cell_type": "markdown",
   "id": "17d47dca",
   "metadata": {},
   "source": [
    "Se puedes agregar un tercer valor en los corchetes para indicar el paso o incremento. Este argumento opcional determina cada cuántos elementos se extrae un carácter."
   ]
  },
  {
   "cell_type": "code",
   "execution_count": 12,
   "id": "47811d03",
   "metadata": {},
   "outputs": [
    {
     "name": "stdout",
     "output_type": "stream",
     "text": [
      "aeuia\n"
     ]
    }
   ],
   "source": [
    "cadena = \"Caperucita roja\"\n",
    "subcadena = cadena[1:-5:2] # Extrae desde el índice 1 una de cada dos letras hasta la posición -5\n",
    "print(subcadena)"
   ]
  },
  {
   "cell_type": "markdown",
   "id": "b462ca32",
   "metadata": {},
   "source": [
    "El paso también puede tomar valores negativos. Un caso particular de gran interés es su utilización para invertir cadenas "
   ]
  },
  {
   "cell_type": "code",
   "execution_count": 13,
   "id": "ca2c5dfc",
   "metadata": {},
   "outputs": [
    {
     "name": "stdout",
     "output_type": "stream",
     "text": [
      "ajor aticurepaC\n"
     ]
    }
   ],
   "source": [
    "cadena = \"Caperucita roja\"\n",
    "cadena_invertida = cadena[::-1] # Desde el principio hasta el final con paso regresivo\n",
    "print(cadena_invertida)"
   ]
  },
  {
   "cell_type": "markdown",
   "id": "10d50a2f",
   "metadata": {},
   "source": [
    "---\n",
    "**Ejercicio 1.**\n",
    "Los números de cuenta bancarios internacionales (IBAN) disponen 24 caracteres agrupados de la siguiente manera. Los cuatro caracteres iniciales son dos letras y dos números relativos al país. A continuación, le sigue un número de cuenta de 20 caracteres numéricos. Los cuatro primeros dígitos de este número representan el código de banco y los cuatro siguientes el de la sucursal. Le siguen dos dígitos de control y, finalmente, el código de la cuenta del cliente compuesto por los 10 dígitos restantes. Escribe un programa que pida al usuario un número de cuenta de 24 caracteres. A continuación, desglosa esta entrada en código de país, código de banco, código de sucursal, dígito de control y código de la cuenta del cliente."
   ]
  },
  {
   "cell_type": "code",
   "execution_count": 20,
   "id": "de368f4b",
   "metadata": {},
   "outputs": [
    {
     "name": "stdout",
     "output_type": "stream",
     "text": [
      "ES12 3456 7890 12 3456789012\n"
     ]
    }
   ],
   "source": [
    "iban = input(\"Introduce tu iban:\")\n",
    "if len(iban) != 24:\n",
    "   raise TypeError ('error')\n",
    "codigo_pais = iban[0:4]\n",
    "codigo_banco = iban[4:8]\n",
    "codigo_sucursal = iban[8:12]\n",
    "digito_control = iban[12:14]\n",
    "codigo_cuenta_cliente = iban[14:]\n",
    "\n",
    "print(codigo_pais, codigo_banco, codigo_sucursal, digito_control, codigo_cuenta_cliente)"
   ]
  },
  {
   "cell_type": "markdown",
   "id": "9320ca16",
   "metadata": {},
   "source": [
    "### Pertenencia"
   ]
  },
  {
   "cell_type": "markdown",
   "id": "841c9b0a",
   "metadata": {},
   "source": [
    "El operador `in` es el operador de pertenencia en Python. Al aplicarlo en una cadena, el operador `in` devuelve True si una subcadena está contenido al menos una vez en una cadena:\n",
    "\n",
    "`subcadena in cadena`\n",
    "\n",
    "y False en caso contrario. Igualmente, el operador `not in` es la negación de dicho operador y devuelve True en el caso de que una subcadena elemento no se halle en la cadena:\n",
    "\n",
    "`subcadena not in cadena`"
   ]
  },
  {
   "cell_type": "code",
   "execution_count": 21,
   "id": "056aa4ee",
   "metadata": {},
   "outputs": [
    {
     "name": "stdout",
     "output_type": "stream",
     "text": [
      "True\n",
      "True\n",
      "False\n",
      "False\n"
     ]
    }
   ],
   "source": [
    "cadena = '¡Hola caracola!'\n",
    "print('a' in cadena)\n",
    "print('ola' in cadena)\n",
    "print('u' in cadena)\n",
    "print('Hla' in cadena)  # Aunque se encuentren todos los caracteres individualmente,\n",
    "                        # no aparece la subcadena de forma seguida"
   ]
  },
  {
   "cell_type": "markdown",
   "id": "fb6aeeb4",
   "metadata": {},
   "source": [
    "### Métodos en cadenas"
   ]
  },
  {
   "cell_type": "markdown",
   "id": "3e9660d4",
   "metadata": {},
   "source": [
    "Las cadenas en Python tienen un conjunto de métodos incorporados que permiten realizar diversas operaciones y transformaciones. \n",
    "\n",
    "Una de las funciones más empleadas en python es la función longitud `len`. Esta función, aplicada sobre una cadena retorna el número de caracteres que conforman la cadena"
   ]
  },
  {
   "cell_type": "code",
   "execution_count": 22,
   "id": "0b33573e",
   "metadata": {},
   "outputs": [
    {
     "name": "stdout",
     "output_type": "stream",
     "text": [
      "La longitud de la cadena es 24\n"
     ]
    }
   ],
   "source": [
    "cadena = \"En un lugar de la Mancha\"\n",
    "l = len(cadena)\n",
    "print(\"La longitud de la cadena es\", l)"
   ]
  },
  {
   "cell_type": "markdown",
   "id": "c8552e97",
   "metadata": {},
   "source": [
    "A continuación, se presentan algunas de las funciones preimplementadas de la clase string más utilizadas. A diferencia de la función `len`, que es una función general de Python, los siguientes métodos actúan como propiedades de cualquier cadena y se invocan mediante un punto seguido de la función:\n",
    "\n",
    "[`cadena.funcion_preimplementada()`](https://docs.python.org/es/3.9/library/functions.html)\n",
    "\n",
    "| Función preimplementada | Descripción |\n",
    "| --- | --- |\n",
    "| capitalize() | Convierte el primer caracter de la cadena en mayúsculas y el resto en minúsculas |\n",
    "| title() | Convierte el primer carácter de cada palabra en mayúsculas |\n",
    "| upper() | Convierte la cadena completa a mayúsculas |\n",
    "| lower() | Convierte la cadena completa a minúsculas |\n",
    "| swapcase() | Intercambia mayúsculas y minúsculas |\n",
    "| count(\\<subcadena\\>) | Retorna el número de veces que aparece \\<subcadena\\> en la cadena |\n",
    "| find(\\<subcadena\\>) | Retorna el índice del inicio de la primera aparición de \\<subcadena\\> en la cadena |\n",
    "|  | Si no se encuentra, el método devuelve -1. |\n",
    "| replace(\\<subcadena_old\\>, \\<subcadena_new\\> | Reemplaza las apariciones de \\<subcadena_old\\> por \\<subcadena_new\\> |\n",
    "| strip() | Elimina los espacios en blanco al principio o final de la cadena |\n",
    "| split(\\<sep\\>) | Divide la cadena en subcadenas basadas en el delimitador \\<sep\\> |\n",
    "|  | Si no se especifica, se utiliza el espacio en blanco. |\n",
    "| isdigit() | Retorna True si todos los caracteres son dígitos |\n",
    "| isalpha() | Retorna True si todos los caracteres son letras |"
   ]
  },
  {
   "cell_type": "code",
   "execution_count": 27,
   "id": "8fbd0ba1",
   "metadata": {},
   "outputs": [
    {
     "name": "stdout",
     "output_type": "stream",
     "text": [
      "capitalize(): Universidad europea de valencia \n",
      "title(): Universidad Europea De Valencia \n",
      "lower(): universidad europea de valencia \n",
      "swapcase(): uNIVERSIDAD EUROPEA DE vALENCIA \n",
      "count('a'): 4\n",
      "find('a'): 9\n",
      "replace('a', 'y'): Universidyd europey de Vylenciy \n",
      "strip(): Universidad europea de Valencia\n",
      "split(): ['Universidad', 'europea', 'de', 'Valencia']\n",
      "isdigit(): False\n",
      "isalpha(): False\n"
     ]
    }
   ],
   "source": [
    "cadena = \"Universidad europea de Valencia \"\n",
    "print(\"capitalize():\" , cadena.capitalize())\n",
    "print(\"title():\" , cadena.title())\n",
    "print(\"lower():\" , cadena.lower())\n",
    "print(\"swapcase():\" , cadena.swapcase())\n",
    "print(\"count('a'):\" , cadena.count('a'))\n",
    "print(\"find('a'):\" , cadena.find('a'))\n",
    "print(\"replace('a', 'y'):\" , cadena.replace('a', 'y'))\n",
    "print(\"strip():\" , cadena.strip())\n",
    "print(\"split():\" , cadena.split())\n",
    "print(\"isdigit():\", cadena.isdigit())\n",
    "print(\"isalpha():\", cadena.isalpha())"
   ]
  },
  {
   "cell_type": "markdown",
   "id": "66d24ca8",
   "metadata": {},
   "source": [
    "---\n",
    "**Ejercicio 2.** Implementa un programa que lea por pantalla una dirección de correo electrónico y consiga separar el nombre de usuario, el dominio y la terminación. Por ejemplo, ante la entrada de \"hola.mundo@server.com\" ha de separar \"hola.mundo\", \"server\", y \"com\". "
   ]
  },
  {
   "cell_type": "code",
   "execution_count": 39,
   "id": "276cc8cd",
   "metadata": {},
   "outputs": [
    {
     "name": "stdout",
     "output_type": "stream",
     "text": [
      "User: hola.mundo \n",
      "Dom: server \n",
      "Dot: com\n"
     ]
    }
   ],
   "source": [
    "s = \"hola.mundo@server.com\"\n",
    "\n",
    "s_split = s.split('@')\n",
    "dom_split = s_split[1].split('.')\n",
    "\n",
    "user = s_split[0]\n",
    "dom = dom_split[0]\n",
    "dot = dom_split[1]\n",
    "\n",
    "print('User:', user, '\\nDom:', dom, '\\nDot:', dot)"
   ]
  },
  {
   "cell_type": "markdown",
   "id": "7fadcf57",
   "metadata": {},
   "source": [
    "### Función format y fstrings"
   ]
  },
  {
   "cell_type": "markdown",
   "id": "06f9dcf9",
   "metadata": {},
   "source": [
    "La función `format()` es utilizada en Python para formatear una cadena de texto. Esto significa que permite incrustar expresiones dentro de cadenas de texto, usando `{}` como \"casillas\". Una vez que hemos especificado esas casillas entre llaves en la cadena, se pueden pasar como argumentos mediante la función format() para rellenarlos."
   ]
  },
  {
   "cell_type": "code",
   "execution_count": 33,
   "id": "fd801f6a",
   "metadata": {},
   "outputs": [
    {
     "name": "stdout",
     "output_type": "stream",
     "text": [
      "Mi nombre es Manuel y tengo 19 años\n"
     ]
    }
   ],
   "source": [
    "nombre = \"Manuel\"\n",
    "edad = 19\n",
    "cadena = \"Mi nombre es {} y tengo {} años\".format(nombre, edad)\n",
    "print(cadena)"
   ]
  },
  {
   "cell_type": "markdown",
   "id": "d7f062ac",
   "metadata": {},
   "source": [
    "También se puede incluso especificar que variable va en cada casilla"
   ]
  },
  {
   "cell_type": "code",
   "execution_count": 34,
   "id": "30a84449",
   "metadata": {},
   "outputs": [
    {
     "name": "stdout",
     "output_type": "stream",
     "text": [
      "Yo, Juan García López, firmo el presente documento en Valencia a día 2 de Octubre de 2024\n"
     ]
    }
   ],
   "source": [
    "mi_nombre = \"Juan García López\"\n",
    "mi_ciudad = \"Valencia\"\n",
    "mi_dia = 2\n",
    "mi_mes = \"Octubre\"\n",
    "mi_año = 2024\n",
    "print(\"Yo, {nombre}, firmo el presente documento en {ciudad} a día {dia} de {mes} de {año}\"\n",
    "      .format(nombre=mi_nombre, ciudad=mi_ciudad, dia=mi_dia, mes=mi_mes, año=mi_año))"
   ]
  },
  {
   "cell_type": "markdown",
   "id": "d151d7f9",
   "metadata": {},
   "source": [
    "A partir de Python 3.6, la función `format` fue mejorada mediante la creación de cadenas formateadas literales (o \"f-strings\" por su notación con f al inicio). Este tipo de cadenas ofrecen una manera más concisa de incrustar expresiones dentro de cadenas de texto. Es funcionalmente similar a la función format(), pero proporciona una forma más directa de incrustar variables y expresiones."
   ]
  },
  {
   "cell_type": "code",
   "execution_count": 35,
   "id": "18404897",
   "metadata": {},
   "outputs": [
    {
     "name": "stdout",
     "output_type": "stream",
     "text": [
      "Mi nombre es Manuel y tengo 19 años\n"
     ]
    }
   ],
   "source": [
    "nombre = \"Manuel\"\n",
    "edad = 19\n",
    "cadena = f\"Mi nombre es {nombre} y tengo {edad} años\"\n",
    "print(cadena)"
   ]
  },
  {
   "cell_type": "code",
   "execution_count": 36,
   "id": "dbbca6ca",
   "metadata": {},
   "outputs": [
    {
     "name": "stdout",
     "output_type": "stream",
     "text": [
      "Yo, Juan García López, firmo el presente documento en Valencia a día 2 de Octubre de 2024\n"
     ]
    }
   ],
   "source": [
    "mi_nombre = \"Juan García López\"\n",
    "mi_ciudad = \"Valencia\"\n",
    "mi_dia = 2\n",
    "mi_mes = \"Octubre\"\n",
    "mi_año = 2024\n",
    "print(f\"Yo, {mi_nombre}, firmo el presente documento en {mi_ciudad} a día {mi_dia} de {mi_mes} de {mi_año}\")"
   ]
  },
  {
   "cell_type": "markdown",
   "id": "20864402",
   "metadata": {},
   "source": [
    "---\n",
    "**Ejercicio 3.** Se desea crear una invitación personalizada para un mensaje de difusión. En lugar de realizarlo manualmente, se decide emplear Python y las fstrings para realizarlo. Crea un programa que pida al usuario el nombre de una persona, la fecha de la reunión, la hora y el lugar, y genera una invitación haciendo uso de una fstring."
   ]
  },
  {
   "cell_type": "code",
   "execution_count": 37,
   "id": "b6fe8be1",
   "metadata": {},
   "outputs": [
    {
     "name": "stdout",
     "output_type": "stream",
     "text": [
      "Juan estas invitado a la reunion que se realizara el 13 de octubre a las 8pm en Valencia\n"
     ]
    }
   ],
   "source": [
    "nombre = input('Ingrese el nombre')\n",
    "fecha = input('Ingrese la fecha de la reunion')\n",
    "hora = input('Ingrese la hora de la reunin')\n",
    "lugar = input('Ingrese el ñugar de la reunion')\n",
    "\n",
    "print(f\"{nombre} estas invitado a la reunion que se realizara el {fecha} a las {hora} en {lugar}\")\n"
   ]
  },
  {
   "cell_type": "markdown",
   "id": "c0bbfaef",
   "metadata": {},
   "source": [
    "## 2. Listas"
   ]
  },
  {
   "cell_type": "markdown",
   "id": "86e26353",
   "metadata": {},
   "source": [
    "### Definición"
   ]
  },
  {
   "cell_type": "markdown",
   "id": "dc50f034",
   "metadata": {},
   "source": [
    "Una lista en Python es una colección ordenada y mutable de elementos. Las listas se expresan entre corchetes y sus elementos se presentan separados por comas:\n",
    "\n",
    "`lista = [\\<elemento1\\>, \\<elemento2\\>, ... , \\<elemento n\\>]`\n",
    "\n",
    "No existe ninguna restricción sobre el tipo de elementos que pueden formar parte de una lista. De hecho, una lista puede incluir diccionarios, otras listas, funciones e incluso varios de estos tipos simultáneamente."
   ]
  },
  {
   "cell_type": "code",
   "execution_count": 40,
   "id": "6c22d835",
   "metadata": {},
   "outputs": [
    {
     "name": "stdout",
     "output_type": "stream",
     "text": [
      "['manzana', 'banana', 'cereza']\n",
      "[5, 'baloncesto', [7, 8], <built-in function print>]\n"
     ]
    }
   ],
   "source": [
    "frutas = [\"manzana\", \"banana\", \"cereza\"]\n",
    "lista_combinada = [5, \"baloncesto\", [7, 8], print]\n",
    "print(frutas)\n",
    "print(lista_combinada)"
   ]
  },
  {
   "cell_type": "markdown",
   "id": "efcf7294",
   "metadata": {},
   "source": [
    "Una lista vacía se implementa con dos corchetes sin ningún elemento en medio, `[]`, o con el constructor `list()` sin ningún argumento"
   ]
  },
  {
   "cell_type": "code",
   "execution_count": 41,
   "id": "fbcdca86",
   "metadata": {},
   "outputs": [
    {
     "name": "stdout",
     "output_type": "stream",
     "text": [
      "[] []\n"
     ]
    }
   ],
   "source": [
    "mi_lista_vacia1 = []\n",
    "mi_lista_vacia2 = list()\n",
    "print(mi_lista_vacia1, mi_lista_vacia2)"
   ]
  },
  {
   "cell_type": "markdown",
   "id": "bda8fb8d",
   "metadata": {},
   "source": [
    "### Acceso a los elementos"
   ]
  },
  {
   "cell_type": "markdown",
   "id": "2e6ec03f",
   "metadata": {},
   "source": [
    "De forma análoga a las cadenas, el acceso a los elementos de una lista se realiza a través del operador corchete `[]` con un índice, comenzando por el cero. Asimismo, los índices negativos se interpretan como índices que etiquetan los elementos de la lista desde el final al principio."
   ]
  },
  {
   "cell_type": "code",
   "execution_count": 42,
   "id": "7e9f4608",
   "metadata": {},
   "outputs": [
    {
     "name": "stdout",
     "output_type": "stream",
     "text": [
      "a, c, 4, 1\n"
     ]
    }
   ],
   "source": [
    "mi_lista = [\"a\", \"b\", \"c\", \"d\", 1, 2, 3, 4]\n",
    "primer_elem = mi_lista[0]\n",
    "tercer_elem = mi_lista[2]\n",
    "ultimo_elem = mi_lista[-1]\n",
    "cuartoultimo_elem = mi_lista[-4]\n",
    "print(primer_elem, tercer_elem, ultimo_elem, cuartoultimo_elem, sep=', ')"
   ]
  },
  {
   "cell_type": "markdown",
   "id": "963be4ed",
   "metadata": {},
   "source": [
    "El operador `[]` también se puede emplear de forma iterada en el caso de listas que contengan listas, también denominadas listas anidadas. En este caso, el primer operador corchete extrae el elemento indicado en su índice que es, de nuevo una lista. El segundo corchete actúa sobre esta lista y accede al elemento indicado por el segundo índice. "
   ]
  },
  {
   "cell_type": "code",
   "execution_count": 43,
   "id": "b8e2c49e",
   "metadata": {},
   "outputs": [
    {
     "name": "stdout",
     "output_type": "stream",
     "text": [
      "['g', 'h', 'i']\n",
      "h\n"
     ]
    }
   ],
   "source": [
    "lista_anidada = [['a', 'b', 'c'], ['d', 'e', 'f'], ['g', 'h', 'i']]\n",
    "print(lista_anidada[2])\n",
    "print(lista_anidada[2][1])"
   ]
  },
  {
   "cell_type": "markdown",
   "id": "a9486775",
   "metadata": {},
   "source": [
    "---\n",
    "**Ejercicio 4.** Diseña un programa que calcule el determinante de una matriz $3\\times 3$ solicitada por pantalla. La matriz se ha de implementar como una lista anidada de enteros. "
   ]
  },
  {
   "cell_type": "markdown",
   "id": "b3755b71",
   "metadata": {},
   "source": [
    "### Sublistas"
   ]
  },
  {
   "cell_type": "markdown",
   "id": "42076520",
   "metadata": {},
   "source": [
    "Las listas también admiten la creación de sublistas, es decir, segmentos de la lista original. La notación extracción de sublistas de una lista es análoga al caso de las cadenas. En el caso general, una sublista de una lista se extrae como\n",
    "\n",
    "`sublista = lista[inicio:fin(:paso)]`\n",
    "\n",
    "donde inicio indica el índice del primer elemento de la nueva sublista, fin indica el primer elemento excluido de la sublista y el argumento opcional paso indica el incremento en la selección de elementos de la lista original."
   ]
  },
  {
   "cell_type": "code",
   "execution_count": 44,
   "id": "fe87e77b",
   "metadata": {},
   "outputs": [
    {
     "name": "stdout",
     "output_type": "stream",
     "text": [
      "['pájaro', 'tiburón', 'tigre']\n",
      "['perro', 'gato', 'pájaro', 'tiburón']\n",
      "['abeja', 'elefante']\n",
      "['abeja', 'elefante', 'hormiga']\n",
      "['perro', 'pájaro', 'tigre', 'elefante']\n",
      "['elefante', 'abeja', 'tigre', 'tiburón']\n"
     ]
    }
   ],
   "source": [
    "mi_lista = [\"perro\", \"gato\", \"pájaro\", \"tiburón\", \"tigre\", \"abeja\", \"elefante\", \"hormiga\"]\n",
    "print(mi_lista[2:5])  # Sublista del elemento 2 al elemento 4\n",
    "print(mi_lista[:4])  # Sublista desde el elemento 0 hasta el elemento 3\n",
    "print(mi_lista[-3:-1])  # Sublista formada por el antepenúltimo y el penúltimo elemento\n",
    "print(mi_lista[-3:])  # Sublista formada por los tres últimos elementos\n",
    "print(mi_lista[::2])  # Sublista que, partiendo del inicio, toma uno de cada dos elementos\n",
    "print(mi_lista[-2:2:-1]) # Sublista que, partiendo del penúltimo elemento, toma de forma\n",
    "                         # regresiva los que le preceden hasta finalizar en el tercero (sin incluirlo)"
   ]
  },
  {
   "cell_type": "markdown",
   "id": "a7a2ce0d",
   "metadata": {},
   "source": [
    "### Pertenencia"
   ]
  },
  {
   "cell_type": "markdown",
   "id": "ec330873",
   "metadata": {},
   "source": [
    "El operador `in` es el operador de pertenencia en Python. El operador `in` devuelve True si un elemento dado está contenido en una lista:\n",
    "\n",
    "`elemento in lista`\n",
    "\n",
    "y False en caso contrario. Igualmente, el operador `not in` es la negación de dicho operador y devuelve True en el caso de que un elemento no se halle en una lista:\n",
    "\n",
    "`elemento not in lista`\n",
    "\n",
    "A diferencia de las cadenas, la pertenencia de sublistas no está definida en Python."
   ]
  },
  {
   "cell_type": "code",
   "execution_count": 45,
   "id": "5647846f",
   "metadata": {},
   "outputs": [
    {
     "name": "stdout",
     "output_type": "stream",
     "text": [
      "True\n",
      "False\n",
      "False\n",
      "True\n"
     ]
    }
   ],
   "source": [
    "esta_incluido1 = 'elefante' in mi_lista\n",
    "esta_incluido2 = 'cocodrilo' in mi_lista\n",
    "esta_incluido3 = [\"perro\", \"gato\"] in mi_lista\n",
    "noesta_incluido = 'iguana' not in mi_lista\n",
    "print(esta_incluido1)\n",
    "print(esta_incluido2)\n",
    "print(esta_incluido3)  # [\"perro\", \"gato\"] no es un elemento de la lista\n",
    "print(noesta_incluido)"
   ]
  },
  {
   "cell_type": "markdown",
   "id": "c6e80013",
   "metadata": {},
   "source": [
    "### Modificación de elementos"
   ]
  },
  {
   "cell_type": "markdown",
   "id": "75c997fa",
   "metadata": {},
   "source": [
    "La principal diferencia entre cadenas y listas, además de la amplitud de tipos que admite una lista, reside en la mutabilidad de sus elementos. Es posible en Python cambiar el contenido de una lista sin la necesidad de crear una lista nueva. Esta alteración se realiza con el operador de asignación directamente sobre un elemento de la lista seleccionado con el corchete.\n",
    "\n",
    "`lista[indice] = mi_nuevo_elemento`"
   ]
  },
  {
   "cell_type": "code",
   "execution_count": 46,
   "id": "a03c377f",
   "metadata": {},
   "outputs": [
    {
     "name": "stdout",
     "output_type": "stream",
     "text": [
      "[1, 2, 3, 4, 5, 6, 7, 8, 9, 10]\n",
      "[1, 2, 3, 4, 5, 'seis', 7, 8, 9, 10]\n",
      "[1, 'dos', 'tres', 4, 5, 'seis', 7, 8, 9, 10]\n",
      "[1, 'dos', 'tres', 4, 5, 'seis', 7, 8, 9, 9]\n",
      "[1, 'tres', 'dos', 4, 5, 'seis', 7, 8, 9, 9]\n"
     ]
    }
   ],
   "source": [
    "mi_lista = [1, 2, 3, 4, 5, 6, 7, 8, 9, 10]\n",
    "print(mi_lista)\n",
    "mi_lista[5] = 'seis'\n",
    "print(mi_lista)\n",
    "mi_lista[1], mi_lista[2] = 'dos', 'tres'  # Se pueden realizar asignaciones dobles\n",
    "print(mi_lista)\n",
    "mi_lista[-1] = mi_lista[-2]  # El último elemento es ahora igual al penúltimo\n",
    "print(mi_lista)\n",
    "\"\"\"\n",
    "Se pueden permutar elementos sin la necesidad de crear variables auxiliares,\n",
    "haciendo uso de la asignación simultánea\n",
    "\"\"\"\n",
    "mi_lista[1], mi_lista[2] = mi_lista[2], mi_lista[1]\n",
    "print(mi_lista)"
   ]
  },
  {
   "cell_type": "markdown",
   "id": "683c7d62",
   "metadata": {},
   "source": [
    "Cabe destacar que una lista es un objeto que anota las referencias de los objetos incluidos. En el caso de objetos mutables, como enteros o cadenas, la alteración de estos objetos originales no modifica la lista. En cambio, si los objetos referenciados son mutables, la lista almacena la referencia de dichos objetos y no una copia de los mismos, por lo que su alteración también implica la alteración de la lista."
   ]
  },
  {
   "cell_type": "code",
   "execution_count": 47,
   "id": "75526a2a",
   "metadata": {},
   "outputs": [
    {
     "name": "stdout",
     "output_type": "stream",
     "text": [
      "['Soy inmutable y mi valor es 1', 'Soy inmutable y mi valor es 2', ['Soy mutable', 'mi valor es 3']]\n",
      "['Soy inmutable y mi valor es 2', 'Soy inmutable y mi valor es 2', ['Soy mutable', 'mi valor es 3']]\n",
      "['Soy inmutable y mi valor es 2', 'Soy inmutable y mi valor es 2', ['Soy mutable', 'mi valor es 3']]\n",
      "['Soy inmutable y mi valor es 2', 'Soy inmutable y mi valor es 2', ['Soy mutable', 'mi valor es 9']]\n"
     ]
    }
   ],
   "source": [
    "a = 'Soy inmutable y mi valor es 1'\n",
    "b = 'Soy inmutable y mi valor es 2'\n",
    "c = ['Soy mutable', 'mi valor es 3']\n",
    "mi_lista = [a, b, c]\n",
    "print(mi_lista)\n",
    "mi_lista[0] = b  # La posición 0 ahora almacena el valor de la variable b\n",
    "print(mi_lista)\n",
    "b = 'mi valor es 7'  # Al reasignar b y apuntarlo hacia otro valor, la lista no varía\n",
    "print(mi_lista)\n",
    "c[1] = 'mi valor es 9'  # Al cambiar un elemento de la lista (mutable), la referencia de mi_lista\n",
    "                        # no ha cambiado, de modo que la lista original hereda los cambios en c\n",
    "print(mi_lista)"
   ]
  },
  {
   "cell_type": "markdown",
   "id": "bd61d6f0",
   "metadata": {},
   "source": [
    "### Métodos en listas"
   ]
  },
  {
   "cell_type": "markdown",
   "id": "9c511b51",
   "metadata": {},
   "source": [
    "Como ocurre en las cadenas, la función general longitud `len` retorna el númemero de elementos que tiene una lista (en el primer nivel)"
   ]
  },
  {
   "cell_type": "code",
   "execution_count": 49,
   "id": "e964c71d",
   "metadata": {},
   "outputs": [
    {
     "name": "stdout",
     "output_type": "stream",
     "text": [
      "6\n",
      "3\n"
     ]
    }
   ],
   "source": [
    "mi_lista1 = [0, 1, 2, 3, 4, 5]  # La lista tiene 6 elementos\n",
    "mi_lista2 = [[0, 1], [2, 3], [4, 5]]  # La lista tiene 3 elementos\n",
    "print(len(mi_lista1))\n",
    "print(len(mi_lista2))"
   ]
  },
  {
   "cell_type": "markdown",
   "id": "f3882f36",
   "metadata": {},
   "source": [
    "A continuación, se presentan algunas de las funciones preimplementadas de la clase lista. Se invocan como propiedades de una lista mediante un punto seguido de la función:\n",
    "\n",
    "`lista.funcion_preimplementada()`\n",
    "\n",
    "A diferencia de las cadenas, las funciones aplicadas sobre una lista modifican la lista y no crean un objeto nuevo.\n",
    "\n",
    "| Función preimplementada | Descripción |\n",
    "| --- | --- |\n",
    "| append(\\<elem\\>) | Añade el elemento \\<elem\\> al final de la lista |\n",
    "| extend(\\<iterable\\>) | Concatena los elementos de un objeto iterable (como una lista) al final de la lista actual |\n",
    "| insert(\\<pos\\>, \\<elem\\>) | Inserta el elemento \\<elem\\> en la posición \\<pos\\> |\n",
    "| remove(\\<elem\\>) | Elimina la primera aparición de \\<elem\\>. Si no existe, no realiza modificaciones |\n",
    "| pop(\\<pos\\>) | Elimina y retorna el elemento de la posición indicada. |\n",
    "|  | Si no se indica la posición devuelve el último elemento |\n",
    "| index(\\<elem\\>) | Retorna el índice de la primera aparición del elemento \\<elem\\> en la lista |\n",
    "|  | Si no se encuentra, el método devuelve -1. |\n",
    "| count(\\<elem\\>) | Retorna el número de apariciones del elemento \\<elem\\> en la lista |\n",
    "| sort() | Ordena los elementos de la lista |"
   ]
  },
  {
   "cell_type": "code",
   "execution_count": 50,
   "id": "68444e30",
   "metadata": {},
   "outputs": [
    {
     "name": "stdout",
     "output_type": "stream",
     "text": [
      "Mi lista original: [1, 3, 5, 2, 4] \n",
      "\n",
      "Añado el 7 al final: [1, 3, 5, 2, 4, 7]\n",
      "Extiendo la lista: [1, 3, 5, 2, 4, 7, 5, 6, 8]\n",
      "Inserto el 0 en la posición de índice 3: [1, 3, 5, 0, 2, 4, 7, 5, 6, 8]\n",
      "Elimino el último: [1, 3, 5, 0, 2, 4, 7, 5, 6]\n",
      "Aquí lo tengo: 8\n",
      "El número 5 aparece en la posición: 2\n",
      "Pero aparece 2 veces\n",
      "Mi lista actual ordenada: [0, 1, 2, 3, 4, 5, 5, 6, 7]\n"
     ]
    }
   ],
   "source": [
    "mi_lista = [1, 3, 5, 2, 4]\n",
    "print('Mi lista original:', mi_lista, '\\n')\n",
    "mi_lista.append(7)  # Añade el elemento 7 al final de la lista\n",
    "print('Añado el 7 al final:', mi_lista)\n",
    "mi_lista.extend([5, 6, 8])  # Concatena la lista [5, 6, 8] al final de la lista\n",
    "print('Extiendo la lista:', mi_lista)\n",
    "mi_lista.insert(3, 0)  # Inserta el elemento 0 en la posición con indice 3\n",
    "print('Inserto el 0 en la posición de índice 3:', mi_lista)\n",
    "a = mi_lista.pop()  # Elimina el elemento en la posición -1 (última) y lo asigna a la variable a\n",
    "print('Elimino el último:', mi_lista)\n",
    "print('Aquí lo tengo:', a)\n",
    "i = mi_lista.index(5)  # Retorna el indice de la primera aparición del elemento 5\n",
    "print('El número 5 aparece en la posición:', i)\n",
    "n = mi_lista.count(5)  # Retorna el número de apariciones del elemento 5\n",
    "print(f'Pero aparece {n} veces')\n",
    "mi_lista.sort()  # Ordena la lista de menor a mayor\n",
    "print('Mi lista actual ordenada:', mi_lista)"
   ]
  },
  {
   "cell_type": "markdown",
   "id": "0479511e",
   "metadata": {},
   "source": [
    "---\n",
    "**Ejercicio 5.** Dada la siguiente lista de palabras\n",
    "\n",
    "`palabras = [\"manzana\", \"banana\", \"manzana\", \"naranja\", \"banana\", \"manzana\", \"uva\"]`\n",
    "\n",
    "1. Cuenta cuántas veces aparece la palabra \"manzana\".\n",
    "2. Encuentra el índice de la primera aparición de \"naranja\".\n",
    "3. Sustituye la primera aparición de \"banana\" por \"fresa\".\n",
    "4. Ordena las palabras en orden alfabético.\n"
   ]
  },
  {
   "cell_type": "code",
   "execution_count": 51,
   "id": "ab193f3c",
   "metadata": {},
   "outputs": [
    {
     "name": "stdout",
     "output_type": "stream",
     "text": [
      "La palabra 'manzana' aparece 3 veces\n",
      "El índice de 'naranja' es 3\n",
      "['manzana', 'fresa', 'manzana', 'naranja', 'banana', 'manzana', 'uva']\n",
      "['banana', 'fresa', 'manzana', 'manzana', 'manzana', 'naranja', 'uva']\n"
     ]
    }
   ],
   "source": [
    "palabras = [\"manzana\", \"banana\", \"manzana\", \"naranja\", \"banana\", \"manzana\", \"uva\"]\n",
    "print(f\"La palabra 'manzana' aparece {palabras.count('manzana')} veces\")\n",
    "print(f\"El índice de 'naranja' es {palabras.index('naranja')}\")\n",
    "i_banana = palabras.index('banana')\n",
    "palabras[i_banana] = 'fresa'\n",
    "print(palabras)\n",
    "palabras.sort()\n",
    "print(palabras)"
   ]
  },
  {
   "cell_type": "code",
   "execution_count": null,
   "id": "c2b1c2e9",
   "metadata": {},
   "outputs": [],
   "source": []
  },
  {
   "cell_type": "markdown",
   "id": "455841dd",
   "metadata": {},
   "source": [
    "# Estructuras de control"
   ]
  },
  {
   "cell_type": "markdown",
   "id": "f61c9344",
   "metadata": {},
   "source": [
    "En el contexto de la programación, una estructura de control es un bloque de código que permite bifurcar la ejecución de instrucciones. Estas estructuras son fundamentales para la creación de programas que puedan realizar tareas complejas, adaptándose a diferentes situaciones o procesando grandes cantidades de datos de manera repetitiva.\n",
    "\n",
    "Existen dos principales tipos de estructuras de control:\n",
    "1. Estructuras de control condicionales (o selectivas): permiten tomar decisiones y ejecutar un bloque de código dependiendo de si se cumple una condición dada.\n",
    "2. Estructuras de control iterativas (o bucles): permiten repetir un bloque de código mientras se cumpla (o no) una condición dada.\n",
    "\n",
    "Todas las estructuras de control en Python se denotan mediante un sistema de indentaciones (por ejemplo, en C++ se realiza con llaves). La estructura general es la siguiente:\n",
    "\n",
    "```\n",
    "Mi_estructura_de_control:\n",
    "    código dentro de mi estructura de control\n",
    "    ...\n",
    "código fuera de mi estructura de control\n",
    "```\n",
    "\n",
    "La indentación en Python es típicamente 4 espacios, aunque esto es configurable. En cualquier caso, **es muy conveniente indentar con el tabulador**."
   ]
  },
  {
   "cell_type": "markdown",
   "id": "135b3241",
   "metadata": {},
   "source": [
    "## 1. Estructuras de control condicionales"
   ]
  },
  {
   "cell_type": "markdown",
   "id": "3905160f",
   "metadata": {},
   "source": [
    "Las estructuras condicionales permiten tomar decisiones en nuestros programas. El cumplimiento de ciertas condiciones son verdaderas (True) o falsas (False), determina la ejecuación de determinados bloques de código."
   ]
  },
  {
   "cell_type": "markdown",
   "id": "01b62a73",
   "metadata": {},
   "source": [
    "### El condicional `if`"
   ]
  },
  {
   "cell_type": "markdown",
   "id": "02a4e8ed",
   "metadata": {},
   "source": [
    "El condicional if es la estructura básica fundamental para evaluar una condición en Python. Su estructura es\n",
    "\n",
    "```\n",
    "if condicion:\n",
    "    # bloque de código si condicion es True\n",
    "```\n",
    "donde `condicion` es una expresión que puede ser evaluada como verdadera o falsa.\n",
    "El bloque de código situado debajo del if (que se encuentra indentado) se ejecuta solo si la condición es verdadera."
   ]
  },
  {
   "cell_type": "code",
   "execution_count": 52,
   "id": "946b4471",
   "metadata": {},
   "outputs": [
    {
     "name": "stdout",
     "output_type": "stream",
     "text": [
      "El número es positivo.\n"
     ]
    }
   ],
   "source": [
    "numero = 5\n",
    "if numero > 0:\n",
    "    print(\"El número es positivo.\")\n",
    "if numero <= 0:\n",
    "    print(\"El número no es positivo.\")"
   ]
  },
  {
   "cell_type": "code",
   "execution_count": 53,
   "id": "9f4b6c32",
   "metadata": {},
   "outputs": [
    {
     "name": "stdout",
     "output_type": "stream",
     "text": [
      "Sí que está\n"
     ]
    }
   ],
   "source": [
    "mi_lista = ['I', 'II', 'III', 'IV', 'V']\n",
    "if 'I' in mi_lista:\n",
    "    print(\"Sí que está\")"
   ]
  },
  {
   "cell_type": "code",
   "execution_count": 59,
   "id": "02372567",
   "metadata": {},
   "outputs": [
    {
     "name": "stdout",
     "output_type": "stream",
     "text": [
      "El número no es positivo, par o múltiplo de 7.\n"
     ]
    }
   ],
   "source": [
    "# Determina si un numero dado es positivo, par pero no es múltiplo de 7\n",
    "numero = int(input(\"Dame un número entero: \"))\n",
    "if ((numero > 0) and (numero % 2 == 0) and (numero % 7 != 0)):\n",
    "    print(\"El número es positivo, par y no es múltiplo de 7.\")\n",
    "if not ((numero > 0) and (numero % 2 == 0) and (numero % 7 != 0)):\n",
    "    print(\"El número no es positivo, par o múltiplo de 7.\")"
   ]
  },
  {
   "cell_type": "markdown",
   "id": "d8a8e87e",
   "metadata": {},
   "source": [
    "El bloque `if` se puede usar también como forma preliminar para comprobar si el tipo o la clase de un objeto es correcta. De este modo, si no lo es, el programa puede cortar la ejecución del mismo lanzando un error."
   ]
  },
  {
   "cell_type": "code",
   "execution_count": 58,
   "id": "65642392",
   "metadata": {},
   "outputs": [
    {
     "ename": "TypeError",
     "evalue": "La variable b=s no es un entero!",
     "output_type": "error",
     "traceback": [
      "\u001b[1;31m---------------------------------------------------------------------------\u001b[0m",
      "\u001b[1;31mTypeError\u001b[0m                                 Traceback (most recent call last)",
      "Cell \u001b[1;32mIn[58], line 7\u001b[0m\n\u001b[0;32m      5\u001b[0m     \u001b[38;5;28;01mraise\u001b[39;00m \u001b[38;5;167;01mTypeError\u001b[39;00m(\u001b[38;5;124mf\u001b[39m\u001b[38;5;124m'\u001b[39m\u001b[38;5;124mLa variable a=\u001b[39m\u001b[38;5;132;01m{\u001b[39;00ma\u001b[38;5;132;01m}\u001b[39;00m\u001b[38;5;124m no es un entero!\u001b[39m\u001b[38;5;124m'\u001b[39m)\n\u001b[0;32m      6\u001b[0m \u001b[38;5;28;01mif\u001b[39;00m \u001b[38;5;129;01mnot\u001b[39;00m \u001b[38;5;28misinstance\u001b[39m(b, \u001b[38;5;28mint\u001b[39m):\n\u001b[1;32m----> 7\u001b[0m     \u001b[38;5;28;01mraise\u001b[39;00m \u001b[38;5;167;01mTypeError\u001b[39;00m(\u001b[38;5;124mf\u001b[39m\u001b[38;5;124m'\u001b[39m\u001b[38;5;124mLa variable b=\u001b[39m\u001b[38;5;132;01m{\u001b[39;00mb\u001b[38;5;132;01m}\u001b[39;00m\u001b[38;5;124m no es un entero!\u001b[39m\u001b[38;5;124m'\u001b[39m)\n\u001b[0;32m      8\u001b[0m \u001b[38;5;28mprint\u001b[39m(\u001b[38;5;124mf\u001b[39m\u001b[38;5;124m'\u001b[39m\u001b[38;5;124mLa suma de \u001b[39m\u001b[38;5;132;01m{\u001b[39;00ma\u001b[38;5;132;01m}\u001b[39;00m\u001b[38;5;124m más \u001b[39m\u001b[38;5;132;01m{\u001b[39;00mb\u001b[38;5;132;01m}\u001b[39;00m\u001b[38;5;124m es \u001b[39m\u001b[38;5;132;01m{\u001b[39;00ma\u001b[38;5;241m+\u001b[39mb\u001b[38;5;132;01m}\u001b[39;00m\u001b[38;5;124m.\u001b[39m\u001b[38;5;124m'\u001b[39m)\n",
      "\u001b[1;31mTypeError\u001b[0m: La variable b=s no es un entero!"
     ]
    }
   ],
   "source": [
    "# Se quiere hacer un programa que sume dos números enteros\n",
    "a = 4\n",
    "b = 's'\n",
    "if not isinstance(a, int):\n",
    "    raise TypeError(f'La variable a={a} no es un entero!')\n",
    "if not isinstance(b, int):\n",
    "    raise TypeError(f'La variable b={b} no es un entero!')\n",
    "print(f'La suma de {a} más {b} es {a+b}.')"
   ]
  },
  {
   "cell_type": "markdown",
   "id": "e666cc58",
   "metadata": {},
   "source": [
    "**(Opcional)** En este ejemplo se ha usado la función `isinstance(<objeto 1>, <tipo>)` que retorna True si el objeto \\<objeto\\> es de tipo \\<tipo\\>, y False en caso contrario. Para provocar el lanzamiento de una excepción o error se ha empleado `raise` seguido del tipo de error concreto. Además, el tipo de excepción permite incluir un comentario que se imprime por pantalla en el caso de invocar el error. Los tipos más frecuentes de excepciones son:\n",
    "- `TypeError`: excepción relacionado con el tipo de una variable.\n",
    "- `ValueError`: excepción relacionado con el valor de una variable.\n",
    "- `KeyError`: excepción relacionado con la llave (key) en un diccionario.\n",
    "- `AttributeError`: excepción lanzada cuando un atributo no está referenciado.\n",
    "- `IndexError`: excepción lanzada cuando un índice está fuera de rango."
   ]
  },
  {
   "cell_type": "markdown",
   "id": "b510fee6",
   "metadata": {},
   "source": [
    "### Condiciones adicionales: `else` y `elif`"
   ]
  },
  {
   "cell_type": "markdown",
   "id": "23da4bcd",
   "metadata": {},
   "source": [
    "Se intuye del ejemplo anterior que es necesario estructuras de control adicionales que complementan al bloque `if`. En la mayoría de los casos, es preciso especificar una bifurcación en la ejecución del código en relación a la respuesta frente a una condición. Aunque es siempre posible incluir diversos bloques `if` de forma secuencial y modificar la condición, esto no es práctico.\n",
    "\n",
    "Así pues, se puede incorporar de manera opcional el bloque de control `else` a continuación del bloque `if` para especificar las acciones que se deben tomar en el caso de no satisfacer la condición del bloque `if`. La estructura es la siguiente:\n",
    "```\n",
    "if condicion:\n",
    "    # bloque de código si condicion es True\n",
    "else:\n",
    "    # bloque de código si condicion es False\n",
    "```"
   ]
  },
  {
   "cell_type": "markdown",
   "id": "f3411e0e",
   "metadata": {},
   "source": [
    "La condición dentro de un condicional puede ser tan compleja como se desee"
   ]
  },
  {
   "cell_type": "code",
   "execution_count": null,
   "id": "bcb925be",
   "metadata": {},
   "outputs": [],
   "source": [
    "# Comprobar si una hora implementada en formato hh:mm:ss es válida\n",
    "mi_hora = input(\"Introduce una hora en formato hh:mm:ss : \")\n",
    "horas, minutos, segundos = mi_hora.split(':')\n",
    "horas, minutos, segundos = int(horas), int(minutos), int(segundos)\n",
    "if ((0 <= horas < 24) and (minutos >= 0 and minutos < 60) and (segundos >= 0 and segundos < 60)):\n",
    "    print(\"La hora es válida\")\n",
    "else:\n",
    "    print(\"La hora no es válida\")"
   ]
  },
  {
   "cell_type": "markdown",
   "id": "416f5316",
   "metadata": {},
   "source": [
    "Se puede escribir el mismo código empleando estructuras condicionales anidadas. No obstante, si se puede, se favorece emplear el mínimo número de estructuras anidadas posibles."
   ]
  },
  {
   "cell_type": "code",
   "execution_count": null,
   "id": "f46eefe9",
   "metadata": {},
   "outputs": [],
   "source": [
    "# Comprobar si una hora implementada en formato hh:mm:ss es válida\n",
    "mi_hora = input(\"Introduce una hora en formato hh:mm:ss : \")\n",
    "horas, minutos, segundos = mi_hora.split(':')\n",
    "horas, minutos, segundos = int(horas), int(minutos), int(segundos)\n",
    "if 0 <= horas < 24:\n",
    "    if 0 <= minutos < 60:\n",
    "        if 0 <= segundos < 60:\n",
    "            print(\"La hora es válida\")\n",
    "        else:\n",
    "            print(\"La hora no es válida\")\n",
    "    else:\n",
    "        print(\"La hora no es válida\")\n",
    "else:\n",
    "    print(\"La hora no es válida\")"
   ]
  },
  {
   "cell_type": "markdown",
   "id": "76a1e7fd",
   "metadata": {},
   "source": [
    "---\n",
    "**Ejercicio 1.** Escribe un programa para comprobar si un año es bisiesto. Nota: los años bisiestos son los años múltiplos de 4 que no son múltiplos de 100, a excepción de aquellos múltiplos de 400."
   ]
  },
  {
   "cell_type": "markdown",
   "id": "99a5354e",
   "metadata": {},
   "source": [
    "---"
   ]
  },
  {
   "cell_type": "markdown",
   "id": "7b488bab",
   "metadata": {},
   "source": [
    "El bloque de control `elif` permite revisar una condición adicional en el caso de que la condición analizada en el bloque `if` sea negativa. En otros lenguajes de programación es equivalente a anidar en la sentencia `else` un nuevo bloque de tipo `if`. Asimismo, se puede finalizar también este tipo de bloque de control con un bloque `else`. La estructura general es:\n",
    "```\n",
    "if condicion1:\n",
    "    # bloque de código si condicion1 es True\n",
    "elif condicion2:\n",
    "    # bloque de código si condicion1 es False y condicion2 es True\n",
    "else:\n",
    "    # bloque de código si condicion1 es False y condicion2 es False\n",
    "```\n",
    "La misma estructura de control se puede extender con tantos bloques `elif` como se desee."
   ]
  },
  {
   "cell_type": "code",
   "execution_count": null,
   "id": "ae5df5e5",
   "metadata": {},
   "outputs": [],
   "source": [
    "\"\"\"\n",
    "Programa para calcular si el carácter implementado es una vocal, una consonante,\n",
    "un número o ninguna de las anteriores\n",
    "\"\"\"\n",
    "mi_char = input(\"Introduce un carácter: \")\n",
    "# Se comprueba que se ha añadido un solo carácter\n",
    "if len(mi_char) != 1:\n",
    "    raise ValueError(\"La longitud de un carácter ha de ser 1!\")\n",
    "\n",
    "if mi_char in ['a', 'e', 'i', 'o', 'u', 'A', 'E', 'I', 'O', 'U']:\n",
    "    print(f\"El caracter '{mi_char}' es una vocal.\")\n",
    "elif mi_char.isalpha():\n",
    "    print(f\"El caracter '{mi_char}' es una consonante.\")\n",
    "elif mi_char.isdigit():\n",
    "    print(f\"El caracter '{mi_char}' es un número.\")\n",
    "else:\n",
    "    print(f\"El caracter '{mi_char}' no es ni una letra ni un número.\")"
   ]
  },
  {
   "cell_type": "markdown",
   "id": "cfdfe62d",
   "metadata": {},
   "source": [
    "---\n",
    "**Ejercicio 2.** Escribe un programa que permita determinar si una fecha en formato dd/mm/aaaa es una fecha válida. Puedes aprovechar el código del Ejercicio 1 e incluirlo para comprobar si el año seleccionado es bisiesto."
   ]
  },
  {
   "cell_type": "markdown",
   "id": "8b925a7d",
   "metadata": {},
   "source": [
    "## 2. Estructuras de control iterativas (bucles)"
   ]
  },
  {
   "cell_type": "markdown",
   "id": "66e6e393",
   "metadata": {},
   "source": [
    "Las estructuras iterativas, también conocidas como bucles o loops, permiten repetir un bloque de código múltiples veces. Python proporciona dos estructuras iterativas principales: `for` y `while`."
   ]
  },
  {
   "cell_type": "markdown",
   "id": "4d51ae4d",
   "metadata": {},
   "source": [
    "### Bucle `for`"
   ]
  },
  {
   "cell_type": "markdown",
   "id": "6b6b84b0",
   "metadata": {},
   "source": [
    "En Python, el bucle `for` se utiliza para iterar sobre un iterable (secuencia) que puede ser una lista, un diccionario, un conjunto, una cadena, etc. El código incluido en el bloque de control se repite una vez para cada uno de los términos del iterable. La estructura general es:\n",
    "```\n",
    "for variable in <iterable>:\n",
    "    # bloque de código\n",
    "```\n",
    "Esto implica que, en Python, el bucle `for` está diseñado para recorrer los elementos de un iterable (como una lista) sin necesidad de indexarla."
   ]
  },
  {
   "cell_type": "code",
   "execution_count": null,
   "id": "21fd8c14",
   "metadata": {},
   "outputs": [],
   "source": [
    "# Determina el número de caracteres de cada uno de las cadenas de la siguiente lista\n",
    "frutas = ['melón', 'sandía', 'melocotón', 'pera', 'albaricoque', 'uva', 'papaya']\n",
    "for fruta in frutas:\n",
    "    print(f\"La fruta '{fruta}' tiene {len(fruta)} caracteres.\")"
   ]
  },
  {
   "cell_type": "markdown",
   "id": "147e8dae",
   "metadata": {},
   "source": [
    "Naturalmente, también es posible iterar sobre una lista de números. Para ello, se emplea habitualmente el constructor `range`. Este objeto es un iterable (no es una lista exactamente) con la siguiente estructura:\n",
    "\n",
    "`range(inicio, fin, paso)`\n",
    "\n",
    "donde `inicio` es el primer entero del iterable, `fin` es el primer entero no incluido y `paso` es el incremento o paso entre los elementos del iterable. En este constructor los argumentos `inicio` y `paso` son opcionales, que toman por defecto los valores 0 y 1, respectivamente.\n",
    "A diferencia de listas y cadenas, no se pueden emplear enteros negativos para `inicio` y `fin`, pues no existe una longitud previa para conocer el final. En cambio, sí que admite números negativos para `paso`, en cuyo caso recorre el iterable en orden inverso con el incremento especificado"
   ]
  },
  {
   "cell_type": "code",
   "execution_count": 60,
   "id": "cfb9b359",
   "metadata": {},
   "outputs": [
    {
     "name": "stdout",
     "output_type": "stream",
     "text": [
      "range(0, 10)\n",
      "[0, 1, 2, 3, 4, 5, 6, 7, 8, 9]\n",
      "[5, 6, 7, 8, 9, 10, 11, 12, 13]\n",
      "[0, 3, 6, 9, 12, 15, 18, 21, 24, 27]\n",
      "[5, 4, 3, 2, 1]\n"
     ]
    }
   ],
   "source": [
    "mi_iterable1 = range(10)\n",
    "print(mi_iterable1)  # Al hacer print sobre `range` devuelve el iterable sin expandir\n",
    "print(list(mi_iterable1))  # Si se quiere desplegar, se ha de convertir en una lista\n",
    "mi_iterable2 = range(5, 14)  # Contruye una secuencia desde el número 5 hasta el 13\n",
    "print(list(mi_iterable2))\n",
    "mi_iterable3 = range(0, 30, 3)  # Enumera la tabla del 3\n",
    "print(list(mi_iterable3))\n",
    "mi_iterable4 = range(5, 0, -1)  # Range también admite pasos negativos\n",
    "print(list(mi_iterable4))"
   ]
  },
  {
   "cell_type": "markdown",
   "id": "ba29f329",
   "metadata": {},
   "source": [
    "El constructor `range` se emplea habitualmente dentro de los bucles `for` para iterar sobre los elementos de este iterable."
   ]
  },
  {
   "cell_type": "code",
   "execution_count": 61,
   "id": "0620b811",
   "metadata": {},
   "outputs": [
    {
     "name": "stdout",
     "output_type": "stream",
     "text": [
      "0\n",
      "1\n",
      "2\n",
      "3\n",
      "4\n",
      "5\n",
      "6\n",
      "7\n",
      "8\n",
      "9\n",
      "10\n"
     ]
    }
   ],
   "source": [
    "# Muestra los números del 0 al 10 en un bucle `for`\n",
    "for i in range(11):\n",
    "    print(i)"
   ]
  },
  {
   "cell_type": "markdown",
   "id": "ee6a774b",
   "metadata": {},
   "source": [
    "### Bucle `while`"
   ]
  },
  {
   "cell_type": "markdown",
   "id": "3d493af9",
   "metadata": {},
   "source": [
    "El bucle `while` permite ejecutar un conjunto de instrucciones mientras una condición (dinámica) sea verdadera. Su estructura es:\n",
    "```\n",
    "while condicion:\n",
    "    # bloque de código\n",
    "```\n",
    "Este tipo de bucle a menudo requiere un contador o variable dinámica que se modifica durante la ejecución del bloque. Se ha de tener especial cuidado ya que en caso de mal uso el programa puede entrar en un bucle infinito (por ejemplo, si no se incrementa un contador)."
   ]
  },
  {
   "cell_type": "code",
   "execution_count": 62,
   "id": "20ca56d8",
   "metadata": {},
   "outputs": [
    {
     "name": "stdout",
     "output_type": "stream",
     "text": [
      "Estoy contando hasta 5. Voy por el número 1.\n",
      "Estoy contando hasta 5. Voy por el número 2.\n",
      "Estoy contando hasta 5. Voy por el número 3.\n",
      "Estoy contando hasta 5. Voy por el número 4.\n",
      "Estoy contando hasta 5. Voy por el número 5.\n",
      "Ya he terminado!\n"
     ]
    }
   ],
   "source": [
    "i = 1\n",
    "while i <= 5:\n",
    "    print(f'Estoy contando hasta 5. Voy por el número {i}.')\n",
    "    i += 1  # Si se comenta esta línea el código entraría en un bucle infinito.\n",
    "print(\"Ya he terminado!\")"
   ]
  },
  {
   "cell_type": "markdown",
   "id": "ad690fc1",
   "metadata": {},
   "source": [
    "Todo bucle `for` puede escribirse como un bucle `while`. No obstante, se prefiere el uso del bucle `for` cuando el número de iteraciones es conocido y el bucle `while` en caso contrario."
   ]
  },
  {
   "cell_type": "markdown",
   "id": "0d8b219e",
   "metadata": {},
   "source": [
    "### Control de bucles"
   ]
  },
  {
   "cell_type": "markdown",
   "id": "52bef020",
   "metadata": {},
   "source": [
    "Python incorpora herramientas para poder terminar o pasar a la siguiente iteración de un bucles. Estos se implementan, respectivamente, con los comandos `break` y `continue`.\n",
    "\n",
    "La aparición del comando `break` en un bucle finaliza la ejecución del mismo (de la iteración actual y de las siguientes).\n",
    "La aparición del comando `continue` en un bucle finaliza la ejecución de la iteración actual y da comienzo a una nueva iteración.\n",
    "\n",
    "Generalmente, se incluyen dentro de un condicional anidado dentro del bucle. En todo caso, se interrumpe o continua con la ejecución del bucle anidado anterior."
   ]
  },
  {
   "cell_type": "code",
   "execution_count": null,
   "id": "e44c4615",
   "metadata": {},
   "outputs": [],
   "source": [
    "for i in range(10):\n",
    "    if i == 5:\n",
    "        break  # Se interrumpe el bucle cuando i == 5\n",
    "    print(i)"
   ]
  },
  {
   "cell_type": "code",
   "execution_count": null,
   "id": "fb7dcef4",
   "metadata": {},
   "outputs": [],
   "source": [
    "for i in range(10):\n",
    "    if i % 2 == 0:\n",
    "        continue  # Se reinicia la iteración si el contador es par\n",
    "    print(i)"
   ]
  },
  {
   "cell_type": "markdown",
   "id": "c6457da9",
   "metadata": {},
   "source": [
    "---\n",
    "**Ejercicio 3** Escribe un programa que solicite al usuario dos números, ìnicio y fin, y muestre todos los números primos en ese intervalo (inclusive). Debes usar bucles anidados: un bucle para recorrer los números en el rango y otro bucle para verificar si un número es primo."
   ]
  },
  {
   "cell_type": "markdown",
   "id": "2c0310a4",
   "metadata": {},
   "source": [
    "---\n",
    "**Ejercicio 4.** La Conjetura de Collatz (también conocida como la conjetura 3n + 1) propone que, sin importancia del entero positivo seleccionado, la serie siguiente de pasos conduce en algún momento al  número 1.\n",
    "\n",
    "Los pasos son los siguientes:\n",
    "\n",
    "1. Si el número es par, divídelo por 2.\n",
    "2. Si el número es impar, multiplícalo por 3 y súmale 1.\n",
    "3. Repite el proceso con el resultado.\n",
    "\n",
    "Escribe un programa que tome un número entero positivo como entrada y muestre la secuencia de Collatz para ese número hasta que llegue a 1. Además, muestra el número total de pasos requeridos."
   ]
  },
  {
   "cell_type": "markdown",
   "id": "63350198",
   "metadata": {},
   "source": [
    "---\n",
    "**Ejercicio 5.** Implementa el algoritmo de búsqueda binaria. Solicita al usuario una lista ordenada de números enteros y un número a buscar dentro de la lista. El programa debe determinar si el número se encuentra en la lista o no utilizando la búsqueda binaria y, en caso afirmativo, mostrar el índice del número en la lista.\n",
    "\n",
    "El algoritmo de búsqueda binaria funciona así:\n",
    "Funcionamiento del algoritmo:\n",
    "1. Comienza con toda la lista como el intervalo de búsqueda.\n",
    "2. Compara el elemento medio de la lista con el valor objetivo.\n",
    "    - Si el valor objetivo coincide con el elemento medio, la búsqueda ha terminado.\n",
    "    - Si el valor objetivo es menor que el elemento medio, continúa la búsqueda en la mitad inferior de la lista.\n",
    "    - Si el valor objetivo es mayor que el elemento medio, continúa la búsqueda en la mitad superior.\n",
    "3. Repite el paso 2 hasta que el valor objetivo se encuentre o el intervalo de búsqueda esté vacío."
   ]
  },
  {
   "cell_type": "code",
   "execution_count": null,
   "id": "82a71a16",
   "metadata": {},
   "outputs": [],
   "source": []
  },
  {
   "cell_type": "markdown",
   "id": "a4e047b9",
   "metadata": {},
   "source": [
    "# Tuplas, diccionarios y sets"
   ]
  },
  {
   "cell_type": "markdown",
   "id": "6e9919db",
   "metadata": {},
   "source": [
    "Las tuplas, diccionarios y sets forman junto a las cadenas y las listas las principales estructuras de datos en Python. Todas ellas son esenciales para un óptimo desempeño en este lenguaje de programación, ya que permiten organizar, almacenar y manejar datos de manera eficiente.\n",
    "\n",
    "Como punto de referencia, a continuación se resumen las principales características de estas cinco estructuras de datos (las cadenas y listas fueron analizadas en la sesión 3)\n",
    "\n",
    "- **Cadenas**. \n",
    "Son secuencias inmutables de caracteres utilizadas para representar texto. Son esenciales para manejar información de tipo textual y permiten realizar operaciones como la concatenación, transformación y búsqueda de subcadenas.\n",
    "\n",
    "- **Listas**. \n",
    "Son estructuras de datos mutables y ordenadas que pueden incluir elementos de cualquier tipo. Son cruciales para organizar y almacenar datos.\n",
    "\n",
    "- **Tuplas**. \n",
    "Son secuencias inmutables y ordenadas de elementos. Son especialmente útiles para almacenar datos que no deben ser modificados durante el ciclo de vida de un programa. \n",
    "\n",
    "- **Diccionarios**. \n",
    "Estructuras mutables que almacenan pares de clave-valor. Son versátiles y útiles para establecer relaciones entre datos y realizar búsquedas eficientes basadas en claves.\n",
    "\n",
    "- **Sets**. \n",
    "Son colecciones no ordenadas de elementos únicos. Son ideales para realizar operaciones de conjuntos, como la unión, la intersección y la diferencia."
   ]
  },
  {
   "cell_type": "code",
   "execution_count": null,
   "id": "a3f000c2",
   "metadata": {},
   "outputs": [],
   "source": [
    "mi_cadena = 'abcde'\n",
    "print(mi_cadena)\n",
    "mi_lista = ['a', 'b', 'c', 'd', 'e']\n",
    "print(mi_lista)\n",
    "mi_tupla = ('a', 'b', 'c', 'd', 'e')\n",
    "print(mi_tupla)\n",
    "mi_dict = {'a': 1, 'b': 2, 'c': 3, 'd': 4, 'e': 5}\n",
    "print(mi_dict)\n",
    "mi_set = {'a', 'b', 'c', 'd', 'e'}\n",
    "print(mi_set)"
   ]
  },
  {
   "cell_type": "markdown",
   "id": "59b8627f",
   "metadata": {},
   "source": [
    "## 1. Tuplas"
   ]
  },
  {
   "cell_type": "markdown",
   "id": "e3e4abde",
   "metadata": {},
   "source": [
    "### Definición y creación"
   ]
  },
  {
   "cell_type": "markdown",
   "id": "2e3a0b12",
   "metadata": {},
   "source": [
    "Las tuplas son estructuras de datos inmutables (una vez definidas, no pueden ser modificadas) que reflejan secuencias ordenadas y pueden contener elementos de cualquier tipo (listas, diccionarios, otras tuplas, etc.).\n",
    "\n",
    "Las tuplas son útiles cuando se desea crear una colección de elementos que no debe ser modificada. Por ejemplo:\n",
    "- representación de puntos en un espacio multidimensional.\n",
    "- Almacenamiento de configuraciones o preferencias que no deben ser alteradas durante la ejecución del programa.\n",
    "- devolución de múltiples valores desde una función.\n",
    "\n",
    "Las principales ventajas de esta estructura de datos son el rendimiento, pues son más rápidas que las listas en operaciones de solo lectura y su seguridad, ya que permanece intacta la integridad de los datos al no poder sufrir modificaciones.\n",
    "\n",
    "Las tuplas se crean utilizando paréntesis `( )` y los elementos de la tupla están separados por comas:"
   ]
  },
  {
   "cell_type": "code",
   "execution_count": null,
   "id": "7bb16d61",
   "metadata": {},
   "outputs": [],
   "source": [
    "mi_tupla = (1, 'baloncesto', 3.14159, True)"
   ]
  },
  {
   "cell_type": "markdown",
   "id": "1a5c6f8f",
   "metadata": {},
   "source": [
    "Las tuplas que contienen un solo elemento se declaran indicando entre paréntesis el elemento seguido de una coma (si se omite la coma, Python entiende que es un paréntesis aritmético):\n",
    "Las tuplas vacías se declaran con un paréntesis vacío.\n",
    "Además, toda tupla se puede generar a partir de una lista a través del constructor `tuple(<lista>)`"
   ]
  },
  {
   "cell_type": "code",
   "execution_count": null,
   "id": "c19a8609",
   "metadata": {},
   "outputs": [],
   "source": [
    "a = ()\n",
    "b = ('Barcelona',)\n",
    "c = tuple([2, 3, 4])\n",
    "print(a, b, c)"
   ]
  },
  {
   "cell_type": "markdown",
   "id": "4440dafc",
   "metadata": {},
   "source": [
    "### Acceso a elementos"
   ]
  },
  {
   "cell_type": "markdown",
   "id": "2d3f11e3",
   "metadata": {},
   "source": [
    "El acceso a los elementos de una lista es análogo a las cadenas y a las listas. Se accede al elemento n-ésimo de una tupla indicando entre corchetes la posición con índice n:\n",
    "\n",
    "`elemento_n = mi_tupla[n]`\n",
    "\n",
    "Las tuplas también admiten la generación de subtuplas con el operador de slice \n",
    "\n",
    "`subtupla = tupla[inicio:fin:paso]`\n",
    "\n",
    "del mismo modo que las subcadenas y sublistas en el caso de cadenas y listas, respectivamente."
   ]
  },
  {
   "cell_type": "code",
   "execution_count": null,
   "id": "ece35b52",
   "metadata": {},
   "outputs": [],
   "source": [
    "mi_tupla = ('a', 'b', 'c', 'd', 'e', 'f', 'g', 'h', 'i')\n",
    "print(mi_tupla[3])\n",
    "print(mi_tupla[-2])\n",
    "print(mi_tupla[:5])\n",
    "print(mi_tupla[2:6:2])"
   ]
  },
  {
   "cell_type": "markdown",
   "id": "207c331e",
   "metadata": {},
   "source": [
    "Al ser objetos inmutables no se puede modificar una tupla una vez creada"
   ]
  },
  {
   "cell_type": "code",
   "execution_count": null,
   "id": "4091b9ac",
   "metadata": {},
   "outputs": [],
   "source": [
    "mi_tupla = ('soy', 'inevitable')\n",
    "mi_tupla[1] = 'Thanos'\n",
    "print(mi_tupla)"
   ]
  },
  {
   "cell_type": "markdown",
   "id": "4a463103",
   "metadata": {},
   "source": [
    "Se puede desempaquetar una tupla explicitando en el miembro izquierdo del operador de asignación la relación de variables de desempaquetado. Para realizar esta operación se requiere que el número de variables de asignación coincida con el de elementos de la tupla (da error en caso contrario)."
   ]
  },
  {
   "cell_type": "code",
   "execution_count": null,
   "id": "49e48327",
   "metadata": {},
   "outputs": [],
   "source": [
    "mi_tupla = (1, 2, 3, 4)\n",
    "a, b, c, d = mi_tupla"
   ]
  },
  {
   "cell_type": "markdown",
   "id": "729b877c",
   "metadata": {},
   "source": [
    "### Métodos con tuplas"
   ]
  },
  {
   "cell_type": "markdown",
   "id": "f35d570f",
   "metadata": {},
   "source": [
    "Las tuplas son estructuras bastante simples y solo cuentan con dos métodos preimplementados: count e index. Como es usual, se invocan mediante un punto seguido de la función:\n",
    "\n",
    "`tupla.funcion_preimplementada()`\n",
    "\n",
    "| Función preimplementada | Descripción |\n",
    "| --- | --- |\n",
    "| count(\\<elemento\\>) | Retorna el número de veces que aparece \\<elemento\\> en la tupla |\n",
    "| index(\\<elemento\\>) | Retorna el índice de la primera aparición de \\<elemento\\> en la tupla |\n",
    "|  | Devuelve -1 en caso de ausencia |\n",
    "\n",
    "Además, la función general de Python `len()` devuelve la longitud de la tupla"
   ]
  },
  {
   "cell_type": "code",
   "execution_count": null,
   "id": "d1ffbd20",
   "metadata": {},
   "outputs": [],
   "source": [
    "mi_tupla = (3, 1, 4, 1, 5, 9, 2)\n",
    "print(f\"La tupla {mi_tupla} tiene {len(mi_tupla)} elementos.\")\n",
    "print(f\"El elemento '1' aparece {mi_tupla.count(1)} veces en la tupla.\")\n",
    "print(f\"Su primera aparición ocurre en el índice {mi_tupla.index(1)}.\")\n"
   ]
  },
  {
   "cell_type": "markdown",
   "id": "04f7a235",
   "metadata": {},
   "source": [
    "Finalmente, las tuplas son objetos iterables en Python. Esto implica que, por ejemplo, pueden incluirse como los elementos de una secuencia en un bucle `for`."
   ]
  },
  {
   "cell_type": "code",
   "execution_count": null,
   "id": "674af97e",
   "metadata": {},
   "outputs": [],
   "source": [
    "mi_tupla = ('Voy', 'a', 'iterar', 'sobre', 'una', 'tupla')\n",
    "for elem in mi_tupla:\n",
    "    print(elem)"
   ]
  },
  {
   "cell_type": "markdown",
   "id": "28e56cd2",
   "metadata": {},
   "source": [
    "---\n",
    "**Ejercicio 1.** Dada una tupla que contiene otras tuplas con dos números,\n",
    "\n",
    "`mi_tupla = ((1, 5), (2, 6), (3, 7), (4, 8), (5, 9))`\n",
    "\n",
    "crea un programa que itere sobre la tupla principal y multiplique los dos números de cada tupla anidada. Devuelve por pantalla el resultado en una nueva tupla."
   ]
  },
  {
   "cell_type": "markdown",
   "id": "cc5db25c",
   "metadata": {},
   "source": [
    "## 2. Diccionarios"
   ]
  },
  {
   "cell_type": "markdown",
   "id": "7fc16e39",
   "metadata": {},
   "source": [
    "### Definición y creación"
   ]
  },
  {
   "cell_type": "markdown",
   "id": "37b98039",
   "metadata": {},
   "source": [
    "Los diccionarios en Python son estructuras de datos mutables y dinámicas que permiten almacenar pares de clave-valor (key-value). \n",
    "- Las claves son objetos de tipo inmutable que son únicos dentro de un mismo diccionario. Se utilizan para acceder a los valores asociados.\n",
    "- Los valores son las variables, de tipo mutable o inmutable, que se asocia a cada clave del diccionario. No necesariamente son únicos pues dos claves pueden tener el mismo valor.\n",
    "\n",
    "Los diccionarios permiten organizar la información de forma eficiente y acceder a ella de manera rápida mediante claves únicas. Son ideales para cuando se necesita acceso rápido a la información mediante una clave, como puede ser el nombre de un usuario para acceder a sus detalles.\n",
    "\n",
    "Los diccionarios se crean utilizando llaves `{}` donde los pares de claves y valores se indican y asignan con dos puntos, `:`. Asimismo, cada uno de estos pares se separa entre comas:\n",
    "\n",
    "`mi_dict = {<clave1>:<valor1>, <clave2>:<valor2>, <clave3>:<valor3>, ...}`\n",
    "\n"
   ]
  },
  {
   "cell_type": "code",
   "execution_count": null,
   "id": "46a80a43",
   "metadata": {},
   "outputs": [],
   "source": [
    "mi_dict1 = {'Juan': 19, 'María': 27, 'Paola':6, 'Leonardo': 54}\n",
    "print(mi_dict1)\n",
    "\"\"\"\n",
    "La única restricción sobre los diccionarios es que las claves han de ser objetos mutables.\n",
    "El siguiente diccionario utiliza como claves enteros, floats, tuplas y strings (todos mutables).\n",
    "En cambio, no se podría utilizar una lista como clave.\n",
    "Esta misma restricción no está presente para los valores\"\n",
    "\"\"\"\n",
    "mi_dict2 = {1:'uno', 2.2:'dos coma dos', (3, 3): 'tupla 3, 3', 'hola': [1, 2, 3], 'adios': {1:'a'}}\n",
    "print(mi_dict2)"
   ]
  },
  {
   "cell_type": "markdown",
   "id": "a4c5db49",
   "metadata": {},
   "source": [
    "Otra forma de crear diccionarios es utilizando el método `dict()`"
   ]
  },
  {
   "cell_type": "code",
   "execution_count": 63,
   "id": "936699ed",
   "metadata": {},
   "outputs": [
    {
     "name": "stdout",
     "output_type": "stream",
     "text": [
      "{'nombre': 'Juan', 'edad': 30, 'ciudad': 'Madrid'}\n"
     ]
    }
   ],
   "source": [
    "mi_dict = dict(nombre=\"Juan\", edad=30, ciudad=\"Madrid\")\n",
    "print(mi_dict)"
   ]
  },
  {
   "cell_type": "markdown",
   "id": "587bc0a5",
   "metadata": {},
   "source": [
    "Igualmente, se puede crear un diccionario vacío empleando dos llaves o con este mismo método"
   ]
  },
  {
   "cell_type": "code",
   "execution_count": null,
   "id": "360e7bda",
   "metadata": {},
   "outputs": [],
   "source": [
    "mi_dict1 = {}\n",
    "mi_dict2 = dict()\n",
    "print(mi_dict1)\n",
    "print(mi_dict2)"
   ]
  },
  {
   "cell_type": "markdown",
   "id": "7a3dda16",
   "metadata": {},
   "source": [
    "### Acceso y modificación"
   ]
  },
  {
   "cell_type": "markdown",
   "id": "f1cad14c",
   "metadata": {},
   "source": [
    "Las claves de los diccionarios cumplen la función de etiquetar las variables contenidas en su valor Para acceder al valor asociado a una clave se indica la clave entre corchetes:\n",
    "\n",
    "`mi_dict[<clave1>]` devuelve `<valor1>`"
   ]
  },
  {
   "cell_type": "code",
   "execution_count": null,
   "id": "8a59e51e",
   "metadata": {},
   "outputs": [],
   "source": [
    "mi_dict = {'animal':'tigre', 'peso':104, 'sexo':'hembra', 'edad':7}\n",
    "print(mi_dict['animal'])\n",
    "print(mi_dict['edad'])\n",
    "\"\"\"\n",
    "Si la clave no está presente en el diccionario da lugar a 'KeyError'.\n",
    "Desmarca la siguiente línea de código para comprobarlo\n",
    "\"\"\";\n",
    "# print(mi_dict['color'])"
   ]
  },
  {
   "cell_type": "markdown",
   "id": "09d9f532",
   "metadata": {},
   "source": [
    "Los diccionarios son mutables, por lo que los valores pueden ser modificados, y se pueden añadir nuevos pares de clave-valor. La creación de nuevas entradas en un diccionario es sencilla:\n",
    "\n",
    "`mi_dict[<nueva_clave>] = <valor>`\n",
    "\n",
    "Esta misma fórmula se utiliza para cambiar el valor a una clave ya existente. En el caso de ya existir la clave, su valor asociado queda actualizado a la última asignación."
   ]
  },
  {
   "cell_type": "code",
   "execution_count": null,
   "id": "f1fd9722",
   "metadata": {},
   "outputs": [],
   "source": [
    "dict_chiki = {1: 'Breaking dance', 2:'Michael Jackson', 3:'Cruzadito'}\n",
    "dict_chiki[4] = 'Robocop'\n",
    "print(dict_chiki)\n",
    "dict_chiki[1] = 'Breikindans'\n",
    "dict_chiki[2] = 'Maikelyacson'\n",
    "dict_chiki[3] = 'Crusaíto'\n",
    "print(dict_chiki)"
   ]
  },
  {
   "cell_type": "markdown",
   "id": "32a8d404",
   "metadata": {},
   "source": [
    "La función de pertenencia `in` se puede emplear con diccionarios para comprobar si una clave está incluida en el mismo"
   ]
  },
  {
   "cell_type": "code",
   "execution_count": null,
   "id": "859ee37b",
   "metadata": {},
   "outputs": [],
   "source": [
    "mi_dict = {'a': 1, 'b': 2, 'c': 3}\n",
    "print(f\"¿Está la clave 'a' en el diccionario? {'a' in mi_dict}\")\n",
    "print(f\"¿Está la clave '2' en el diccionario? {'2' in mi_dict}\")"
   ]
  },
  {
   "cell_type": "markdown",
   "id": "097b9e08",
   "metadata": {},
   "source": [
    "### Métodos de diccionarios"
   ]
  },
  {
   "cell_type": "markdown",
   "id": "6ed5d460",
   "metadata": {},
   "source": [
    "Además de la función general `len`, los diccionarios en Python tienen varios métodos integrados que facilitan su manipulación. Como es habitual, la aplicación de estos métodos se realiza mediante un punto seguido de la función:\n",
    "\n",
    "`diccionario.funcion_preimplementada()`\n",
    "\n",
    "| Función preimplementada | Descripción |\n",
    "| --- | --- |\n",
    "| get(\\<clave\\>, \\<por_defecto\\>) | Devuelve el valor para \\<clave\\> o el valor \\<por_defecto\\> si \\<clave\\> no se encuentra en el diccionario. |\n",
    "| items() | Devuelve una vista de todos los pares clave-valor en el diccionario. |\n",
    "| keys() | Devuelve una vista de todas las claves en el diccionario. |\n",
    "| values() | Devuelve una vista de todos los valores en el diccionario. |\n",
    "| update(\\<otro_diccionario\\>) | Actualiza el diccionario con los pares clave-valor de \\<otro_diccionario\\>. |\n",
    "| pop(\\<clave\\>) | Elimina el par clave-valor asociado a \\<clave\\> y devuelve el valor asociado. |"
   ]
  },
  {
   "cell_type": "code",
   "execution_count": null,
   "id": "e39f3177",
   "metadata": {},
   "outputs": [],
   "source": [
    "usuario = {\"nombre\": \"Maria\", \"edad\": 25, \"email\": \"maria@email.com\"}\n",
    "print(usuario.get(\"nombre\", \"Usuario no registrado\"))\n",
    "print(usuario.get(\"teléfono\", \"Teléfono no registrado\"))\n",
    "\n",
    "print(\"Los items del dictionario usuario son:\", usuario.items(), sep='\\n')\n",
    "print(\"Las claves del dictionario usuario son:\", usuario.keys(), sep='\\n')\n",
    "print(\"Los valores del dictionario usuario son:\", usuario.values(), sep='\\n')\n",
    "\n",
    "domicilio = {\"via\": \"calle\", \"nombre_via\": \"Corretgeria\", \"numero\": 6}\n",
    "usuario.update(domicilio)\n",
    "print(f\"Diccionario actualizado:\\n{usuario}\")\n",
    "\n",
    "valor = usuario.pop('email')\n",
    "print(f\"Al extraer la clave 'email', que tiene por valor '{valor}', el diccionario elimina este par:\\n{usuario}\")\n"
   ]
  },
  {
   "cell_type": "markdown",
   "id": "9d41ea04",
   "metadata": {},
   "source": [
    "Los métodos `keys()`, `values()` e `items()` crean listas. En consecuencia, son adecuados para su iteración en bucles de tipo `for`."
   ]
  },
  {
   "cell_type": "code",
   "execution_count": null,
   "id": "0b439e7c",
   "metadata": {},
   "outputs": [],
   "source": [
    "usuario = {\"nombre\": \"Alberto\", \"edad\": 13, \"curso\": \"2º ESO\"}\n",
    "\n",
    "print(\"Iterando las claves:\")\n",
    "for key in usuario.keys():  # Iterando sobre las claves del diccionario\n",
    "    print(key)\n",
    "\n",
    "print(\"\\nIterando los valores:\")\n",
    "for value in usuario.values():  # Iterando sobre los valores del diccionario\n",
    "    print(value)\n",
    "\n",
    "print(\"\\nIterando ambos:\")\n",
    "for clave, valor in usuario.items():  # Iterando sobre los pares clave-valor del diccionario\n",
    "    print(f\"{clave}: {valor}\")"
   ]
  },
  {
   "cell_type": "markdown",
   "id": "578d9f69",
   "metadata": {},
   "source": [
    "---\n",
    "**Ejercicio 2.** Dados los diccionarios dict1 y dict2,\n",
    "\n",
    "`dict1 = {\"ciruelos\": 1, \"manzanas\": 5, \"peras\": 3, \"plátanos\": 8}`\n",
    "\n",
    "`dict2 = {\"manzanas\": 3, \"uvas\": 5, \"plátanos\": 2, \"sandías\": 4}`\n",
    "\n",
    "fusiona ambos en un nuevo diccionario tal que si una clave está en ambos diccionarios, el valor correspondiente es la suma de los valores de cada uno."
   ]
  },
  {
   "cell_type": "markdown",
   "id": "cd7a6e15",
   "metadata": {},
   "source": [
    "---\n",
    "**Ejercicio 3.** El siguiente diccionario incluye los estudiantes matriculados en las distintas asignaturas de segundo curso del grado de física:\n",
    "\n",
    "asignaturas_master = {\n",
    "\n",
    "    \"Introduccion_a_la_Inteligencia_Artificial\": [\"Ana\", \"Luis\", \"Carmen\", \"Javier\"],\n",
    "    \"Data_Science_y_Big_Data\": [\"Ana\", \"Carmen\", \"Javier\", \"Elena\", \"Carlos\"],\n",
    "    \"Machine_Learning_Aprendizaje_Supervisado_y_No_Supervisado\": [\"Ana\", \"Luis\", \"Carmen\", \"Elena\", \"Carlos\", \"Sara\"],\n",
    "    \"Machine_Learning_Aprendizaje_Reforzado\": [\"Ana\", \"Carmen\"],\n",
    "    \"Redes_Neuronales_y_Deep_Learning\": [\"Luis\", \"Elena\", \"Carlos\", \"Javier\", \"Sara\"],\n",
    "    \"IA_Generativa_con_sistemas_abiertos\": [\"Ana\", \"Luis\", \"Carlos\"],\n",
    "    \"IA_Generativa_con_sistemas_propietarios\": [\"Carmen\", \"Elena\", \"Javier\"],\n",
    "    \"Procesamiento_del_Lenguaje_Natural\": [\"Ana\", \"Luis\", \"Carmen\", \"Sara\"],\n",
    "    \"Computer_Vision\": [\"Elena\", \"Carlos\", \"Javier\", \"Sara\"],\n",
    "    \"IA_en_Ciberseguridad\": [\"Luis\", \"Carlos\", \"Javier\", \"Elena\"],\n",
    "    \"IA_en_el_mundo_empresarial\": [\"Ana\", \"Carmen\", \"Elena\", \"Carlos\", \"Javier\"],\n",
    "    \"TFM\": [\"Ana\", \"Luis\", \"Carmen\", \"Javier\", \"Carlos\", \"Elena\", \"Sara\"]\n",
    "}\n",
    "    \n",
    "Crea el diccionario 'estudiantes' que contiene las relaciones del diccionario original invertidas. En otras palabras, los valores de las listas se conviertan en claves y las claves originales se conviertan en valores dentro de listas. Si una clave del diccionario invertido tiene múltiples valores en el diccionario original, estos deben aparecer en una lista en el diccionario invertido."
   ]
  },
  {
   "cell_type": "markdown",
   "id": "159622fb",
   "metadata": {},
   "source": [
    "## 3. Sets"
   ]
  },
  {
   "cell_type": "markdown",
   "id": "b5468bd4",
   "metadata": {},
   "source": [
    "### Definición y creación"
   ]
  },
  {
   "cell_type": "markdown",
   "id": "bc7cf5be",
   "metadata": {},
   "source": [
    "Un set en Python es una colección desordenada de elementos únicos. Son especialmente útiles y versátiles para almacenar conjuntos de elementos únicos. Permiten realizar fácilmente operaciones matemáticas de conjuntos, como uniones, intersecciones y diferencias. \n",
    "\n",
    "Se definen utilizando llaves `{}`, al igual que los diccionarios, pero solo contienen valores (y no pares de elementos clave-valor). Para definir sets vacíos se emplea el constructor `set()`. Nota que no se puede construir un set vacío con llaves porque esto crea un diccionario vacío."
   ]
  },
  {
   "cell_type": "code",
   "execution_count": null,
   "id": "9b5ab192",
   "metadata": {},
   "outputs": [],
   "source": [
    "mi_set1 = {1, 2, 3}\n",
    "print(mi_set1)\n",
    "mi_set2 = {'a', 'b', 'c', 'a', 'd'}  # Al crear el set se eliminan las repeticiones de los elementos\n",
    "print(mi_set2)\n",
    "mi_set3 = set()\n",
    "print(mi_set3, type(mi_set3))\n",
    "mi_falso_set4 = {}\n",
    "print(mi_falso_set4, type(mi_falso_set4))"
   ]
  },
  {
   "cell_type": "markdown",
   "id": "7e670a84",
   "metadata": {},
   "source": [
    "Los sets no tienen definida el acceso indexado a los elementos que lo conforman, pues es un objeto desordenado por construcción."
   ]
  },
  {
   "cell_type": "code",
   "execution_count": null,
   "id": "c5eeca3d",
   "metadata": {},
   "outputs": [],
   "source": [
    "mi_set = {1, 2, 3, 4, 5}\n",
    "mi_set[2]"
   ]
  },
  {
   "cell_type": "markdown",
   "id": "fb67515b",
   "metadata": {},
   "source": [
    "En cambio, los sets tienen bien definida la operación de pertenencia `in`."
   ]
  },
  {
   "cell_type": "code",
   "execution_count": null,
   "id": "a5fb6a48",
   "metadata": {},
   "outputs": [],
   "source": [
    "mi_set = {1, 2, 3, 4, 5}\n",
    "print(1 in mi_set)\n",
    "print(10 in mi_set)"
   ]
  },
  {
   "cell_type": "markdown",
   "id": "b8764397",
   "metadata": {},
   "source": [
    "### Métodos de sets: operaciones básicas"
   ]
  },
  {
   "cell_type": "markdown",
   "id": "80d00c1a",
   "metadata": {},
   "source": [
    "Además de la función general `len`, que da cuenta del número de elementos del conjunto, los sets en Python tienen varios métodos integrados que reproducen las operaciones básicas entre conjuntos. La aplicación de estos métodos se realiza mediante un punto seguido de la función:\n",
    "\n",
    "`set.funcion_preimplementada()`\n",
    "\n",
    "| Función preimplementada | Descripción |\n",
    "| --- | --- |\n",
    "| add(\\<elemento\\>) | Añade \\<elemento\\> al conjunto. |\n",
    "| update(<\\lista\\>) | Añade los elementos contenidos en <\\lista\\> al conjunto. |\n",
    "| remove(\\<elemento\\>) | Elimina el elemento  \\<elemento\\> del conjunto y da error si no está presente |\n",
    "| discard(\\<elemento\\>) | Elimina el elemento  \\<elemento\\> del conjunto en el caso de estar presente. |\n",
    "| union(\\<otro_set\\>) | Efectúa la operación de unión con el conjunto \\<otro_set\\> |\n",
    "| intersecion(\\<otro_set\\>) | Efectúa la operación de intersección con el conjunto \\<otro_set\\> |\n",
    "| union(\\<otro_set\\>) | Efectúa la operación de diferencia del set original con el conjunto \\<otro_set\\> |"
   ]
  },
  {
   "cell_type": "code",
   "execution_count": null,
   "id": "6f8c122a",
   "metadata": {},
   "outputs": [],
   "source": [
    "mi_set = {1, 2, 3, 4, 5}\n",
    "print(mi_set)\n",
    "mi_set.add(6)  # Añade el elemento 6 al set\n",
    "print(mi_set)\n",
    "mi_set.update([5, 6, 7, 8, 9])  # Añade los elementos 7, 8 y 9 al set\n",
    "print(mi_set)\n",
    "mi_set.remove(6)  # Elimina el elemento 6 del set\n",
    "mi_set.discard(7)  # Elimina el elemento 7 del set\n",
    "print(mi_set)"
   ]
  },
  {
   "cell_type": "code",
   "execution_count": null,
   "id": "bc5b7ef1",
   "metadata": {},
   "outputs": [],
   "source": [
    "A = {1, 2, 3, 4}\n",
    "B = {3, 4, 5, 6}\n",
    "print(A.union(B))\n",
    "print(A.intersection(B))\n",
    "print(A.difference(B))"
   ]
  },
  {
   "cell_type": "markdown",
   "id": "ae60966a",
   "metadata": {},
   "source": [
    "Los sets también permiten las operaciones de inclusión. Se pueden comparar sets usando operadores de comparación como `<=` para subconjunto y `<` para subconjunto propio. La operación `>=`  entre conjuntos da como resultado True si el primer conjunto contiene al segundo y la operación. Igualmente, la operación `>` resulta True si el primer elemento contiene de forma propia al segundo. "
   ]
  },
  {
   "cell_type": "code",
   "execution_count": null,
   "id": "4f2436c4",
   "metadata": {},
   "outputs": [],
   "source": [
    "A = {'a', 'b', 'c', 'd', 'e'}\n",
    "B = {'a', 'b', 'h'}\n",
    "C = {'b', 'c', 'd'}\n",
    "print(\"¿B es subconjunto de A?\", B <= A)\n",
    "print(\"¿B contiene a A?\", B >= A)\n",
    "print(\"¿C es subconjunto propio de A?\", C < A)\n",
    "print(\"¿C es contiene y no es igual a A?\", C > A)\n",
    "print(\"¿A es subconjunto de A?\", A <= A)\n",
    "print(\"¿A es subconjunto propio de A?\", A < A)"
   ]
  },
  {
   "cell_type": "markdown",
   "id": "85d00dc5",
   "metadata": {},
   "source": [
    "---\n",
    "**Ejercicio 4.** Dados los conjuntos\n",
    "`A = {1, 2, 3, 4, 5}` y `B = {4, 5, 6, 7, 8}`\n",
    "1. Calcula la unión, la intersección y la diferencia de $A$ y $B$.\n",
    "2. Comprueba que se satisface la siguiente propiedad de la unión de conjuntos: $|A\\cup B|=|A|+|B|-|A\\cap B|$, donde $|\\cdot|$ representa el cardinal de un conjunto (su número de elementos).\n",
    "3. Encuentra todos los subconjuntos de tres elementos del conjunto $A$."
   ]
  },
  {
   "cell_type": "code",
   "execution_count": null,
   "id": "facf6c36",
   "metadata": {},
   "outputs": [],
   "source": []
  },
  {
   "cell_type": "markdown",
   "id": "8cdf6a44",
   "metadata": {},
   "source": [
    "# Funciones"
   ]
  },
  {
   "cell_type": "markdown",
   "id": "1bd5fade",
   "metadata": {},
   "source": [
    "## 1. Definición de función"
   ]
  },
  {
   "cell_type": "markdown",
   "id": "1cbfe224",
   "metadata": {},
   "source": [
    "Una función es un bloque de código reutilizable que realiza una tarea específica. Las funciones permiten dividir el código en bloques manejables y reutilizables, lo que facilita el desarrollo, la prueba, y la depuración del código.\n",
    "\n",
    "La sintaxis básica para definir una función en Python es utilizando la palabra clave `def` seguida del nombre de la función y paréntesis (). A continuación, se añaden dos puntos, `:`, para indicar el comienzo del bloque de código de la función, el cual se escribe indentado.\n",
    "\n",
    "```\n",
    "def mi_funcion():\n",
    "    # Cuerpo de la función\n",
    "    ...\n",
    "```\n",
    "\n",
    "Una vez que una función ha sido definida, se puede \"llamar\" o \"invocar\" en cualquier parte de nuestro programa usando el nombre de la función seguido por paréntesis ()."
   ]
  },
  {
   "cell_type": "code",
   "execution_count": null,
   "id": "e1af8835",
   "metadata": {},
   "outputs": [],
   "source": [
    "# Definición de la función\n",
    "def mi_funcion():\n",
    "    print(\"¡Hola! Esto es una función.\")\n",
    "\n",
    "# Llamada a la función\n",
    "mi_funcion"
   ]
  },
  {
   "cell_type": "code",
   "execution_count": 2,
   "id": "f50a802c",
   "metadata": {},
   "outputs": [
    {
     "data": {
      "text/plain": [
       "<bound method RandomState.choice of RandomState(MT19937) at 0x1EAB8B91340>"
      ]
     },
     "execution_count": 2,
     "metadata": {},
     "output_type": "execute_result"
    }
   ],
   "source": [
    "import numpy\n",
    "numpy.random.choice"
   ]
  },
  {
   "cell_type": "markdown",
   "id": "be8d5372",
   "metadata": {},
   "source": [
    "Al llegar a una llamada de función durante la ejecución del programa, el flujo de control se desplaza al cuerpo de la función. Una vez que se ha ejecutado todo el cuerpo de la función, el flujo de control retorna al punto desde donde fue llamada la función."
   ]
  },
  {
   "cell_type": "code",
   "execution_count": null,
   "id": "1c0a8a97",
   "metadata": {},
   "outputs": [],
   "source": [
    "def mi_funcion1():\n",
    "    print(\"Estoy en la función uno\")\n",
    "\n",
    "def mi_funcion2():\n",
    "    print(\"Ahora estoy en la función dos\")\n",
    "    mi_funcion1()\n",
    "\n",
    "print(\"Inicio del Programa\")\n",
    "mi_funcion1()\n",
    "mi_funcion2()\n",
    "print(\"Fin del Programa\")"
   ]
  },
  {
   "cell_type": "markdown",
   "id": "01ea08df",
   "metadata": {},
   "source": [
    "## 2. Parámetros y argumentos"
   ]
  },
  {
   "cell_type": "markdown",
   "id": "da510450",
   "metadata": {},
   "source": [
    "Los parámetros son variables que se incorporan como parte de la definición de la función. Actúan como \"casillas\" para los datos que serán pasados a la función en el momento en que esta sea llamada. Los argumentos, por otro lado, son los valores reales que se pasan a la función al invocarla.\n",
    "\n",
    "La sintaxis para la definición de una función con parámetros es:\n",
    "```\n",
    "def mi_funcion(parametro1, parametro2, ...):\n",
    "    # Cuerpo de la función\n",
    "    ...\n",
    "```"
   ]
  },
  {
   "cell_type": "code",
   "execution_count": null,
   "id": "831d8c24",
   "metadata": {},
   "outputs": [],
   "source": [
    "def saludo_personalizado(nombre):\n",
    "    print(f\"¡Hola, {nombre}! ¡Encantado de conocerte!\")\n",
    "    print(\"¡Hola, {0}! ¡Encantado de conocerte!, {1}\".format(nombre, 4343))\n",
    "\n",
    "\n",
    "# Llamada a la función con un argumento\n",
    "saludo_personalizado([42, 23])"
   ]
  },
  {
   "cell_type": "markdown",
   "id": "4f0160a5",
   "metadata": {},
   "source": [
    "Python permite definir valores por defecto para los parámetros de las funciones. Al llamar a la función sin proporcionar un valor para un parámetro de este tipo, se usa el valor por defecto.\n",
    "Por ejemplo, los parámetros `sep` y `end` de la función `print` son parámetros que por defecto valen ` ` y `\\n`, respectivamente"
   ]
  },
  {
   "cell_type": "code",
   "execution_count": null,
   "id": "7545d651",
   "metadata": {},
   "outputs": [],
   "source": [
    "def calcular_multiplos(n, max=10):\n",
    "    '''\n",
    "    Esta función calcula los múltiplos de n\n",
    "    n: numero que le meto a la funcion\n",
    "    max: por defecto es 10\n",
    "    '''\n",
    "    multiplos = []\n",
    "    for i in range(1, max+1):\n",
    "        multiplos.append(i * n)\n",
    "    print(f\"Los {max} primeros múltiplos naturales de {n} son {multiplos}\")\n",
    "\n",
    "help(calcular_multiplos)"
   ]
  },
  {
   "cell_type": "code",
   "execution_count": null,
   "id": "4ac81273",
   "metadata": {},
   "outputs": [],
   "source": [
    "def calcular_multiplos(n, max=10):\n",
    "    '''\n",
    "    Esta función calcula los múltiplos de n\n",
    "    n: numero que le meto a la funcion\n",
    "    max: por defecto es 10\n",
    "    '''\n",
    "    multiplos = []\n",
    "    for i in range(1, max+1):\n",
    "        multiplos.append(i * n)\n",
    "    print(f\"Los {max} primeros múltiplos naturales de {n} son {multiplos}\")\n",
    "\n",
    "# calcular_multiplos(7)\n",
    "\n",
    "# calcular_multiplos(3, 15)\n",
    "\n",
    "for i in range(1, 11):\n",
    "    calcular_multiplos(i)\n"
   ]
  },
  {
   "cell_type": "markdown",
   "id": "e7c156fc",
   "metadata": {},
   "source": [
    "Python también permite definir funciones que toman un número variable de argumentos. Además, estos argumentos de número arbitrario pueden ser posicionales (*args) o pueden ser con clave (**kwargs).\n",
    "\n",
    "Los argumentos arbitrarios posicionales (*args) se emplean al incluir funciones cuyo número de argumentos es desconocido de antemano. Se deben incluir en la definición de los parámetros de la función con un asterisco delante, `*`, y se listan una vez se han especificado todos los argumentos posicionales y los argumentos por defecto. Dentro de la función, `args` es un objeto de tipo tupla que contiene los argumentos especificados en la llamada de la función."
   ]
  },
  {
   "cell_type": "code",
   "execution_count": null,
   "id": "27e0a146",
   "metadata": {},
   "outputs": [],
   "source": [
    "def funcion_suma(*args):\n",
    "    suma = 0\n",
    "    for elem in args:\n",
    "        suma += elem\n",
    "    print(f\"La suma de los elementos de {args} es igual a {suma:.2f}\")\n",
    "\n",
    "funcion_suma(10, 18, 2, 9.98)"
   ]
  },
  {
   "cell_type": "code",
   "execution_count": null,
   "id": "423ec325",
   "metadata": {},
   "outputs": [],
   "source": [
    "nota = 1.45\n",
    "\n",
    "tupla = (1.45, 3.4, 5.0, 0.3)\n",
    "print(tupla[0])\n",
    "lista = [1.45, 3.4, 5.0, 0.3]\n",
    "lista[0] = 5.2\n",
    "print(tupla, lista)"
   ]
  },
  {
   "cell_type": "code",
   "execution_count": null,
   "id": "288d6ba2",
   "metadata": {},
   "outputs": [],
   "source": [
    "dict_notas = {'Marco':1.45, 'Josep':3.4, 'Pau':5.0, 'Eduardo':-0.3}\n",
    "dict_notas2 = {'Marco':1.45, 'Pau':5.0, 'Josep':3.4, 'Eduardo':-0.3}\n",
    "\n",
    "print(dict_notas['Eduardo'])\n",
    "print(dict_notas == dict_notas2)"
   ]
  },
  {
   "cell_type": "markdown",
   "id": "7757e33e",
   "metadata": {},
   "source": [
    "Finalmente, puede haber parámetros opcionales con clave (**kwargs, es decir, keyword args). Se utilizan para pasar un número variable de argumentos clave-valor a una función. El doble asterisco ** significa que la variable kwargs es un diccionario que contiene todos los argumentos clave-valor proporcionados a la función."
   ]
  },
  {
   "cell_type": "code",
   "execution_count": null,
   "id": "b3058955",
   "metadata": {},
   "outputs": [],
   "source": [
    "def registrar_usuario(**kwargs):\n",
    "    print(\"Detalles del Usuario:\")\n",
    "    for key, value in kwargs.items():\n",
    "        print(f\"{key}: {value}\")\n",
    "\n",
    "res = registrar_usuario(nombre=\"Carlos\", edad=35, email=\"carlos@gmail.com\", ciudad=\"Barcelona\")\n",
    "print(res)"
   ]
  },
  {
   "cell_type": "markdown",
   "id": "40346893",
   "metadata": {},
   "source": [
    "En resumen, la estructura general de los argumentos de una función (el orden es importante) es\n",
    "```\n",
    "def mi_funcion(par1, par2, ... , par_defecto1=valor_defecto1, par_defecto2=valor_defecto2, ... , *args, **kwargs):\n",
    "    # Cuerpo de la función\n",
    "    ...\n",
    "```\n",
    "\n",
    "Finalmente, en Python, los parámetros de tipo inmutable (como números y strings) se pasan por valor a las funciones, mientras que los parámetros de tipo mutable (como listas y diccionarios) se pasan por referencia. Esto significa que las funciones pueden modificar los parámetros mutables que reciben, pero no pueden modificar los parámetros inmutables."
   ]
  },
  {
   "cell_type": "markdown",
   "id": "e22466b0",
   "metadata": {},
   "source": [
    "## 3. Valor de retorno"
   ]
  },
  {
   "cell_type": "markdown",
   "id": "a274cd39",
   "metadata": {},
   "source": [
    "Las funciones en Python tienen un valor de retorno que se especifica con la palabra clave `return`. Si una función encuentra en su flujo una declaración return, la función termina inmediatamente y el valor especificado después se retorna."
   ]
  },
  {
   "cell_type": "code",
   "execution_count": null,
   "id": "c27f309b",
   "metadata": {},
   "outputs": [],
   "source": [
    "def diferencia(a, b):\n",
    "    return a - b\n",
    "\n",
    "a = 19\n",
    "b = 5\n",
    "print(f\"La diferencia entre {a} y {b} es {diferencia(a, b)}\")"
   ]
  },
  {
   "cell_type": "markdown",
   "id": "54308682",
   "metadata": {},
   "source": [
    "Las funciones en Python pueden retornar múltiples valores en forma de una tupla. Para ello, basta con especificar la serie de valores que se quiere devolver a continuación de `return` separados por comas. Asimismo, también se puede retornar ningún valor (None). En este caso, se especifica simplemente `return`. Además, en caso de omisión de `return`, se sobrentiende que una función devuelve None al concluir su bloque de código, tal como si hubiera una sentencia `return` al concluir."
   ]
  },
  {
   "cell_type": "code",
   "execution_count": null,
   "id": "c2ca8b15",
   "metadata": {},
   "outputs": [],
   "source": [
    "def propiedades_rectangulo(a, b):\n",
    "    area = a * b\n",
    "    perimetro = 2 * a + 2 * b\n",
    "    centro = (a / 2, b / 2)\n",
    "    return area, perimetro, centro\n",
    "\n",
    "area_R, perimetro_R, centro_R = propiedades_rectangulo(10, 20)\n",
    "print(f\"El área del rectángulo es {area_R}, su perímetro es {perimetro_R} y su centro esta en el punto {centro_R}\")"
   ]
  },
  {
   "cell_type": "markdown",
   "id": "6305900b",
   "metadata": {},
   "source": [
    "## 4. Funciones como objetos"
   ]
  },
  {
   "cell_type": "markdown",
   "id": "d85b5e00",
   "metadata": {},
   "source": [
    "En Python, las funciones son objetos de primera clase. Esto significa que pueden ser asignadas a variables, pasadas como argumentos a otras funciones o retornadas como valores desde otras funciones.\n",
    "\n",
    "Al asignar una función a otra variable, esta no ejecuta directamente la función. En su lugar, la variable se convierte en una referencia a la función."
   ]
  },
  {
   "cell_type": "code",
   "execution_count": null,
   "id": "0c4ab5a0",
   "metadata": {},
   "outputs": [],
   "source": [
    "def multiplicar_por_dos(numero):\n",
    "    return numero * 2\n",
    "\n",
    "# Asignación de una función a una variable\n",
    "mi_funcion = multiplicar_por_dos\n",
    "\n",
    "# Uso de la variable como función\n",
    "resultado = mi_funcion(10)\n",
    "print(\"El resultado es\", resultado)"
   ]
  },
  {
   "cell_type": "markdown",
   "id": "9fdaa0de",
   "metadata": {},
   "source": [
    "Igualmente, se pueden pasar las funciones como argumento de otras funciones"
   ]
  },
  {
   "cell_type": "code",
   "execution_count": null,
   "id": "d4f15e88",
   "metadata": {},
   "outputs": [],
   "source": [
    "def suma(a, b):\n",
    "    return a * b\n",
    "\n",
    "\n",
    "def producto(a, b):\n",
    "    return a + b\n",
    "\n",
    "mi_funcion = producto\n",
    "\n",
    "def calculadora(coso, a, b):\n",
    "    return coso(a, b)\n",
    "\n",
    "resultado1 = calculadora(suma, 5, 3)\n",
    "resultado2 = calculadora(mi_funcion, 5, 3)\n",
    "print(resultado1, resultado2)"
   ]
  },
  {
   "cell_type": "markdown",
   "id": "4aa32db5",
   "metadata": {},
   "source": [
    "---\n",
    "**Ejercicio 1.** Crea la función `es_palindromo` que recibe una cadena y un parámetro opcional `ignorar_espacios` que por defecto es False. La función ha de comprobar si la cadena introducida es palíndroma (se lee igual en ambas direcciones). La función ha de devolver True o False. Además, si ignorar_espacios es True, la función debe ignorar los espacios al comprobar si la cadena es un palíndromo."
   ]
  },
  {
   "cell_type": "markdown",
   "id": "f7e40598",
   "metadata": {},
   "source": [
    "---\n",
    "**Ejercicio 2.** Crea una función que calcule el producto de $n$ matrices de dimensión $2\\times 2$. Utiliza parámetros opcionales de tipo *arg. Introduce las matrices por filas como listas de 4 elementos."
   ]
  },
  {
   "cell_type": "markdown",
   "id": "a01d7667",
   "metadata": {},
   "source": [
    "---\n",
    "**Ejercicio 3.** Se desea desarrollar una aplicación de comercio electrónico y se requiere programar una función para crear nuevos productos. Los productos pueden tener diferentes atributos, algunos de ellos obligatorios y otros opcionales. El atributo nombre es obligatorio, el precio y el stock por defecto son 0. Además, puede admitir otros atributos como categoría, descripción, etc. Crea una función que incorpore todas estas especificaciones y que devuelva un diccionario con los atributos del producto."
   ]
  },
  {
   "cell_type": "markdown",
   "id": "453c5f72",
   "metadata": {},
   "source": [
    "---\n",
    "**Ejercicio 4.** Define la función `componer_funciones` que recibe dos o más funciones de una variable (func1, func2, etc) y devuelve una nueva función que representa la composición de las funciones dadas. Aplica esta función de composición en el caso particular de las funciones `func1 = sumar_5`, `func2=elevar_cuadrado` y `func3=dividir_3` que suman 5, elevan al cuadrado y dividen entre 3 el argumento, respectivamente."
   ]
  },
  {
   "cell_type": "markdown",
   "id": "3509b685",
   "metadata": {},
   "source": [
    "# Librerías numpy y matplotlib"
   ]
  },
  {
   "cell_type": "markdown",
   "id": "e2eeb400",
   "metadata": {},
   "source": [
    "En Python, una librería (o biblioteca) es un conjunto de módulos que proporciona funcionalidades predefinidas. Estas pueden pueden incluir variables, funciones, clases, y métodos. Al usar librerías, los desarrolladores pueden ahorrar tiempo, ya que pueden usar código que ya ha sido escrito y probado, en lugar de escribir todo desde cero. Por ejemplo, librerías como numpy y matplotlib proporcionan herramientas para realizar operaciones matemáticas avanzadas y visualización de datos, respectivamente."
   ]
  },
  {
   "cell_type": "markdown",
   "id": "2235dc0d",
   "metadata": {},
   "source": [
    "## 1. Importar e instalar librerías"
   ]
  },
  {
   "cell_type": "markdown",
   "id": "5f5610c6",
   "metadata": {},
   "source": [
    "Las librerías en Python se pueden importar utilizando la palabra clave `import`. Generalmente esta acción se realiza al inicio del programa, especificando todas las librerías que van a necesitarse:\n",
    "```\n",
    "import mi_libreria1\n",
    "import mi_libreria2\n",
    "...\n",
    "```\n",
    "\n",
    "En el caso de la librería Numpy, al ejecutar `import numpy` importaríamos la librería completa. Esto permitiría usar sus distintas funcionalidades especificando la palabra numpy seguida de un punto y, a continuación el método o clases."
   ]
  },
  {
   "cell_type": "code",
   "execution_count": 3,
   "id": "1b87bd7e",
   "metadata": {},
   "outputs": [
    {
     "name": "stdout",
     "output_type": "stream",
     "text": [
      "[1 2 3 4] <class 'numpy.ndarray'>\n"
     ]
    }
   ],
   "source": [
    "import numpy\n",
    "\n",
    "mi_array = numpy.array([1, 2, 3, 4])\n",
    "\n",
    "print(mi_array, type(mi_array))"
   ]
  },
  {
   "cell_type": "markdown",
   "id": "15d3313a",
   "metadata": {},
   "source": [
    "Es habitual utilizar alias para importar las librerías y así hacer más cómoda su utilización. Además, su uso está enormemente extendido por la comunidad. Para ello, se emplea la fórmula:\n",
    "```\n",
    "import mi_libreria as mi_alias\n",
    "```\n",
    "En el caso de Numpy es muy común emplear el alias `np`; mientras que para la librería matplotlib.pyplot es habitual emplear `plt`."
   ]
  },
  {
   "cell_type": "code",
   "execution_count": 5,
   "id": "23af1970",
   "metadata": {},
   "outputs": [],
   "source": [
    "import numpy as np\n",
    "import matplotlib.pyplot as plt"
   ]
  },
  {
   "cell_type": "markdown",
   "id": "40bdd7b1",
   "metadata": {},
   "source": [
    "También es posible importar elementos específicos de una librería para no tener que referenciar la librería cada vez que uses el elemento. La sintaxis en este caso es:\n",
    "```\n",
    "from mi_libreria import mi_modulo\n",
    "```"
   ]
  },
  {
   "cell_type": "code",
   "execution_count": 6,
   "id": "7a303b98",
   "metadata": {},
   "outputs": [],
   "source": [
    "from numpy import array\n",
    "mi_array = array([1, 10, 100])"
   ]
  },
  {
   "cell_type": "markdown",
   "id": "b4aa6ca1",
   "metadata": {},
   "source": [
    "Antes de importar cualquier librería en Python, es necesario asegurarse de que estén instalada en tu entorno Python. Las librerías se pueden instalar utilizando herramientas de gestión de paquetes como `pip`. \n",
    "\n",
    "Las librerías numpy y matplotlib se instalan ejecutando el siguiente código desde Jupyter notebook (la exclamación `!` ejecuta el código en terminal directamente):"
   ]
  },
  {
   "cell_type": "code",
   "execution_count": null,
   "id": "4a068dd7",
   "metadata": {},
   "outputs": [],
   "source": [
    "# !pip install numpy\n",
    "# !pip install matplotlib"
   ]
  },
  {
   "cell_type": "markdown",
   "id": "45a6e2c4",
   "metadata": {},
   "source": [
    "Una vez instaladas, es habitual comentar el bloque anterior de código, pues no es precisa su reinstalación.\n",
    "\n",
    "Alternativamente se pueden instalar en terminal mediante el mismo código sin la exclamación o descargando el paquete directamente del repositorio como:\n",
    "\n",
    "`conda install -c conda-forge numpy matplotlib`"
   ]
  },
  {
   "cell_type": "markdown",
   "id": "7ac454e1",
   "metadata": {},
   "source": [
    "## 2. Librería Numpy"
   ]
  },
  {
   "cell_type": "markdown",
   "id": "619a7f8f",
   "metadata": {},
   "source": [
    "### Descripción general"
   ]
  },
  {
   "cell_type": "markdown",
   "id": "dfcaab3a",
   "metadata": {},
   "source": [
    "Numpy es una biblioteca de Python especializada en el cálculo numérico y el análisis de datos, especialmente datos almacenados en matrices y arrays. Su principal cualidad es la eficiencia y el rendimiento, siendo fundamental en distintos campos como la ciencia de datos y la inteligencia artificial. Además, es la base de muchas otras bibliotecas como Pandas o Scikit-learn.\n",
    "\n",
    "Como se ha mencionado anteriormente, es habitual invocar a esta librería con el alias `np`:\n",
    "```\n",
    "import numpy as np\n",
    "```"
   ]
  },
  {
   "cell_type": "markdown",
   "id": "add11e7a",
   "metadata": {},
   "source": [
    "### Arrays"
   ]
  },
  {
   "cell_type": "markdown",
   "id": "d2c0317b",
   "metadata": {},
   "source": [
    "Son estructuras de datos fundamentales para operaciones numéricas. Los arrays son similares a las listas en Python pero con características adicionales y optimizaciones que los hacen más eficientes para el análisis numérico. A diferencia de las listas, los arrays están alojados contiguamente en memoria lo que los hace mucho más eficientes (50 veces más que las listas). Además, parte de su código está directamente implementado en C y C++ lo que multiplica su rendimiento.\n",
    "\n",
    "Los arrays tienen asignada una dimensión, que está relacionada con el nivel de inclusión de arrays dentro de arrays. Así, un escalar podría entenderse como un array 0-dimensional, un vector como un array 1-dimensional, una matriz como un array 2-dimensional, etc.\n",
    "\n",
    "La creación de un array se realiza a través de `np.array()`. En su interior se pueden incorporar enteros o floats, que se traduciran en un array 0-dimensional; una lista, que generará un array 1-dimensional o vector; o una lista de listas que genera un array bidimensional o matriz, etc."
   ]
  },
  {
   "cell_type": "code",
   "execution_count": 7,
   "id": "6262e993",
   "metadata": {},
   "outputs": [
    {
     "name": "stdout",
     "output_type": "stream",
     "text": [
      "3\n",
      "[1 2 3]\n",
      "[[1 2]\n",
      " [3 4]\n",
      " [5 6]]\n",
      "[[[1.  1.5]\n",
      "  [2.  2.5]]\n",
      "\n",
      " [[3.  3.5]\n",
      "  [4.  4.5]]]\n"
     ]
    }
   ],
   "source": [
    "mi_escalar = np.array(3)  # Un escalar\n",
    "mi_vector = np.array([1, 2, 3])  # Un vector\n",
    "mi_matriz = np.array([[1, 2], [3, 4], [5, 6]])  # Una matriz\n",
    "mi_array_3dimensional = np.array([[[1, 1.5], [2, 2.5]], [[3, 3.5], [4, 4.5]]])  # Un array 3-dimensional\n",
    "print(mi_escalar)\n",
    "print(mi_vector)\n",
    "print(mi_matriz)\n",
    "print(mi_array_3dimensional)"
   ]
  },
  {
   "cell_type": "markdown",
   "id": "e3ae5209",
   "metadata": {},
   "source": [
    "Se puede acceder a elementos individuales de un array usando índices, de manera similar a las listas de Python. En el caso de arrays 2-dimensionales o de dimensión superior, se puede acceder a los elementos o subestructuras empleando los índices de manera correlativa."
   ]
  },
  {
   "cell_type": "code",
   "execution_count": 8,
   "id": "58a183a8",
   "metadata": {},
   "outputs": [
    {
     "name": "stdout",
     "output_type": "stream",
     "text": [
      "El elemento (2, 3) de la matriz es 9\n"
     ]
    }
   ],
   "source": [
    "mi_matriz = np.array([[1, 0, 3], [4, 4, 9], [5, 2, 6]])\n",
    "elemento_2_3 = mi_matriz[1, 2]\n",
    "print(f\"El elemento (2, 3) de la matriz es {elemento_2_3}\")"
   ]
  },
  {
   "cell_type": "markdown",
   "id": "77cd6008",
   "metadata": {},
   "source": [
    "Asimismo, los arrays son objetos mutables y permiten la modificación de sus elementos de manera análoga a las listas."
   ]
  },
  {
   "cell_type": "code",
   "execution_count": 9,
   "id": "8569d86f",
   "metadata": {},
   "outputs": [
    {
     "name": "stdout",
     "output_type": "stream",
     "text": [
      "[ 1 -5  3 10]\n"
     ]
    }
   ],
   "source": [
    "mi_array = np.array([1, 2, 3, 4])\n",
    "mi_array[1] = -5\n",
    "mi_array[-1] = 10\n",
    "print(mi_array)"
   ]
  },
  {
   "cell_type": "markdown",
   "id": "7022b9c2",
   "metadata": {},
   "source": [
    "También pueden operar de forma eficaz con el operador de slicing `:` para seleccionar sub-arrays. El procedimiento es el mismo:\n",
    "```\n",
    "sub_array = mi_array[inicio:fin:paso]\n",
    "```\n",
    "donde inicio es el primer elemento considerado, fin el primero no considerado y paso denota el intervalo entre elementos consecutivos. Además, el slicing de arrays permite actuar en cada uno de los niveles de un array multidimensional."
   ]
  },
  {
   "cell_type": "code",
   "execution_count": 10,
   "id": "c328aed4",
   "metadata": {},
   "outputs": [
    {
     "name": "stdout",
     "output_type": "stream",
     "text": [
      "[ 2  4  6  8 10]\n",
      "[[ 6  7  8  9 10]\n",
      " [11 12 13 14 15]]\n",
      "[ 3  8 13 18]\n",
      "[[ 5  4  3  2  1]\n",
      " [10  9  8  7  6]\n",
      " [15 14 13 12 11]\n",
      " [20 19 18 17 16]]\n"
     ]
    }
   ],
   "source": [
    "a = np.array([1, 2, 3, 4, 5, 6, 7, 8, 9, 10])\n",
    "print(a[1::2])  # subarray que inicia en el elemeno de índice 1, acaba al fin del array y alterna elementos\n",
    "\n",
    "b = np.array([[1, 2, 3, 4, 5], [6, 7, 8, 9, 10], [11, 12, 13, 14, 15], [16, 17, 18, 19, 20]])\n",
    "print(b[1:3])  # subarray que muestra desde el elemento 1 hasta el 3 sin incluirlo\n",
    "print(b[:, 2])  # muestra el elemento 2 de cada elemento del nivel 1\n",
    "print(b[:, ::-1])  # muestra la matriz donde cada fila está al revés"
   ]
  },
  {
   "cell_type": "markdown",
   "id": "fee918bd",
   "metadata": {},
   "source": [
    "### Arrays predefinidos "
   ]
  },
  {
   "cell_type": "markdown",
   "id": "537efcad",
   "metadata": {},
   "source": [
    "La librería numpy incorpora muchos arrays cuya implementación es habitual de forma predeterminada. Algunos de ellos se muestran en la siguiente tabla:\n",
    "\n",
    "| Función                                | Descripción                                                                  |\n",
    "|----------------------------------------|------------------------------------------------------------------------------|\n",
    "| `np.zeros(shape)`                   | Crea un array lleno de ceros.                                               |\n",
    "| `np.ones(shape)`                    | Crea un array lleno de unos.                                                |\n",
    "| `np.full(shape, fill_value)`        | Crea un array lleno del valor especificado.                                 |\n",
    "| `np.eye(N)`                         | Crea un array 2D con unos en la diagonal y ceros en el resto.               |\n",
    "| `np.arange(start, stop, step)`      | Crea un array con valores espaciados uniformemente dentro de un intervalo dado. |\n",
    "| `np.linspace(start, stop, num=50)`  | Crea un array con valores espaciados uniformemente entre dos valores dados. |\n",
    "| `np.logspace(start, stop, num=50, base=10.0)`| Crea un array con valores espaciados logarítmicamente entre dos valores dados. |\n",
    "| `np.random.random(size)`            | Crea un array con valores aleatorios flotantes en el intervalo [0.0, 1.0).  |\n",
    "| `np.random.randint(low, high=None, size=None)`| Crea un array con valores aleatorios enteros dentro de un rango especificado. |\n"
   ]
  },
  {
   "cell_type": "code",
   "execution_count": 11,
   "id": "27165a7e",
   "metadata": {},
   "outputs": [],
   "source": [
    "# Crea un array lleno de ceros.\n",
    "arr_zeros = numpy.zeros((2, 3))\n",
    "\n",
    "# Crea un array lleno de unos.\n",
    "arr_ones = numpy.ones((3, 4))\n",
    "\n",
    "# Crea un array lleno del valor especificado.\n",
    "arr_full = numpy.full((2, 2), 7)\n",
    "\n",
    "# Crea un array 2D con unos en la diagonal y ceros en el resto.\n",
    "arr_eye = numpy.eye(3)\n",
    "\n",
    "# Crea un array con valores espaciados uniformemente dentro de un intervalo dado.\n",
    "arr_arange = numpy.arange(0, 10, 2)\n",
    "\n",
    "# Crea un array con valores espaciados uniformemente entre dos valores dados.\n",
    "arr_linspace = numpy.linspace(0, 1, 5)\n",
    "\n",
    "# Crea un array con valores espaciados logarítmicamente entre dos valores dados.\n",
    "arr_logspace = numpy.logspace(0, 3, 4)\n",
    "\n",
    "# Crea un array con valores aleatorios flotantes en el intervalo [0.0, 1.0).\n",
    "arr_random = numpy.random.random((2, 3))\n",
    "\n",
    "# Crea un array con valores aleatorios enteros dentro de un rango especificado.\n",
    "arr_randint = numpy.random.randint(1, 10, (2, 3))"
   ]
  },
  {
   "cell_type": "markdown",
   "id": "942ce42d",
   "metadata": {},
   "source": [
    "### Operaciones"
   ]
  },
  {
   "cell_type": "markdown",
   "id": "c6595512",
   "metadata": {},
   "source": [
    "Numpy ofrece una gran variedad de operaciones que se pueden realizar sobre arrays. Algunas de las más relevantes y significativas se muestran en la siguiente tabla:\n",
    "\n",
    "| Categoría                 | Operación                  | Ejemplo                         | Descripción                                           |\n",
    "|---------------------------|----------------------------|---------------------------------|--------------------------------------------------------|\n",
    "| Operaciones Aritméticas   | Suma                       | `arr1 + arr2`                   | Suma elemento a elemento de dos arrays                 |\n",
    "|                           | Resta                      | `arr1 - arr2`                   | Resta elemento a elemento de dos arrays                |\n",
    "|                           | Multiplicación             | `arr1 * arr2`                   | Multiplica elemento a elemento de dos arrays           |\n",
    "|                           | División                   | `arr1 / arr2`                   | Divide elemento a elemento de dos arrays               |\n",
    "|                           | Escalar                    | `arr1 * 10`                     | Realiza la operación con cada elemento del array       |\n",
    "| Funciones Universales     | Raíz cuadrada              | `np.sqrt(arr1)`                 | Calcula la raíz cuadrada de cada elemento              |\n",
    "|                           | Exponenciación             | `np.exp(arr1)`                  | Calcula la exponenciación de cada elemento             |\n",
    "|                           | Seno                       | `np.sin(arr1)`                  | Calcula el seno de cada elemento                       |\n",
    "| Álgebra Lineal            | Multiplicación de matrices | `np.dot(mat1, mat2)`            | Realiza la multiplicación de dos matrices              |\n",
    "|                           | Determinante               | `np.linalg.det(mat1)`           | Calcula el determinante de una matriz |\n",
    "|                           | Inversa                    | `np.linalg.inv(mat1)`           | Calcula la matriz inversa de una matriz si es invertible |\n",
    "| Operaciones Estadísticas  | Media                      | `np.mean(arr1)`                 | Calcula la media del array                             |\n",
    "| y Agregaciones            | Mediana                    | `np.median(arr1)`               | Calcula la mediana del array                           |\n",
    "|                           | Desviación Estándar        | `np.std(arr1)`                  | Calcula la desviación estándar del array               |\n",
    "|                           | Suma                       | `np.sum(arr1)`                  | Calcula la suma de todos los elementos del array       |\n",
    "| Manipulación de Forma     | Reshape                    | `arr1.reshape((3, 1))`          | Cambia la forma del array                              |\n",
    "|                           | Flatten                    | `mat1.flatten()`                | Devuelve una copia del array aplanado                  |\n",
    "| Indexación y Slicing      | Indexación Booleana        | `arr1[arr1 > 2]`                | Extrae elementos que cumplen una condición booleana    |\n",
    "|                           | Fancy Indexing             | `arr1[[1, 2]]`                  | Extrae elementos en los índices especificados          |\n",
    "| Propiedades del Array     | Forma                      | `arr1.shape`                      | Retorna la forma del array (tamaño de cada dimensión)  |\n",
    "|                           | Tipo de datos              | `arr1.dtype`                      | Retorna el tipo de dato de los elementos del array     |\n",
    "|                           | Tamaño                     |  `arr1.size`                       | Retorna el número total de elementos del array         |"
   ]
  },
  {
   "cell_type": "code",
   "execution_count": null,
   "id": "0e3d98d4",
   "metadata": {},
   "outputs": [],
   "source": [
    "# Operaciones Aritméticas\n",
    "print(np.array([1, 2]) + np.array([3, 4]))  # Resultado: [4 6]\n",
    "print(np.array([1, 2]) - np.array([3, 4]))  # Resultado: [-2 -2]\n",
    "print(np.array([1, 2]) * np.array([3, 4]))  # Resultado: [3 8]\n",
    "print(np.array([1, 2]) / np.array([3, 4]))  # Resultado: [0.3333 0.5]\n",
    "print(np.array([1, 2]) * 10)  # Resultado: [10 20]\n",
    "\n",
    "# Funciones Universales (ufunc)\n",
    "print(np.sqrt(np.array([1, 4, 9])))  # Resultado: [1. 2. 3.]\n",
    "print(np.exp(np.array([1, 2])))  # Resultado: [2.71828 7.38906]\n",
    "print(np.sin(np.pi / 2))  # Resultado: 1.0\n",
    "\n",
    "# Álgebra Lineal\n",
    "print(np.dot(np.array([[1, 2], [3, 4]]), np.array([[5, 6], [7, 8]])))  # Resultado: [[19 22] [43 50]]\n",
    "\n",
    "# Operaciones Estadísticas y Agregaciones\n",
    "print(np.mean(np.array([1, 2, 3, 4])))  # Resultado: 2.5\n",
    "print(np.median(np.array([1, 3, 3, 6, 7, 8, 9])))  # Resultado: 6.0\n",
    "print(np.std(np.array([1, 2, 3, 4, 5])))  # Resultado: 1.41421\n",
    "print(np.sum(np.array([1, 2, 3, 4])))  # Resultado: 10\n",
    "\n",
    "# Manipulación de Forma\n",
    "print(np.array([1, 2, 3, 4]).reshape((2, 2)))  # Resultado: [[1 2] [3 4]]\n",
    "print(np.array([[1, 2], [3, 4]]).flatten())  # Resultado: [1 2 3 4]\n",
    "\n",
    "# Indexación y Slicing\n",
    "print(np.array([1, 2, 3, 4])[np.array([1, 2, 3, 4]) > 2])  # Resultado: [3 4]\n",
    "print(np.array([1, 2, 3, 4])[[1, 3]])  # Resultado: [2 4]\n",
    "\n",
    "# Propiedades del Array\n",
    "arr = np.array([[1, 2], [3, 4]])\n",
    "print(arr.shape)  # Resultado: (2, 2)\n",
    "print(arr.dtype)  # Resultado: int64 (puede variar dependiendo del sistema)\n",
    "print(arr.size)   # Resultado: 4"
   ]
  },
  {
   "cell_type": "markdown",
   "id": "0c63d4b1",
   "metadata": {},
   "source": [
    "---\n",
    "**Ejercicio 1.** Crea una matriz de tamaño 5x5 con valores aleatorios entre 1 y 100, y calcula la media, mediana, varianza y desviación estándar del array."
   ]
  },
  {
   "cell_type": "markdown",
   "id": "7f80d6a6",
   "metadata": {},
   "source": [
    "---\n",
    "**Ejercicio 2.** Resuelve el siguiente sistema de ecuaciones de 5 incógnitas usando numpy, el producto de matrices y la inversa:\n",
    "\\begin{align*}\n",
    "4x_1 + 2x_2 + 3x_3 - 7x_4 + 5x_5 &= 15 \\\\\n",
    "5x_1 - 4x_2 + 3x_3 + 2x_4 + 4x_5 &= 10 \\\\\n",
    "6x_1 + 7x_2 + x_3 + 9x_4 + 10x_5 &= 40 \\\\\n",
    "10x_1 - 9x_2 + 8x_3 + 7x_4 + 6x_5 &= 30 \\\\\n",
    "-11x_1 + 12x_2 + 13x_3 + 4x_4 - 2x_5 &= 55 \\\\\n",
    "\\end{align*}"
   ]
  },
  {
   "cell_type": "markdown",
   "id": "ca5106c9",
   "metadata": {},
   "source": [
    "## 3. Librería matplotlib"
   ]
  },
  {
   "cell_type": "markdown",
   "id": "ce3b890d",
   "metadata": {},
   "source": [
    "### Descripción"
   ]
  },
  {
   "cell_type": "markdown",
   "id": "d4ba0ca0",
   "metadata": {},
   "source": [
    "Matplotlib o, más concretamente, matplotlib.pyplot (un módulo de matplotlib), es una de las bibliotecas más utilizadas en Python para la visualización de datos y la creación de gráficos. \n",
    "\n",
    "La principal característica de matplotlib.pyplot es que ofrece control sobre todos los aspectos de la figura, permitiendo la personalización de tamaños, colores, tipos de gráficos, y mucho más, para crear visualizaciones precisas y detalladas de los datos. También, es compatible con una amplia variedad de formatos de archivo para exportar las visualizaciones creadas, lo que facilita la compartición y publicación de los gráficos.\n",
    "Dentro de matplotlib.pyplot, existen diversas funciones que permiten realizar diferentes tipos de gráficos como gráficos de líneas, gráficos de barras, histogramas, gráficos de dispersión, entre otros. \n",
    "\n",
    "Como se ha mencionado anteriormente, es habitual llamar a esta librería a través del alias `plt`\n",
    "```\n",
    "import matplotlib.pyplot as plt\n",
    "```"
   ]
  },
  {
   "cell_type": "code",
   "execution_count": 1,
   "id": "2636777e",
   "metadata": {},
   "outputs": [
    {
     "name": "stdout",
     "output_type": "stream",
     "text": [
      "Package            Version\n",
      "------------------ -----------\n",
      "asttokens          2.4.1\n",
      "colorama           0.4.6\n",
      "comm               0.2.2\n",
      "debugpy            1.6.7\n",
      "decorator          5.1.1\n",
      "exceptiongroup     1.2.2\n",
      "executing          2.1.0\n",
      "importlib_metadata 8.5.0\n",
      "ipykernel          6.29.5\n",
      "ipython            8.30.0\n",
      "jedi               0.19.2\n",
      "jupyter_client     8.6.3\n",
      "jupyter_core       5.7.2\n",
      "matplotlib-inline  0.1.7\n",
      "nest_asyncio       1.6.0\n",
      "numpy              2.2.1\n",
      "packaging          24.2\n",
      "pandas             2.2.3\n",
      "parso              0.8.4\n",
      "pickleshare        0.7.5\n",
      "pip                24.2\n",
      "platformdirs       4.3.6\n",
      "prompt_toolkit     3.0.48\n",
      "psutil             5.9.0\n",
      "pure_eval          0.2.3\n",
      "Pygments           2.18.0\n",
      "python-dateutil    2.9.0.post0\n",
      "pytz               2024.2\n",
      "pywin32            305.1\n",
      "pyzmq              25.1.2\n",
      "setuptools         75.1.0\n",
      "six                1.16.0\n",
      "stack-data         0.6.2\n",
      "tornado            6.4.1\n",
      "traitlets          5.14.3\n",
      "typing_extensions  4.12.2\n",
      "tzdata             2024.2\n",
      "wcwidth            0.2.13\n",
      "wheel              0.44.0\n",
      "zipp               3.21.0\n",
      "Note: you may need to restart the kernel to use updated packages.\n"
     ]
    }
   ],
   "source": [
    "pip list"
   ]
  },
  {
   "cell_type": "code",
   "execution_count": 12,
   "id": "80fabed2",
   "metadata": {},
   "outputs": [],
   "source": [
    "import matplotlib.pyplot as plt"
   ]
  },
  {
   "cell_type": "markdown",
   "id": "a1d100b1",
   "metadata": {},
   "source": [
    "### Tipos de gráficos"
   ]
  },
  {
   "cell_type": "markdown",
   "id": "f6400c42",
   "metadata": {},
   "source": [
    "La librería matplotlib incluye distintos tipos de gráficos: de líneas, de barras, histogramas y gráficos de dispersión (scatter plots), entre otros.\n",
    "Cada tipo de gráfico es adecuado para un conjunto diferente de necesidades y presenta los datos de una manera única, permitiendo al analista explorar y presentar los datos de la forma más informativa y relevante según el contexto. "
   ]
  },
  {
   "cell_type": "markdown",
   "id": "d506c804",
   "metadata": {},
   "source": [
    "Los gráficos de líneas son útiles para representar la evolución de una variable en función de otra, típicamente para mostrar tendencias a lo largo del tiempo o de otro parámetro continuo."
   ]
  },
  {
   "cell_type": "code",
   "execution_count": 13,
   "id": "3ef4b930",
   "metadata": {},
   "outputs": [
    {
     "data": {
      "image/png": "[encoded data removed]",
      "text/plain": [
       "<Figure size 640x480 with 1 Axes>"
      ]
     },
     "metadata": {},
     "output_type": "display_data"
    }
   ],
   "source": [
    "data = [1, 2.9, 3, 5, 6, 5]\n",
    "plt.plot(data)\n",
    "plt.ylabel('Eje Y')\n",
    "plt.xlabel('Eje X')\n",
    "plt.title('Gráfico de Línea Simple')\n",
    "plt.show()"
   ]
  },
  {
   "cell_type": "markdown",
   "id": "8b67919d",
   "metadata": {},
   "source": [
    "La implementación básica es muy sencilla. La colección de datos para un gráfico de línea consiste en una lista o array que se introduce como argumento de `plot()`. Además, se pueden anteponer algunas funciones adicionales como `xlabel()`, `ylabel()` o `title()` que incorporan la etiqueta del eje X, eje Y o el título, respectivamente. Finalmente, se muestra por pantalla el gráfico en línea con la función `show()`, que incluye también todos los aderezos implementados con anterioridad."
   ]
  },
  {
   "cell_type": "markdown",
   "id": "8532dd98",
   "metadata": {},
   "source": [
    "Los gráficos en línea también pueden relacionar dos conjuntos de datos relacionados siempre que tengan el mismo tamaño. Esto es especialmente útil cuando se quiere analizar la relación entre dos variables."
   ]
  },
  {
   "cell_type": "code",
   "execution_count": 14,
   "id": "236e3760",
   "metadata": {},
   "outputs": [
    {
     "data": {
      "image/png": "[encoded data removed]",
      "text/plain": [
       "<Figure size 640x480 with 1 Axes>"
      ]
     },
     "metadata": {},
     "output_type": "display_data"
    }
   ],
   "source": [
    "# Datos\n",
    "x1 = [2, 3, 5, 6, 8, 9, 10, 11, 15, 16]\n",
    "y1 = [1, 4, 7, 14, 28, 45, 89, 169, 405, 1566]\n",
    "\n",
    "# Primer conjunto de variables\n",
    "plt.plot(x1, y1, label='Línea 1', color='b')  # 'b' denota azul\n",
    "\n",
    "# Etiquetas y Título\n",
    "plt.xlabel('Eje X')\n",
    "plt.ylabel('Eje Y')\n",
    "plt.title('Gráfico de Líneas con Dos Conjuntos de Variables')\n",
    "\n",
    "# Leyenda\n",
    "plt.legend()  # Muestra la leyenda del gráfico\n",
    "\n",
    "# Mostrar el gráfico\n",
    "plt.show()\n"
   ]
  },
  {
   "cell_type": "markdown",
   "id": "3360d0ee",
   "metadata": {},
   "source": [
    "Otro tipo de gráfico de gran utilidad son los denominados gráficos de dispersión (o scatter plots). Son ideales para explorar la relación entre dos variables continuas, donde cada punto típicamente representa las coordenadas de un dato en referencia a estas dos variables. Se implementan con `scatter()`, y se pasan como argumentos los dos conjuntos de datos involucrados."
   ]
  },
  {
   "cell_type": "code",
   "execution_count": 15,
   "id": "2f6c05ca",
   "metadata": {},
   "outputs": [
    {
     "data": {
      "image/png": "[encoded data removed]",
      "text/plain": [
       "<Figure size 640x480 with 1 Axes>"
      ]
     },
     "metadata": {},
     "output_type": "display_data"
    }
   ],
   "source": [
    "# Datos\n",
    "x = [1, 2, 3, 4]\n",
    "y = [1, 4, 9, 16]\n",
    "\n",
    "# Crear un scatter plot\n",
    "plt.scatter(x, y, color='b', label='Puntos')  # 'b' denota azul\n",
    "\n",
    "# Etiquetas y Título\n",
    "plt.xlabel('Eje X')\n",
    "plt.ylabel('Eje Y')\n",
    "plt.title('Scatter Plot Simple')\n",
    "\n",
    "# Leyenda\n",
    "plt.legend()\n",
    "\n",
    "# Mostrar el gráfico\n",
    "plt.show()\n"
   ]
  },
  {
   "cell_type": "markdown",
   "id": "45960f4f",
   "metadata": {},
   "source": [
    "Análogamente, se pueden incorporar barras de error a los gráficos de dispersión (también a los gráficos de líneas) para representar la incertidumbre en los datos. Esto es especialmente útil para visualizar el rango de error de los datos experimentales. Para ello se emplea la función `errorbar()` y se incluyen las opciones `yerr` y `xerr` para las barras de error de la variable en los ejes Y y X, respectivamente."
   ]
  },
  {
   "cell_type": "code",
   "execution_count": 16,
   "id": "d7a00e9e",
   "metadata": {},
   "outputs": [
    {
     "data": {
      "image/png": "[encoded data removed]",
      "text/plain": [
       "<Figure size 640x480 with 1 Axes>"
      ]
     },
     "metadata": {},
     "output_type": "display_data"
    }
   ],
   "source": [
    "# Datos\n",
    "x = [1, 2, 3, 4]\n",
    "y = [2, 4, 6, 8]\n",
    "x_err = [0.2, 0.4, 0.2, 0.4]  # Ejemplo de errores en el eje X\n",
    "y_err = [0.5, 0.7, 0.5, 0.7]  # Ejemplo de errores en el eje Y\n",
    "\n",
    "# Crear scatter plot con barras de error\n",
    "plt.scatter(x, y, color='b', alpha=0.7, label='Puntos')  # 'b' denota azul, alpha para transparencia\n",
    "plt.errorbar(x, y, xerr=x_err, yerr=y_err, linestyle='None', color='b', alpha=0.5)  # linestyle='None' para no conectar puntos con líneas\n",
    "\n",
    "# Etiquetas y Título\n",
    "plt.xlabel('Eje X')\n",
    "plt.ylabel('Eje Y')\n",
    "plt.title('Scatter Plot con Barras de Error')\n",
    "\n",
    "# Leyenda\n",
    "plt.legend()\n",
    "\n",
    "# Mostrar el gráfico\n",
    "plt.show()\n"
   ]
  },
  {
   "cell_type": "markdown",
   "id": "64fc93a0",
   "metadata": {},
   "source": [
    "Otros tipos de gráficos de gran utilidad son los gráficos de barras. Son efectivos para comparar cantidades discretas entre diferentes categorías. Se implementan con `bar()`, y se pasan como argumentos los conjuntos de datos involucrados."
   ]
  },
  {
   "cell_type": "code",
   "execution_count": 17,
   "id": "a97e0495",
   "metadata": {},
   "outputs": [
    {
     "data": {
      "image/png": "[encoded data removed]",
      "text/plain": [
       "<Figure size 640x480 with 1 Axes>"
      ]
     },
     "metadata": {},
     "output_type": "display_data"
    }
   ],
   "source": [
    "plt.bar(['a', 'b', 'c', 'd'], [1, 2, 3, 4])\n",
    "plt.ylabel('Valores')\n",
    "plt.xlabel('Categorías')\n",
    "plt.title('Gráfico de Barras Simple')\n",
    "plt.show()"
   ]
  },
  {
   "cell_type": "markdown",
   "id": "14cd54fd",
   "metadata": {},
   "source": [
    "Finalmente, los histogramas son de enorme utilidad para visualizar la distribución de frecuencias de un conjunto de datos continuos o discretos. Se introducen con la función `hist()` y como argumento se introduce un conjunto de datos. Además, el argumento opcional `bins` permite especificar el número de bines o barras del histograma. Por defecto, optimiza el número de bines del gráfico para una visualización agradable."
   ]
  },
  {
   "cell_type": "code",
   "execution_count": 18,
   "id": "a26a6301",
   "metadata": {},
   "outputs": [
    {
     "data": {
      "image/png": "[encoded data removed]",
      "text/plain": [
       "<Figure size 640x480 with 1 Axes>"
      ]
     },
     "metadata": {},
     "output_type": "display_data"
    }
   ],
   "source": [
    "data = [0, 1, 2, 3, 3, 3, 4, 4, 5, 6, 6, 6, 7, 7, 8, 8, 8, 8, 8, 8, 9, 10, 11]\n",
    "plt.hist(data, bins=6) # 'bins' representa el número de intervalos a utilizar\n",
    "plt.ylabel('Frecuencia')\n",
    "plt.xlabel('Valores')\n",
    "plt.title('Histograma Simple')\n",
    "plt.show()"
   ]
  },
  {
   "cell_type": "markdown",
   "id": "4a1ffc0c",
   "metadata": {},
   "source": [
    "### Personalización del gráfico"
   ]
  },
  {
   "cell_type": "markdown",
   "id": "e51db391",
   "metadata": {},
   "source": [
    "Existen numerosas opciones de personalización de un gráfico en Python. La mejor manera de saber cómo implementar una opción particular es simplemente buscándolo en la web. Existen numerosas comunidades donde se explican cómo utilizar estas técnicas. No obstante, algunas de las opciones de personalización más comúnmente empleadas se muestran en la siguiente tabla.\n",
    "\n",
    "| Opción de Personalización | Descripción                                               | Ejemplo de Código                           |\n",
    "|---------------------------|-----------------------------------------------------------|---------------------------------------------|\n",
    "| Colores y Estilos de Línea| Define el color y el estilo de las líneas.                | `plt.plot(x, y, color='r', linestyle='--')`|\n",
    "| Marcadores                | Cambia el tipo de marcadores en los gráficos.             | `plt.scatter(x, y, marker='s')`            |\n",
    "| Títulos y Etiquetas       | Agrega títulos y etiquetas a los ejes.                    | `plt.title('Título')` <br> `plt.xlabel('Eje X')` <br> `plt.ylabel('Eje Y')`|\n",
    "| Leyendas                  | Agrega leyendas al gráfico.                               | `plt.legend(loc='upper left')`             |\n",
    "| Tamaño de la Figura y DPI | Ajusta el tamaño y la resolución de los gráficos.         | `plt.figure(figsize=(10,5), dpi=100)`      |\n",
    "| Límites de los Ejes       | Define los límites de los ejes X e Y.                    | `plt.xlim(0, 10)` <br> `plt.ylim(-1, 20)`  |\n"
   ]
  },
  {
   "cell_type": "code",
   "execution_count": 19,
   "id": "4622d09f",
   "metadata": {},
   "outputs": [
    {
     "data": {
      "image/png": "[encoded data removed]",
      "text/plain": [
       "<Figure size 640x400 with 1 Axes>"
      ]
     },
     "metadata": {},
     "output_type": "display_data"
    }
   ],
   "source": [
    "import matplotlib.pyplot as plt\n",
    "\n",
    "# Datos\n",
    "x = [1, 2, 3, 4, 5, 6, 7, 8, 9]\n",
    "y = [2, 4, 6, 8, 10, 8, 6, 4, 2]\n",
    "\n",
    "# Crear figura\n",
    "plt.figure(figsize=(8,5), dpi=80)\n",
    "\n",
    "# Crear scatter plot personalizado\n",
    "plt.scatter(x, y, color='b', marker='D', label='Puntos')  # 'D' denota diamante\n",
    "\n",
    "# Títulos, Etiquetas y Leyenda\n",
    "plt.title('Gráfico Personalizado')\n",
    "plt.xlabel('Eje X')\n",
    "plt.ylabel('Eje Y')\n",
    "plt.xlim(0, 20)\n",
    "plt.ylim(-2, 12)\n",
    "plt.legend(loc='upper left')\n",
    "\n",
    "# Mostrar el gráfico\n",
    "plt.show()\n"
   ]
  },
  {
   "cell_type": "code",
   "execution_count": null,
   "id": "ea303f72",
   "metadata": {},
   "outputs": [],
   "source": []
  },
  {
   "cell_type": "markdown",
   "id": "6ae0c1fe",
   "metadata": {},
   "source": [
    "# Manejo de archivos"
   ]
  },
  {
   "cell_type": "markdown",
   "id": "5b9aa0e2",
   "metadata": {},
   "source": [
    "## 1. Introducción"
   ]
  },
  {
   "cell_type": "markdown",
   "id": "4eca507c",
   "metadata": {},
   "source": [
    "Al ejecutar un programa, los datos con los que trabaja se almacenan en memoria RAM (volátil). Cuando se apaga el ordenador o se finaliza el programa, estos datos se pierden. Los archivos permiten almacenar datos en memoria no volátil (discos duros, SSDs). Esto es esencial para aplicaciones que necesitan mantener información entre sesiones, compartir datos o respaldar información.\n",
    "Entre los usos comunes de los archivos están los archivos de configuración, que guardan ajustes de usuario; las bases de datos, que incluyen colecciones de datos estructurados, archivos de tipo log, que registran eventos o errores, entre muchos otros.\n",
    "\n",
    "Atendiendo al tipo de dato, se pueden clasificar los archivos como:\n",
    "\n",
    "- Datos en formato texto legible (.txt, .md)\n",
    "Este tipo de datos es de fácil lectura y se puede modificar mediante editores de texto. Por otra parte, no adecuado para datos complejos o grandes volúmenes.\n",
    "\n",
    "- Archivos estructurados (.json, .xml, .csv)\n",
    "Son archivos diseñados para almacenar datos de manera organizada. Constituyen una representación estructurada de datos y son de fácil procesamiento. Pueden requerir, no obstante, tratamiento adicional para su edición.\n",
    "\n",
    "- Archivos binarios (.jpg, .mp3, .bin, .pdf)\n",
    "Son archivos cuyos datos no son legibles directamente y se necesita un software o transformación específica para su lectura o edición. En cambio, son altamente eficientes para la tarea para la que están diseñados."
   ]
  },
  {
   "cell_type": "markdown",
   "id": "c743607d",
   "metadata": {},
   "source": [
    "Los archivos en Python se abren con la función `open()`. Esta función toma como primer argumento el nombre del archivo y, como segundo, el modo de apertura:\n",
    "```\n",
    "open(<mi_archivo>, <modo>)\n",
    "```\n",
    "Los modos de apertura se denotan con un caracter o cadena según la siguiente tipología:\n",
    "- 'r': Lectura (default).\n",
    "- 'w': Escritura (sobrescribe el archivo si ya existe).\n",
    "- 'a': Agregar (escribe al final del archivo si ya existe).\n",
    "- 'b': Binario (se combina con otros modos, como 'rb' o 'wb').\n",
    "\n",
    "Es importante resaltar que, si se indica únicamente el nombre del archivo, este ha de encontrarse en la misma carpeta que el archivo python (.py o .ipynb) desde donde se abre. En caso contrario, también se puede especificar como archivo la ruta raíz completa del mismo o la ruta relativa en referencia al archivo python."
   ]
  },
  {
   "cell_type": "code",
   "execution_count": 20,
   "id": "58704911",
   "metadata": {},
   "outputs": [
    {
     "ename": "FileNotFoundError",
     "evalue": "[Errno 2] No such file or directory: 'quijote.txt'",
     "output_type": "error",
     "traceback": [
      "\u001b[1;31m---------------------------------------------------------------------------\u001b[0m",
      "\u001b[1;31mFileNotFoundError\u001b[0m                         Traceback (most recent call last)",
      "Cell \u001b[1;32mIn[20], line 2\u001b[0m\n\u001b[0;32m      1\u001b[0m \u001b[38;5;66;03m# En la misma carpeta donde se encuentra Sesion8.ipynb se ha de incluir el archivo de texto quijote.txt\u001b[39;00m\n\u001b[1;32m----> 2\u001b[0m stream_quijote \u001b[38;5;241m=\u001b[39m \u001b[38;5;28;43mopen\u001b[39;49m\u001b[43m(\u001b[49m\u001b[38;5;124;43m'\u001b[39;49m\u001b[38;5;124;43mquijote.txt\u001b[39;49m\u001b[38;5;124;43m'\u001b[39;49m\u001b[43m,\u001b[49m\u001b[43m \u001b[49m\u001b[38;5;124;43m'\u001b[39;49m\u001b[38;5;124;43mr\u001b[39;49m\u001b[38;5;124;43m'\u001b[39;49m\u001b[43m)\u001b[49m\n\u001b[0;32m      3\u001b[0m \u001b[38;5;66;03m# Nota que stream_quijote no es una cadena de texto, sino un stream\u001b[39;00m\n\u001b[0;32m      4\u001b[0m \u001b[38;5;28mprint\u001b[39m(stream_quijote)\n",
      "File \u001b[1;32mc:\\Users\\JuanManuel.Miron\\AppData\\Local\\anaconda3\\envs\\bigDataScience\\Lib\\site-packages\\IPython\\core\\interactiveshell.py:324\u001b[0m, in \u001b[0;36m_modified_open\u001b[1;34m(file, *args, **kwargs)\u001b[0m\n\u001b[0;32m    317\u001b[0m \u001b[38;5;28;01mif\u001b[39;00m file \u001b[38;5;129;01min\u001b[39;00m {\u001b[38;5;241m0\u001b[39m, \u001b[38;5;241m1\u001b[39m, \u001b[38;5;241m2\u001b[39m}:\n\u001b[0;32m    318\u001b[0m     \u001b[38;5;28;01mraise\u001b[39;00m \u001b[38;5;167;01mValueError\u001b[39;00m(\n\u001b[0;32m    319\u001b[0m         \u001b[38;5;124mf\u001b[39m\u001b[38;5;124m\"\u001b[39m\u001b[38;5;124mIPython won\u001b[39m\u001b[38;5;124m'\u001b[39m\u001b[38;5;124mt let you open fd=\u001b[39m\u001b[38;5;132;01m{\u001b[39;00mfile\u001b[38;5;132;01m}\u001b[39;00m\u001b[38;5;124m by default \u001b[39m\u001b[38;5;124m\"\u001b[39m\n\u001b[0;32m    320\u001b[0m         \u001b[38;5;124m\"\u001b[39m\u001b[38;5;124mas it is likely to crash IPython. If you know what you are doing, \u001b[39m\u001b[38;5;124m\"\u001b[39m\n\u001b[0;32m    321\u001b[0m         \u001b[38;5;124m\"\u001b[39m\u001b[38;5;124myou can use builtins\u001b[39m\u001b[38;5;124m'\u001b[39m\u001b[38;5;124m open.\u001b[39m\u001b[38;5;124m\"\u001b[39m\n\u001b[0;32m    322\u001b[0m     )\n\u001b[1;32m--> 324\u001b[0m \u001b[38;5;28;01mreturn\u001b[39;00m \u001b[43mio_open\u001b[49m\u001b[43m(\u001b[49m\u001b[43mfile\u001b[49m\u001b[43m,\u001b[49m\u001b[43m \u001b[49m\u001b[38;5;241;43m*\u001b[39;49m\u001b[43margs\u001b[49m\u001b[43m,\u001b[49m\u001b[43m \u001b[49m\u001b[38;5;241;43m*\u001b[39;49m\u001b[38;5;241;43m*\u001b[39;49m\u001b[43mkwargs\u001b[49m\u001b[43m)\u001b[49m\n",
      "\u001b[1;31mFileNotFoundError\u001b[0m: [Errno 2] No such file or directory: 'quijote.txt'"
     ]
    }
   ],
   "source": [
    "# En la misma carpeta donde se encuentra Sesion8.ipynb se ha de incluir el archivo de texto quijote.txt\n",
    "stream_quijote = open('quijote.txt', 'r')\n",
    "# Nota que stream_quijote no es una cadena de texto, sino un stream\n",
    "print(stream_quijote)"
   ]
  },
  {
   "cell_type": "markdown",
   "id": "32d92289",
   "metadata": {},
   "source": [
    "Después de trabajar con un archivo, es esencial cerrarlo adecuadamente. \n",
    "Para ello, se emplea el método `close()`. Al invocar este método, estamos indicando a Python que hemos terminado de trabajar con ese archivo y que puede liberar los recursos asociados. El cierre de un archivo garantiza que todos los cambios realizados en él se guarden correctamente y que los recursos del sistema utilizados para manejar ese archivo se liberen."
   ]
  },
  {
   "cell_type": "code",
   "execution_count": null,
   "id": "67bba80c",
   "metadata": {},
   "outputs": [],
   "source": [
    "# Cierre de stream_quijote\n",
    "stream_quijote.close()"
   ]
  },
  {
   "cell_type": "markdown",
   "id": "aa14fa76",
   "metadata": {},
   "source": [
    "Uno de los problemas de la función `close` y de los métodos anteriores para abrir y cerrar archivos es la posibilidad de olvido de cerrar todos aquellos streams que han sido abiertos.\n",
    "En su lugar, una buena práctica en Python cuando se trabaja con archivos es usar el bloque `with`. Esto tiene como ventaja principal que nos aseguramos de que el archivo se cierre automáticamente una vez que las operaciones dentro del bloque hayan terminado.\n",
    "Además, hace que el código sea más limpio y legible, evitando la necesidad de invocar explícitamente `close()`.\n",
    "La sintaxis es:\n",
    "```\n",
    "with open(<mi_archivo>, <modo>) as archivo:\n",
    "    # Operaciones con el archivo\n",
    "```"
   ]
  },
  {
   "cell_type": "markdown",
   "id": "36442953",
   "metadata": {},
   "source": [
    "## 2. Lectura y escritura en archivos"
   ]
  },
  {
   "cell_type": "markdown",
   "id": "c357f6cd",
   "metadata": {},
   "source": [
    "El principal método para leer un archivo en Python es la función `read()`. Este método lee todo el archivo y lo devuelve como una cadena."
   ]
  },
  {
   "cell_type": "code",
   "execution_count": null,
   "id": "4e266975",
   "metadata": {},
   "outputs": [],
   "source": [
    "with open('quijote.txt', 'r') as archivo:\n",
    "    contenido = archivo.read()\n",
    "\n",
    "print(contenido)"
   ]
  },
  {
   "cell_type": "markdown",
   "id": "6adf9bf7",
   "metadata": {},
   "source": [
    "El método `read()` es muy eficiente para textos breves, pues permite manejar todo el contenido del archivo en un string. No obstante, para textos más largos puede ser de utilidad emplear otro tipo de métodos de lectura:\n",
    "- la función `readline()` lee la siguiente línea del archivo de forma dinámica.\n",
    "- la función `readlines()` devuelve una lista de todas las líneas en el archivo."
   ]
  },
  {
   "cell_type": "code",
   "execution_count": null,
   "id": "c97f5913",
   "metadata": {},
   "outputs": [],
   "source": [
    "with open('quijote.txt', 'r') as archivo:\n",
    "    print(\"línea 1:\", archivo.readline())\n",
    "    print(\"línea 2:\", archivo.readline())\n",
    "    i = 3\n",
    "    while True:\n",
    "        linea = archivo.readline()\n",
    "        if len(linea) == 0:\n",
    "            break\n",
    "        print(f\"línea {i}: {linea}\")\n",
    "        i += 1"
   ]
  },
  {
   "cell_type": "code",
   "execution_count": null,
   "id": "489ef8a9",
   "metadata": {},
   "outputs": [],
   "source": [
    "with open('quijote.txt', 'r') as archivo:\n",
    "    lineas_lista = archivo.readlines()\n",
    "    print(lineas_lista[5])"
   ]
  },
  {
   "cell_type": "markdown",
   "id": "255500bd",
   "metadata": {},
   "source": [
    "La escritura de archivos es también una tarea sencilla en Python. Para ello, se emplea el método `write()`. La actuación de esta función sobre el archivo depende del modo de escritura con el que se ha abierto el archivo. Con el modo 'w' la función `write()` sobrescribe en el archivo, mientras que con el modo 'a', se añade al final."
   ]
  },
  {
   "cell_type": "code",
   "execution_count": null,
   "id": "7e2d0640",
   "metadata": {},
   "outputs": [],
   "source": [
    "# Si no existe, la secuencia open en el modo 'w' o 'a' crea un nuevo archivo\n",
    "with open('einstein.txt', 'w') as archivo:\n",
    "    mi_str1 = \"Albert Einstein, nacido en 1879 en Ulm, Alemania, fue un físico teórico renombrado. \"\\\n",
    "    \"Es conocido principalmente por su teoría de la relatividad y la ecuación E=mc^2.\"\n",
    "    archivo.write(mi_str1)\n",
    "\n",
    "with open('einstein.txt', 'r') as archivo:\n",
    "    contenido = archivo.read()\n",
    "\n",
    "print(contenido)\n",
    "\n",
    "# El modo de archivo 'a' añade el contenido al final del archivo\n",
    "with open('einstein.txt', 'a') as archivo:\n",
    "    mi_str2 = \" A lo largo de su vida, contribuyó significativamente a la física moderna y ganó el Premio Nobel de Física en 1921. \"\\\n",
    "    \"Sus investigaciones y descubrimientos tuvieron un impacto profundo en cómo entendemos el universo. \"\\\n",
    "    \"Falleció en 1955 en Princeton, Nueva Jersey.\"\n",
    "    archivo.write(mi_str2)\n",
    "\n",
    "with open('einstein.txt', 'r') as archivo:\n",
    "    contenido = archivo.read()\n",
    "\n",
    "print(contenido)"
   ]
  },
  {
   "cell_type": "markdown",
   "id": "3c5e3b73",
   "metadata": {},
   "source": [
    "Otra opción de escritura en archivos es la función `writelines()`, que escribe una lista de cadenas en el archivo. Igualmente, el modo de apertura del archivo determina si el texto se añade al final o sustituye el texto existente."
   ]
  },
  {
   "cell_type": "code",
   "execution_count": null,
   "id": "a32448ff",
   "metadata": {},
   "outputs": [],
   "source": [
    "# Aplicación del método writelines() para escribir la bibliografía de Einstein al reves.\n",
    "with open('einstein.txt', 'r') as archivo:\n",
    "    contenido = archivo.read()\n",
    "\n",
    "contenido_lineas = contenido.split('.')\n",
    "contenido_lineas_inverso = []\n",
    "for linea in contenido_lineas[-2::-1]:\n",
    "    contenido_lineas_inverso.append(linea + '. ')\n",
    "\n",
    "with open('einstein_inverso.txt', 'w') as archivo:\n",
    "    archivo.writelines(contenido_lineas_inverso)\n",
    "\n",
    "with open('einstein_inverso.txt', 'r') as archivo:\n",
    "    contenido = archivo.read()\n",
    "\n",
    "print(contenido)"
   ]
  },
  {
   "cell_type": "markdown",
   "id": "fb4ad99f",
   "metadata": {},
   "source": [
    "Una buena práctica adicional consiste en emplear los bloques de gestión de errores `try` y `except`. Estos bloques permiten controlar el flujo del programa en función del tipo de errores que se generen. En este caso, resulta de gran utilidad solo abrir un fichero en el caso de que este realmente exista. En caso contrario, puede saltar una excepción (controlada) y no necesariamente interrumpirse el flujo del programa."
   ]
  },
  {
   "cell_type": "code",
   "execution_count": null,
   "id": "080d7c2c",
   "metadata": {},
   "outputs": [],
   "source": [
    "try:\n",
    "    with open('inexistente.txt', 'r') as archivo:\n",
    "        contenido = archivo.read()\n",
    "except FileNotFoundError as e:\n",
    "    print(\"El archivo no existe!\")"
   ]
  },
  {
   "cell_type": "markdown",
   "id": "6b8f38dc",
   "metadata": {},
   "source": [
    "---\n",
    "**Ejercicio 1.** Escribe un programa que lea un archivo llamado \"temperaturas.txt\". Este archivo contiene una lista de temperaturas en grados Celsius, una por línea. El programa debe convertir cada temperatura a grados Fahrenheit y guardar las temperaturas convertidas en un nuevo archivo llamado \"temperaturas_fahrenheit.txt\"."
   ]
  },
  {
   "cell_type": "markdown",
   "id": "6036b0ad",
   "metadata": {},
   "source": [
    "---\n",
    "**Ejercicio 2.** Crea un programa que permita al usuario añadir entradas a un diario en un archivo de tipo texto llamado \"diario.txt\". Cada entrada debe tener una fecha y un mensaje. Para ingresar las fechas se puede emplear la librería especializada datatime, cuya función `today()` devuelve la fecha de hoy.\n",
    "```\n",
    "# Depencendias necesarias\n",
    "from datetime import date\n",
    "from datetime import datetime\n",
    "\n",
    "#Día actual\n",
    "hoy = date.today()\n",
    "```"
   ]
  },
  {
   "cell_type": "markdown",
   "id": "c83a9f14",
   "metadata": {},
   "source": [
    "## 3. Archivos CSV"
   ]
  },
  {
   "cell_type": "markdown",
   "id": "d3faa44f",
   "metadata": {},
   "source": [
    "Los archivos CSV (Comma-Separated Values) son uno de los formatos más comunes para el intercambio de datos, especialmente en contextos de análisis y procesamiento de datos. Un archivo CSV es un archivo de texto plano que contiene una lista de datos donde cada línea del archivo es un dato o registro y cada registro consiste en uno o más campos, separados por comas.\n",
    "\n",
    "Python tiene una librería incorporada llamada `csv` que proporciona funcionalidades para leer de y escribir en archivos CSV.\n",
    "```\n",
    "import csv\n",
    "```\n",
    "Para leer archivos CSV, podemos usar el objeto `reader` de dicho módulo. Esta función nos devuelve un objeto denominado lector que es iterable. Cada elemento de este iterable es una lista que contiene el contenido de cada línea del CSV."
   ]
  },
  {
   "cell_type": "code",
   "execution_count": null,
   "id": "3d4af1a5",
   "metadata": {},
   "outputs": [],
   "source": [
    "with open('comunidades_provincias.csv', 'r') as archivo:\n",
    "    lector = csv.reader(archivo)\n",
    "    for fila in lector:\n",
    "        print(fila)"
   ]
  },
  {
   "cell_type": "markdown",
   "id": "7fedfbeb",
   "metadata": {},
   "source": [
    "La librería `csv` también proporciona un objeto `writer` para escribir datos en un archivo CSV. Dentro de este objeto, la función `writerows()` permite escribir un archivo de tipo CSV como una lista de listas. La función `writerow()` realiza la misma tarea pero con solo una línea."
   ]
  },
  {
   "cell_type": "code",
   "execution_count": null,
   "id": "60e33968",
   "metadata": {},
   "outputs": [],
   "source": [
    "# Queremos añadir las ciudades autónomas de Ceuta y Melilla al archivo CSV anterior y crear un nuevo archivo\n",
    "with open('comunidades_provincias.csv', 'r') as archivo:\n",
    "    lector = csv.reader(archivo)\n",
    "    contenido = list(lector)\n",
    "\n",
    "contenido.append(['Ceuta', 1])\n",
    "contenido.append(['Melilla', 1])\n",
    "\n",
    "with open('comunidades_provincias2.csv', 'w') as archivo:\n",
    "    escritor = csv.writer(archivo)\n",
    "    escritor.writerows(contenido)\n",
    "\n",
    "with open('comunidades_provincias2.csv', 'r') as archivo:\n",
    "    lector = csv.reader(archivo)\n",
    "    for fila in lector:\n",
    "        print(fila)"
   ]
  },
  {
   "cell_type": "markdown",
   "id": "6c870b4a",
   "metadata": {},
   "source": [
    "Otra función de gran utilidad para lidiar con archivos de tipo CSV es la función `next()`. Esta función, en realidad, es una propiedad de todos los objetos en Python que se constituyen como objetos de tipo iterador. La función `next()` avanza a través del objeto iterable. Siendo que muchos archivos de tipo CSV inician con un encabezado, resulta práctico emplear esta función para comenzar a leer los datos tras el encabezado, procesándolos directamente línea por línea."
   ]
  },
  {
   "cell_type": "code",
   "execution_count": null,
   "id": "4634c55e",
   "metadata": {},
   "outputs": [],
   "source": [
    "with open('comunidades_provincias.csv', 'r') as archivo:\n",
    "    lector = csv.reader(archivo)\n",
    "    encabezado = next(lector)\n",
    "    print(f'Encabezado: {encabezado}')\n",
    "    print(\"Ahora procesamos directamente los datos:\")\n",
    "    for fila in lector:\n",
    "        print(fila)"
   ]
  },
  {
   "cell_type": "markdown",
   "id": "ffe9042d",
   "metadata": {},
   "source": [
    "---\n",
    "**Ejercicio 3.** El fichero 'superheroes.csv' incluye una lista con 16 superhéroes y la descripción de sus (dudosos) poderes. Lee el archivo y realiza un torneo eliminatorio en el que se enfrenten entre ellos en duelo. Los ganadores de cada duelo pasan de ronda; mientras que los perdedores son eliminados (eliminatorias). Genera un nuevo fichero CSV que registre el devenir del torneo (\"ronda\", \"Combatiente 1\", \"Combatiente 2\", \"Ganador\"). Para decidir tanto los emparejamientos como los ganadores de cada ronda puedes emplear la función `randint()` de la librería `random`.\n",
    "Ejemplo:\n",
    "```\n",
    "    import random\n",
    "    print(random.randint(0, 15))  # Genera un número aleatorio entero entre 0 y 15 (ambos incluidos).\n",
    "```"
   ]
  },
  {
   "cell_type": "markdown",
   "id": "c8bdce94",
   "metadata": {},
   "source": [
    "## 4. Archivos JSON"
   ]
  },
  {
   "cell_type": "markdown",
   "id": "fca7491e",
   "metadata": {},
   "source": [
    "JSON (JavaScript Object Notation) es un formato estándar para el intercambio de datos, especialmente a través de servicios web. Este tipo de datos está formado por secuencias anidades e intercaladas de datos tipo lista y tipo diccionario, lo que permite estructurar datos complejos de manera jerárquica.\n",
    "\n",
    "Un ejemplo de archivo tipo JSON es el siguiente:\n",
    "```\n",
    "{\n",
    "    \"nombre\": \"Biblioteca Central\",\n",
    "    \"ubicacion\": \"Calle de las Letras, 123\",\n",
    "    \"libros\": [\n",
    "        {\n",
    "            \"titulo\": \"La Odisea\",\n",
    "            \"autor\": \"Homero\",\n",
    "            \"publicado\": -700\n",
    "        },\n",
    "        {\n",
    "            \"titulo\": \"Don Quijote de la Mancha\",\n",
    "            \"autor\": \"Miguel de Cervantes\",\n",
    "            \"publicado\": 1605\n",
    "        },\n",
    "        {\n",
    "            \"titulo\": \"Cien años de soledad\",\n",
    "            \"autor\": \"Gabriel García Márquez\",\n",
    "            \"publicado\": 1967\n",
    "        }\n",
    "    ],\n",
    "    \"horario\": {\n",
    "        \"lunes-viernes\": \"09:00 - 19:00\",\n",
    "        \"sabado\": \"10:00 - 14:00\",\n",
    "        \"domingo\": \"cerrado\"\n",
    "    }\n",
    "}\n",
    "\n",
    "```\n",
    "\n",
    "En Python, se pueden manipular archivos JSON utilizando el módulo json, que se importa con\n",
    "```\n",
    "import json\n",
    "```\n",
    "Para leer un archivo JSON, se emplea la función `load()` de dicho módulo."
   ]
  },
  {
   "cell_type": "code",
   "execution_count": 23,
   "id": "365443ba",
   "metadata": {},
   "outputs": [],
   "source": [
    "import json"
   ]
  },
  {
   "cell_type": "code",
   "execution_count": 22,
   "id": "50f1dccd",
   "metadata": {},
   "outputs": [
    {
     "ename": "FileNotFoundError",
     "evalue": "[Errno 2] No such file or directory: 'biblioteca.json'",
     "output_type": "error",
     "traceback": [
      "\u001b[1;31m---------------------------------------------------------------------------\u001b[0m",
      "\u001b[1;31mFileNotFoundError\u001b[0m                         Traceback (most recent call last)",
      "Cell \u001b[1;32mIn[22], line 3\u001b[0m\n\u001b[0;32m      1\u001b[0m \u001b[38;5;28;01mimport\u001b[39;00m \u001b[38;5;21;01mjson\u001b[39;00m\n\u001b[1;32m----> 3\u001b[0m \u001b[38;5;28;01mwith\u001b[39;00m \u001b[38;5;28;43mopen\u001b[39;49m\u001b[43m(\u001b[49m\u001b[38;5;124;43m'\u001b[39;49m\u001b[38;5;124;43mbiblioteca.json\u001b[39;49m\u001b[38;5;124;43m'\u001b[39;49m\u001b[43m,\u001b[49m\u001b[43m \u001b[49m\u001b[38;5;124;43m'\u001b[39;49m\u001b[38;5;124;43mr\u001b[39;49m\u001b[38;5;124;43m'\u001b[39;49m\u001b[43m)\u001b[49m \u001b[38;5;28;01mas\u001b[39;00m archivo:\n\u001b[0;32m      4\u001b[0m     contenido \u001b[38;5;241m=\u001b[39m json\u001b[38;5;241m.\u001b[39mload(archivo)\n\u001b[0;32m      6\u001b[0m \u001b[38;5;28mprint\u001b[39m(contenido)\n",
      "File \u001b[1;32mc:\\Users\\JuanManuel.Miron\\AppData\\Local\\anaconda3\\envs\\bigDataScience\\Lib\\site-packages\\IPython\\core\\interactiveshell.py:324\u001b[0m, in \u001b[0;36m_modified_open\u001b[1;34m(file, *args, **kwargs)\u001b[0m\n\u001b[0;32m    317\u001b[0m \u001b[38;5;28;01mif\u001b[39;00m file \u001b[38;5;129;01min\u001b[39;00m {\u001b[38;5;241m0\u001b[39m, \u001b[38;5;241m1\u001b[39m, \u001b[38;5;241m2\u001b[39m}:\n\u001b[0;32m    318\u001b[0m     \u001b[38;5;28;01mraise\u001b[39;00m \u001b[38;5;167;01mValueError\u001b[39;00m(\n\u001b[0;32m    319\u001b[0m         \u001b[38;5;124mf\u001b[39m\u001b[38;5;124m\"\u001b[39m\u001b[38;5;124mIPython won\u001b[39m\u001b[38;5;124m'\u001b[39m\u001b[38;5;124mt let you open fd=\u001b[39m\u001b[38;5;132;01m{\u001b[39;00mfile\u001b[38;5;132;01m}\u001b[39;00m\u001b[38;5;124m by default \u001b[39m\u001b[38;5;124m\"\u001b[39m\n\u001b[0;32m    320\u001b[0m         \u001b[38;5;124m\"\u001b[39m\u001b[38;5;124mas it is likely to crash IPython. If you know what you are doing, \u001b[39m\u001b[38;5;124m\"\u001b[39m\n\u001b[0;32m    321\u001b[0m         \u001b[38;5;124m\"\u001b[39m\u001b[38;5;124myou can use builtins\u001b[39m\u001b[38;5;124m'\u001b[39m\u001b[38;5;124m open.\u001b[39m\u001b[38;5;124m\"\u001b[39m\n\u001b[0;32m    322\u001b[0m     )\n\u001b[1;32m--> 324\u001b[0m \u001b[38;5;28;01mreturn\u001b[39;00m \u001b[43mio_open\u001b[49m\u001b[43m(\u001b[49m\u001b[43mfile\u001b[49m\u001b[43m,\u001b[49m\u001b[43m \u001b[49m\u001b[38;5;241;43m*\u001b[39;49m\u001b[43margs\u001b[49m\u001b[43m,\u001b[49m\u001b[43m \u001b[49m\u001b[38;5;241;43m*\u001b[39;49m\u001b[38;5;241;43m*\u001b[39;49m\u001b[43mkwargs\u001b[49m\u001b[43m)\u001b[49m\n",
      "\u001b[1;31mFileNotFoundError\u001b[0m: [Errno 2] No such file or directory: 'biblioteca.json'"
     ]
    }
   ],
   "source": [
    "\n",
    "\n",
    "with open('biblioteca.json', 'r') as archivo:\n",
    "    contenido = json.load(archivo)\n",
    "\n",
    "print(contenido)"
   ]
  },
  {
   "cell_type": "markdown",
   "id": "2d227807",
   "metadata": {},
   "source": [
    "Para escribir datos en un archivo JSON, se emplea función `dump()` del mismo módulo."
   ]
  },
  {
   "cell_type": "code",
   "execution_count": 24,
   "id": "58381b7a",
   "metadata": {},
   "outputs": [
    {
     "name": "stdout",
     "output_type": "stream",
     "text": [
      "{'Asignatura': 'Matemática discreta', 'Curso': 2, 'Titulación': 'Ciencia de datos', 'Estudiantes matriculados': [{'nombre': 'Juan', 'edad': 21, 'ciudad': 'Valencia'}, {'nombre': 'María Carmen', 'edad': 20, 'ciudad': 'Alicante'}]}\n"
     ]
    }
   ],
   "source": [
    "data = {\n",
    "    'Asignatura': 'Matemática discreta',\n",
    "    'Curso': 2,\n",
    "    'Titulación': 'Ciencia de datos',\n",
    "    'Estudiantes matriculados': [\n",
    "        {'nombre': 'Juan',\n",
    "         'edad': 21,\n",
    "         'ciudad': 'Valencia'},\n",
    "        {'nombre': 'María Carmen',\n",
    "         'edad': 20,\n",
    "         'ciudad': 'Alicante'\n",
    "        }\n",
    "    ]\n",
    "}\n",
    "\n",
    "with open('titulacion.json', 'w') as f:\n",
    "    json.dump(data, f)\n",
    "\n",
    "with open('titulacion.json', 'r') as archivo:\n",
    "    contenido = json.load(archivo)\n",
    "\n",
    "print(contenido)"
   ]
  },
  {
   "cell_type": "markdown",
   "id": "d1f58a60",
   "metadata": {},
   "source": [
    "Aunque existen muchas otras funciones dentro del módulo json, se pueden realizar todas las acciones (de manera subóptima) con las funciones `loads()` y `dump()`. En esencia, la primera convierte el formato JSON a diccionarios y listas y, la segunda, lo contrario."
   ]
  },
  {
   "cell_type": "markdown",
   "id": "f8c72bea",
   "metadata": {},
   "source": [
    "---\n",
    "**Ejercicio 4.** Abre el archivo \"quijote.txt\" y escribe un documento tipo JSON (\"quijote.json\") que incluya:\n",
    "\n",
    "1. Autor (línea 2 \"quijote.txt\")\n",
    "2. Título (línea 1 de \"quijote.txt\")\n",
    "3. Capítulos   \n",
    "    3.1. Número del capítulo (línea 5 de \"quijote.txt\") \n",
    "    3.2. Nombre del capítulo (línea 5 de \"quijote.txt\")  \n",
    "    3.3. Número de párrafos (a partir de línea 6 de \"quijote.txt\") \n",
    "4. 10 palabras más frecuentes (palabra y frecuencia) (a partir de línea 6 de \"quijote.txt\") "
   ]
  },
  {
   "cell_type": "code",
   "execution_count": null,
   "id": "29b7d342",
   "metadata": {},
   "outputs": [],
   "source": []
  },
  {
   "cell_type": "markdown",
   "id": "d35887d8",
   "metadata": {},
   "source": [
    "# Pandas"
   ]
  },
  {
   "cell_type": "markdown",
   "id": "58f44da7",
   "metadata": {},
   "source": [
    "## 1. Introducción"
   ]
  },
  {
   "cell_type": "markdown",
   "id": "d26f8382",
   "metadata": {},
   "source": [
    "Pandas es una biblioteca de código abierto para Python construida sobre la librería numpy que proporciona herramientas de análisis y manipulación de datos de alto rendimiento.\n",
    "Entre sus principales características destaca:\n",
    "- Permite trabajar con una amplia variedad de datos, desde matrices simples hasta series temporales y datos tabulares.\n",
    "- Posee una amplia gama de funciones integradas para filtrar, transformar y agregar datos.\n",
    "- Se integra bien con otras bibliotecas y herramientas en el ecosistema de Python, como matplotlib para la visualización y scikit-learn para el aprendizaje automático.\n",
    "\n",
    "Su instalación se realiza a través del comando `pip` como\n",
    "```\n",
    "!pip install pandas\n",
    "```\n",
    "o bien mediante conda desde terminal como\n",
    "```\n",
    "conda install -c conda-forge pandas\n",
    "```"
   ]
  },
  {
   "cell_type": "code",
   "execution_count": null,
   "id": "35f95ad2",
   "metadata": {},
   "outputs": [],
   "source": [
    "# Descomenta la siguiente línea para instalar pandas la primera vez\n",
    "# !pip install pandas"
   ]
  },
  {
   "cell_type": "markdown",
   "id": "10f5b34d",
   "metadata": {},
   "source": [
    "Una vez instalada, es común importar pandas con el alias pd"
   ]
  },
  {
   "cell_type": "code",
   "execution_count": 1,
   "id": "b739f2ed",
   "metadata": {},
   "outputs": [],
   "source": [
    "import pandas as pd"
   ]
  },
  {
   "cell_type": "markdown",
   "id": "766c9ae9",
   "metadata": {},
   "source": [
    "Los principales objetos de la librería pandas son las series y los dataframes:\n",
    "- Una Serie es una estructura unidimensional etiquetada de datos.\n",
    "- Un DataFrame es una estructura bidimensional etiquetada de datos.\n",
    "\n",
    "Las etiquetas en ambos casos se denominan también índices."
   ]
  },
  {
   "cell_type": "markdown",
   "id": "7b50bff4",
   "metadata": {},
   "source": [
    "## 2. Series"
   ]
  },
  {
   "cell_type": "markdown",
   "id": "e3800fa3",
   "metadata": {},
   "source": [
    "Una Serie es un array unidimensional etiquetado capaz de contener cualquier tipo de dato (enteros, cadenas, números flotantes, objetos de Python, etc.). Más allá de sus etiquetas, es similar a un array de numpy. \n",
    "\n",
    "Se crean con el módulo `Series()` y toma como argumento una lista, un array o un diccionario. En los dos primeros casos, se pueden añadir índices a los elementos de la serie con el argumento opcional `index` (por defecto, son los índices 0, 1, 2, ...). En el tercero, los índices asignados son las claves del diccionario.\n",
    "\n",
    "Para mostrar por pantalla las series se puede usar la función `print` o `display`, siendo preferente la segunda (ya que es la que se usa también en dataframes)."
   ]
  },
  {
   "cell_type": "code",
   "execution_count": 26,
   "id": "0286ce67",
   "metadata": {},
   "outputs": [
    {
     "data": {
      "text/plain": [
       "0    a\n",
       "1    b\n",
       "2    c\n",
       "3    d\n",
       "dtype: object"
      ]
     },
     "metadata": {},
     "output_type": "display_data"
    },
    {
     "data": {
      "text/plain": [
       "primero    10\n",
       "segundo    20\n",
       "tercero    30\n",
       "cuarto     40\n",
       "dtype: int64"
      ]
     },
     "metadata": {},
     "output_type": "display_data"
    },
    {
     "data": {
      "text/plain": [
       "nombre        Alfonso\n",
       "apellido1      Guerra\n",
       "apellido2    Sebastiá\n",
       "edad               25\n",
       "dtype: object"
      ]
     },
     "metadata": {},
     "output_type": "display_data"
    }
   ],
   "source": [
    "import numpy as np\n",
    "\n",
    "# Creación de serie desde una lista\n",
    "mi_lista = ['a', 'b', 'c', 'd']\n",
    "mi_serie1 = pd.Series(mi_lista)\n",
    "display(mi_serie1)\n",
    "\n",
    "# Creación de serie desde un array\n",
    "mi_array = np.array([10, 20, 30, 40])\n",
    "mi_serie2 = pd.Series(mi_array, index=['primero', 'segundo', 'tercero', 'cuarto'])\n",
    "display(mi_serie2)\n",
    "\n",
    "# Creación de serie desde un diccionario\n",
    "mi_dict = {'nombre': 'Alfonso', 'apellido1': 'Guerra', 'apellido2': 'Sebastiá', 'edad': 25}\n",
    "mi_serie3 = pd.Series(mi_dict)\n",
    "display(mi_serie3)"
   ]
  },
  {
   "cell_type": "markdown",
   "id": "9429257c",
   "metadata": {},
   "source": [
    "El acceso a los elementos de una serie se realiza a través de su índice. Aunque es posible también acceder a sus elementos indicando su posición de manera análoga a una lista, este mecanismo no está recomendado (será eliminado en futuras versiones). Asimismo, también es posible emplear slices para series, dando lugar a una nueva serie."
   ]
  },
  {
   "cell_type": "code",
   "execution_count": 27,
   "id": "b675591f",
   "metadata": {},
   "outputs": [
    {
     "name": "stdout",
     "output_type": "stream",
     "text": [
      "delta\n",
      "G    gamma\n",
      "D    delta\n",
      "dtype: object\n"
     ]
    }
   ],
   "source": [
    "mi_serie = pd.Series(['alfa', 'beta', 'gamma', 'delta'], index=['A', 'B', 'G', 'D'])\n",
    "print(mi_serie['D'])\n",
    "print(mi_serie[2:])"
   ]
  },
  {
   "cell_type": "markdown",
   "id": "e3451464",
   "metadata": {},
   "source": [
    "Las series tienen múltiples funciones disponibles, muchas de las cuales son también compartidas por los dataframes. Como es habitual, la sintaxis para acceder a estas funciones es:\n",
    "```\n",
    "mi_serie.funcion\n",
    "```\n",
    "| Función| Descripción |\n",
    "|----------------|-------------|\n",
    "| `.values` | Devuelve valores de la Serie |\n",
    "| `.index` | Devuelve el índice de la Serie |\n",
    "| `.dtype` | Devuelve el tipo de dato de la Serie |\n",
    "| `.size` | Devuelve el número de elementos |\n",
    "| `.head(n)` | Muestra los primeros `n` elementos |\n",
    "| `.tail(n)` | Muestra los últimos `n` elementos |\n",
    "| `.sum()` | Suma los elementos |\n",
    "| `.describe()` | Genera estadísticas descriptivas |\n",
    "| `.mean()` | Calcula la media |\n",
    "| `.max()` | Devuelve el valor máximo |\n",
    "| `.min()` | Devuelve el valor mínimo |\n",
    "| `.isnull()` | Detecta valores faltantes |\n",
    "| `.dropna()` | Elimina valores faltantes |\n",
    "| `.fillna(value)` | Rellena valores faltantes con `value` |\n",
    "| `.unique()` | Devuelve valores únicos |\n",
    "| `.apply(func)` | Aplica una función a cada elemento |"
   ]
  },
  {
   "cell_type": "code",
   "execution_count": null,
   "id": "e59477dc",
   "metadata": {},
   "outputs": [],
   "source": [
    "s = pd.Series([1, 2, 3, 3, None], index=['a', 'b', 'c', 'd', 'e'])\n",
    "print(\"Mi serie:\")\n",
    "display(s)\n",
    "print(\"\\n\")\n",
    "\n",
    "print(s.values)  # array([1, 2, 3, 3])\n",
    "print(s.index)  # RangeIndex(start=0, stop=4, step=1)\n",
    "print(s.dtype)  # float64\n",
    "print(s.size)  # 5\n",
    "\n",
    "print(s.head(2))\n",
    "# a    1\n",
    "# b    2\n",
    "# dtype: int64\n",
    "\n",
    "print(s.tail(2))\n",
    "# d    3\n",
    "# c    NaN\n",
    "# dtype: float64\n",
    "\n",
    "print(s.sum())  # 9\n",
    "\n",
    "print(s.describe())\n",
    "# count    4.000000\n",
    "# mean     2.250000\n",
    "# std      0.957427\n",
    "# min      1.000000\n",
    "# 25%      1.750000\n",
    "# 50%      2.500000\n",
    "# 75%      3.000000\n",
    "# max      3.000000\n",
    "\n",
    "print(s.mean())  # 2.25\n",
    "print(s.max())  # 3\n",
    "print(s.min())  # 1\n",
    "\n",
    "print(s.isnull())\n",
    "# a    False\n",
    "# b    False\n",
    "# c    False\n",
    "# d    False\n",
    "# e    True\n",
    "# dtype: bool\n",
    "\n",
    "print(s.dropna())\n",
    "# a    1.0\n",
    "# b    2.0\n",
    "# c    3.0\n",
    "# d    3.0\n",
    "# dtype: float64\n",
    "\n",
    "print(s.fillna(0))\n",
    "# a    1.0\n",
    "# b    2.0\n",
    "# c    3.0\n",
    "# d    3.0\n",
    "# e    0.0\n",
    "# dtype: float64\n",
    "\n",
    "print(s.unique())  # array([1, 2, 3, nan])\n",
    "\n",
    "def cuadrado(x):\n",
    "    return x**2\n",
    "\n",
    "print(s.apply(cuadrado))\n",
    "# a    1.0\n",
    "# b    4.0\n",
    "# c    9.0\n",
    "# d    9.0\n",
    "# e    NaN\n",
    "# dtype: float64"
   ]
  },
  {
   "cell_type": "markdown",
   "id": "0472cabb",
   "metadata": {},
   "source": [
    "---\n",
    "**Ejercicio 1.** Crea una Serie con los siguientes valores: \n",
    "```\n",
    "[10, 20, None, 30, 40, 50, None].\n",
    "```\n",
    "y que tenga por índice las primeras siete letras del abecedario.\n",
    "\n",
    "    a) Rellena los valores faltantes con la media de los valores no faltantes.\n",
    "    b) Calcula la suma de la serie original.\n",
    "    c) Aplica la función raíz cuadrada sobre la serie original."
   ]
  },
  {
   "cell_type": "markdown",
   "id": "6f3b4142",
   "metadata": {},
   "source": [
    "## 3. Dataframes"
   ]
  },
  {
   "cell_type": "markdown",
   "id": "bb443ff6",
   "metadata": {},
   "source": [
    "Un DataFrame es una estructura bidimensional etiquetada de datos con columnas que pueden ser de diferentes tipos (similar a una tabla de SQL o una hoja de cálculo de Excel). Se puede interpretar como una colección de series, donde cada serie es una columna diferente."
   ]
  },
  {
   "cell_type": "markdown",
   "id": "56754531",
   "metadata": {},
   "source": [
    "### Creación e importación de dataframes"
   ]
  },
  {
   "cell_type": "markdown",
   "id": "05da3216",
   "metadata": {},
   "source": [
    "\n",
    "Se crean con el módulo `DataFrame()` y toma como argumento listas, arrays o un diccionario al igual que las series, aunque hay algunas diferencias. La implementación de dataframes a partir de una lista de listas o arrays bidimensionales es análogo a la introducción de una matriz: el primer de anidamiento representan filas y el segundo, las columnas. Las filas, al igual que ocurría en el caso de las series, se pueden etiquetar con el argumento opcional `index` y las columnas, se etiquetan o encabezan con el argumento opcional `columns`.\n",
    "\n",
    "La función más indicada para mostrar por pantalla los dataframes es `display()` (también se puede con `print`)"
   ]
  },
  {
   "cell_type": "code",
   "execution_count": 28,
   "id": "febc5c70",
   "metadata": {},
   "outputs": [
    {
     "name": "stdout",
     "output_type": "stream",
     "text": [
      "             Nombre  Edad\n",
      "Hija mayor    María    15\n",
      "Hija mediana    Ana    12\n",
      "Hija menor      Eva    10\n"
     ]
    },
    {
     "data": {
      "text/html": [
       "<div>\n",
       "<style scoped>\n",
       "    .dataframe tbody tr th:only-of-type {\n",
       "        vertical-align: middle;\n",
       "    }\n",
       "\n",
       "    .dataframe tbody tr th {\n",
       "        vertical-align: top;\n",
       "    }\n",
       "\n",
       "    .dataframe thead th {\n",
       "        text-align: right;\n",
       "    }\n",
       "</style>\n",
       "<table border=\"1\" class=\"dataframe\">\n",
       "  <thead>\n",
       "    <tr style=\"text-align: right;\">\n",
       "      <th></th>\n",
       "      <th>Nombre</th>\n",
       "      <th>Edad</th>\n",
       "    </tr>\n",
       "  </thead>\n",
       "  <tbody>\n",
       "    <tr>\n",
       "      <th>Hija mayor</th>\n",
       "      <td>María</td>\n",
       "      <td>15</td>\n",
       "    </tr>\n",
       "    <tr>\n",
       "      <th>Hija mediana</th>\n",
       "      <td>Ana</td>\n",
       "      <td>12</td>\n",
       "    </tr>\n",
       "    <tr>\n",
       "      <th>Hija menor</th>\n",
       "      <td>Eva</td>\n",
       "      <td>10</td>\n",
       "    </tr>\n",
       "  </tbody>\n",
       "</table>\n",
       "</div>"
      ],
      "text/plain": [
       "             Nombre  Edad\n",
       "Hija mayor    María    15\n",
       "Hija mediana    Ana    12\n",
       "Hija menor      Eva    10"
      ]
     },
     "metadata": {},
     "output_type": "display_data"
    }
   ],
   "source": [
    "# Creación de dataframe a partir de listas\n",
    "datos = [['María', 15], ['Ana', 12], ['Eva', 10]]\n",
    "df = pd.DataFrame(datos, columns=['Nombre', 'Edad'], index=['Hija mayor', 'Hija mediana', 'Hija menor'])\n",
    "print(df)\n",
    "display(df)  # En el caso de dataframes, la función display da un mejor resultado que print"
   ]
  },
  {
   "cell_type": "markdown",
   "id": "60626d0e",
   "metadata": {},
   "source": [
    "La creación de dataframes mediante diccionario es ligeramente distinta a las series, ya que las claves del diccionario se corresponden con los encabezados de las columnas, en lugar de las filas. Así, se puede especificar como en el caso anterior la opción `index` para etiquetar también las filas. \n",
    "\n",
    "Alternativamente, se puede introducir directamente un dataframe con todas las etiquetas como un diccionario donde los valores son series."
   ]
  },
  {
   "cell_type": "code",
   "execution_count": 29,
   "id": "c4c84041",
   "metadata": {},
   "outputs": [
    {
     "data": {
      "text/html": [
       "<div>\n",
       "<style scoped>\n",
       "    .dataframe tbody tr th:only-of-type {\n",
       "        vertical-align: middle;\n",
       "    }\n",
       "\n",
       "    .dataframe tbody tr th {\n",
       "        vertical-align: top;\n",
       "    }\n",
       "\n",
       "    .dataframe thead th {\n",
       "        text-align: right;\n",
       "    }\n",
       "</style>\n",
       "<table border=\"1\" class=\"dataframe\">\n",
       "  <thead>\n",
       "    <tr style=\"text-align: right;\">\n",
       "      <th></th>\n",
       "      <th>Vehículo</th>\n",
       "      <th>Ruedas</th>\n",
       "    </tr>\n",
       "  </thead>\n",
       "  <tbody>\n",
       "    <tr>\n",
       "      <th>a</th>\n",
       "      <td>Coche</td>\n",
       "      <td>4</td>\n",
       "    </tr>\n",
       "    <tr>\n",
       "      <th>b</th>\n",
       "      <td>Moto</td>\n",
       "      <td>2</td>\n",
       "    </tr>\n",
       "    <tr>\n",
       "      <th>c</th>\n",
       "      <td>Bicicleta</td>\n",
       "      <td>2</td>\n",
       "    </tr>\n",
       "    <tr>\n",
       "      <th>d</th>\n",
       "      <td>Autobús</td>\n",
       "      <td>8</td>\n",
       "    </tr>\n",
       "  </tbody>\n",
       "</table>\n",
       "</div>"
      ],
      "text/plain": [
       "    Vehículo  Ruedas\n",
       "a      Coche       4\n",
       "b       Moto       2\n",
       "c  Bicicleta       2\n",
       "d    Autobús       8"
      ]
     },
     "metadata": {},
     "output_type": "display_data"
    },
    {
     "data": {
      "text/html": [
       "<div>\n",
       "<style scoped>\n",
       "    .dataframe tbody tr th:only-of-type {\n",
       "        vertical-align: middle;\n",
       "    }\n",
       "\n",
       "    .dataframe tbody tr th {\n",
       "        vertical-align: top;\n",
       "    }\n",
       "\n",
       "    .dataframe thead th {\n",
       "        text-align: right;\n",
       "    }\n",
       "</style>\n",
       "<table border=\"1\" class=\"dataframe\">\n",
       "  <thead>\n",
       "    <tr style=\"text-align: right;\">\n",
       "      <th></th>\n",
       "      <th>Vehículo</th>\n",
       "      <th>Ruedas</th>\n",
       "    </tr>\n",
       "  </thead>\n",
       "  <tbody>\n",
       "    <tr>\n",
       "      <th>a</th>\n",
       "      <td>Coche</td>\n",
       "      <td>4</td>\n",
       "    </tr>\n",
       "    <tr>\n",
       "      <th>b</th>\n",
       "      <td>Moto</td>\n",
       "      <td>2</td>\n",
       "    </tr>\n",
       "    <tr>\n",
       "      <th>c</th>\n",
       "      <td>Bicicleta</td>\n",
       "      <td>2</td>\n",
       "    </tr>\n",
       "    <tr>\n",
       "      <th>d</th>\n",
       "      <td>Autobús</td>\n",
       "      <td>8</td>\n",
       "    </tr>\n",
       "  </tbody>\n",
       "</table>\n",
       "</div>"
      ],
      "text/plain": [
       "    Vehículo  Ruedas\n",
       "a      Coche       4\n",
       "b       Moto       2\n",
       "c  Bicicleta       2\n",
       "d    Autobús       8"
      ]
     },
     "metadata": {},
     "output_type": "display_data"
    }
   ],
   "source": [
    "# Creación de dataframe a partir de diccionario\n",
    "datos = {\n",
    "    'Vehículo': ['Coche', 'Moto', 'Bicicleta', 'Autobús'],\n",
    "    'Ruedas': [4, 2, 2, 8]\n",
    "}\n",
    "df1 = pd.DataFrame(datos, index= ['a', 'b', 'c', 'd'])\n",
    "display(df1)\n",
    "\n",
    "# Creación de dataframe a partir de un diccionario donde los valores son series\n",
    "s1 = pd.Series(['Coche', 'Moto', 'Bicicleta', 'Autobús'], index=['a', 'b', 'c', 'd'])\n",
    "s2 = pd.Series([4, 2, 2, 8], index=['a', 'b', 'c', 'd'])\n",
    "datos = {'Vehículo': s1, 'Ruedas': s2}\n",
    "df2 = pd.DataFrame(datos)\n",
    "display(df2)\n"
   ]
  },
  {
   "cell_type": "markdown",
   "id": "16233736",
   "metadata": {},
   "source": [
    "Una de los principales métodos de creación de dataframes es a partir de archivos externos de tipo CSV o excel. Se implementan respectivamente con las funciones `read_csv(<nombre_archivo>)` y `read_excel(<nombre_archivo>)`, respectivamente."
   ]
  },
  {
   "cell_type": "code",
   "execution_count": null,
   "id": "c3d9df23",
   "metadata": {},
   "outputs": [],
   "source": [
    "df = pd.read_csv(\"Inventory.csv\")\n",
    "display(df)"
   ]
  },
  {
   "cell_type": "markdown",
   "id": "cf9997a7",
   "metadata": {},
   "source": [
    "En el caso de archivos excel, es posible que sea necesario instalar la dependencia openpyxl para interactuar con este tipo de archivos. Para ello, se ejecuta una vez la línea siguiente:\n",
    "```\n",
    "!pip install openpyxl\n",
    "```"
   ]
  },
  {
   "cell_type": "code",
   "execution_count": null,
   "id": "2fee7c80",
   "metadata": {},
   "outputs": [],
   "source": [
    "# Descomentar la siguiente línea en el caso de faltar la dependencia siguiente\n",
    "# !pip install openpyxl\n",
    "\n",
    "df = pd.read_excel(\"Lista-de-clientes-con-nombre-y-direccion.xlsx\")\n",
    "display(df)"
   ]
  },
  {
   "cell_type": "markdown",
   "id": "5d38ecf6",
   "metadata": {},
   "source": [
    "### Acceso a los elementos"
   ]
  },
  {
   "cell_type": "markdown",
   "id": "850da257",
   "metadata": {},
   "source": [
    "Para seleccionar una columna específica de un dataframe se usar la sintaxis de corchetes incluyendo la etiqueta de la misma o, alternativamente con el operador punto:\n",
    "```\n",
    "mi_dataframe[<etiqueta_columna>]\n",
    "o\n",
    "mi_dataframe.<etiqueta_columna>\n",
    "```\n",
    "Para seleccionar una fila específica se emplea el método `loc` para selección basada en etiquetas o el método `iloc` para selección basada en la posición:\n",
    "```\n",
    "mi_dataframe.loc[<etiqueta_fila>]\n",
    "o\n",
    "mi_dataframe.iloc[<posicion_fila>]\n",
    "```"
   ]
  },
  {
   "cell_type": "code",
   "execution_count": 30,
   "id": "64c7a5e4",
   "metadata": {},
   "outputs": [
    {
     "data": {
      "text/html": [
       "<div>\n",
       "<style scoped>\n",
       "    .dataframe tbody tr th:only-of-type {\n",
       "        vertical-align: middle;\n",
       "    }\n",
       "\n",
       "    .dataframe tbody tr th {\n",
       "        vertical-align: top;\n",
       "    }\n",
       "\n",
       "    .dataframe thead th {\n",
       "        text-align: right;\n",
       "    }\n",
       "</style>\n",
       "<table border=\"1\" class=\"dataframe\">\n",
       "  <thead>\n",
       "    <tr style=\"text-align: right;\">\n",
       "      <th></th>\n",
       "      <th>Columna_A</th>\n",
       "      <th>Columna_B</th>\n",
       "      <th>Columna_C</th>\n",
       "    </tr>\n",
       "  </thead>\n",
       "  <tbody>\n",
       "    <tr>\n",
       "      <th>Fila_1</th>\n",
       "      <td>1</td>\n",
       "      <td>4</td>\n",
       "      <td>7</td>\n",
       "    </tr>\n",
       "    <tr>\n",
       "      <th>Fila_2</th>\n",
       "      <td>2</td>\n",
       "      <td>5</td>\n",
       "      <td>8</td>\n",
       "    </tr>\n",
       "    <tr>\n",
       "      <th>Fila_3</th>\n",
       "      <td>3</td>\n",
       "      <td>6</td>\n",
       "      <td>9</td>\n",
       "    </tr>\n",
       "  </tbody>\n",
       "</table>\n",
       "</div>"
      ],
      "text/plain": [
       "        Columna_A  Columna_B  Columna_C\n",
       "Fila_1          1          4          7\n",
       "Fila_2          2          5          8\n",
       "Fila_3          3          6          9"
      ]
     },
     "metadata": {},
     "output_type": "display_data"
    },
    {
     "name": "stdout",
     "output_type": "stream",
     "text": [
      "Columna A:\n",
      "Fila_1    1\n",
      "Fila_2    2\n",
      "Fila_3    3\n",
      "Name: Columna_A, dtype: int64\n",
      "\n",
      "Columna A:\n",
      "Fila_1    1\n",
      "Fila_2    2\n",
      "Fila_3    3\n",
      "Name: Columna_A, dtype: int64\n",
      "\n",
      "Fila 1:\n",
      "Columna_A    1\n",
      "Columna_B    4\n",
      "Columna_C    7\n",
      "Name: Fila_1, dtype: int64\n",
      "\n",
      "Fila 1:\n",
      "Columna_A    1\n",
      "Columna_B    4\n",
      "Columna_C    7\n",
      "Name: Fila_1, dtype: int64\n",
      "\n"
     ]
    }
   ],
   "source": [
    "# Creando un DataFrame de ejemplo\n",
    "data = {\n",
    "    'Columna_A': [1, 2, 3],\n",
    "    'Columna_B': [4, 5, 6],\n",
    "    'Columna_C': [7, 8, 9]\n",
    "}\n",
    "df = pd.DataFrame(data, index=['Fila_1', 'Fila_2', 'Fila_3'])\n",
    "\n",
    "display(df)\n",
    "\n",
    "# Seleccionar columna A\n",
    "print(\"Columna A:\", df['Columna_A'], sep='\\n', end='\\n\\n')\n",
    "print(\"Columna A:\", df.Columna_A, sep='\\n', end='\\n\\n')\n",
    "print(\"Fila 1:\", df.loc[\"Fila_1\"], sep='\\n', end='\\n\\n')\n",
    "print(\"Fila 1:\", df.iloc[0], sep='\\n', end='\\n\\n')\n"
   ]
  },
  {
   "cell_type": "markdown",
   "id": "70779f0b",
   "metadata": {},
   "source": [
    "### Operaciones con dataframes"
   ]
  },
  {
   "cell_type": "markdown",
   "id": "2c5e8c72",
   "metadata": {},
   "source": [
    "La librería pandas cuenta con una gran variedad de operaciones y funciones que se pueden aplicar sobre los dataframes o conjuntos de dataframes. Algunas operaciones destacadas son las siguientes:"
   ]
  },
  {
   "cell_type": "markdown",
   "id": "919d3388",
   "metadata": {},
   "source": [
    "| Operación                                | Descripción         |\n",
    "|------------------------------------------|---------------------|\n",
    "| `df['C'] = df['A'] + df['B']` | Adición de columna |\n",
    "| `df.drop('C', axis=0)` | Eliminación de fila |\n",
    "| `df.drop('C', axis=1)` | Eliminación de columna |\n",
    "| `df.fillna(value)` | Llenar valores faltantes |\n",
    "| `df.dropna()` | Eliminar valores faltantes |\n",
    "| `df.groupby('columna').sum()` | Agrupar filas basadas en valores de una o más columnas y sumar los valores agrupados|\n",
    "| `df['A'].apply(func)`  | Aplicar una función a columnas o filas  |\n",
    "| `df.set_index('columna')` | Establecer una columna como índice del DataFrame |\n",
    "| `df.reset_index()`  | Restablecer el índice del DataFrame a un índice numérico predeterminado |\n",
    "| `df.sort_values(by='columna')` | Ordenar el DataFrame por valores de una columna |"
   ]
  },
  {
   "cell_type": "code",
   "execution_count": null,
   "id": "1cb4a467",
   "metadata": {},
   "outputs": [],
   "source": [
    "# Creación del dataframe de ejemplo\n",
    "data = {\n",
    "    'A': [1, 2, 3, None],\n",
    "    'B': [4, 5, 6, 7],\n",
    "    'C': [8, 9, 10, 11]\n",
    "}\n",
    "df = pd.DataFrame(data)\n",
    "display(df)\n",
    "print(\"\\n\")\n",
    "\n",
    "# Adición de columna\n",
    "df['D'] = df['A'] + df['B']\n",
    "print(\"Adición de columna:\")\n",
    "display(df)\n",
    "print(\"\\n\")\n",
    "\n",
    "# Eliminación de fila (por índice, en este caso índice 2)\n",
    "df = df.drop(2, axis=0)\n",
    "print(\"Eliminación de fila:\")\n",
    "display(df)\n",
    "print(\"\\n\")\n",
    "\n",
    "# Eliminación de columna\n",
    "df = df.drop('C', axis=1)\n",
    "print(\"Eliminación de columna:\")\n",
    "display(df)\n",
    "print(\"\\n\")\n",
    "\n",
    "# Llenar valores faltantes\n",
    "df_lleno = df.fillna(0)\n",
    "print(\"Llenar valores faltantes:\")\n",
    "display(df_lleno)\n",
    "print(\"\\n\")\n",
    "\n",
    "# Eliminar valores faltantes\n",
    "df_nonan = df.dropna()\n",
    "print(\"Eliminar valores faltantes (respecto a el anterior dataframe al anterior):\")\n",
    "display(df_nonan)"
   ]
  },
  {
   "cell_type": "code",
   "execution_count": null,
   "id": "d87a6f35",
   "metadata": {},
   "outputs": [],
   "source": [
    "# Datos de ejemplo\n",
    "data = {\n",
    "    'Producto': ['Manzana', 'Banana', 'Manzana', 'Banana', 'Manzana', 'Banana'],\n",
    "    'Ciudad': ['Madrid', 'Madrid', 'Barcelona', 'Barcelona', 'Valencia', 'Valencia'],\n",
    "    'Ventas': [100, 120, 80, 110, 90, 105],\n",
    "    'Costo': [50, 60, 40, 55, 45, 52]\n",
    "}\n",
    "\n",
    "df = pd.DataFrame(data)\n",
    "display(df)\n",
    "\n",
    "# Selección de columnas Producto, ventas y costo\n",
    "print(\"Dataframe eliminando la columna de ciudad:\")\n",
    "df_reducido = df[['Producto', 'Ventas', 'Costo']]\n",
    "display(df_reducido)\n",
    "print(\"\\n\")\n",
    "\n",
    "# Agrupar valores\n",
    "grouped = df_reducido.groupby('Producto').sum()\n",
    "print(\"Agrupación por Producto:\")\n",
    "display(grouped)\n",
    "print(\"\\n\")\n",
    "\n",
    "# Aplicar una función a una columna\n",
    "def incremento10por100(x):\n",
    "    return x * 1.1\n",
    "df['Ventas'] = df['Ventas'].apply(incremento10por100)\n",
    "print(\"Aplicar función a columna:\\n\")\n",
    "display(df)\n",
    "print(\"\\n\")\n",
    "\n",
    "# Establecimiento de la columna Producto como índice del DataFrame\n",
    "df = df.set_index('Producto')\n",
    "print(\"Cambiar índices:\")\n",
    "display(df)\n",
    "print(\"\\n\")\n",
    "\n",
    "# Reseteo de los índices al formato numérico predeterminado\n",
    "df = df.reset_index()\n",
    "print(\"Restablecer índices:\")\n",
    "display(df)\n",
    "print(\"\\n\")\n",
    "\n",
    "# Ordenación del DataFrame por Ventas de forma descendente\n",
    "df = df.sort_values(by='Ventas', ascending=False)\n",
    "print(\"Ordenar DataFrame por Ventas:\")\n",
    "display(df)"
   ]
  },
  {
   "cell_type": "markdown",
   "id": "acde37fa",
   "metadata": {},
   "source": [
    "---\n",
    "**Ejercicio 2.** Crea un dataframe a partir de los siguientes datos:\n",
    "```\n",
    "datos = [\n",
    "    ['Ana', 'Matemáticas', 9],\n",
    "    ['Luis', 'Historia' 7],\n",
    "    ['Marta', 'Matemáticas', 8.5],\n",
    "    ['Javier', 'Física', 4.5],\n",
    "    ['Elena', 'Historia', 7.5]\n",
    "]\n",
    "```\n",
    "con encabezados de columna \"Nombre\", \"Asignatura\" y \"Calificación\". Incorpora como índices sus DNIs: [\"21004512A\", \"22083481X\", \"98123089W\", \"00123802Y\", \"32224091P\"].  A continuación, añade una nueva columna con las notas en palabras (\"Sobresaliente\", \"nNotable\", etc.) basado en las calificaciones numéricas. FInalmente, elimina la columna de calificaciones numéricas."
   ]
  },
  {
   "cell_type": "markdown",
   "id": "547547f5",
   "metadata": {},
   "source": [
    "### Filtrado de dataframes"
   ]
  },
  {
   "cell_type": "markdown",
   "id": "514e1e60",
   "metadata": {},
   "source": [
    "El filtrado de datos en un DataFrame es una operación fundamental. Permite seleccionar un subconjunto de datos basado en ciertas condiciones, facilitando el análisis y la manipulación de información específica.\n",
    "Para filtrar un DataFrame, se suele usar una condición que se evalúa para cada fila. Por ejemplo:\n",
    "```\n",
    "df[\"Columna\"] > valor\n",
    "df[\"Columna\"] == valor\n",
    "...\n",
    "```\n",
    "Esta condición devuelve una serie (pd.Series) de valores booleanos (True o False). Finalmente, se usa esta serie booleana para seleccionar las filas que cumplan con la condición."
   ]
  },
  {
   "cell_type": "code",
   "execution_count": 31,
   "id": "945022da",
   "metadata": {},
   "outputs": [
    {
     "data": {
      "text/html": [
       "<div>\n",
       "<style scoped>\n",
       "    .dataframe tbody tr th:only-of-type {\n",
       "        vertical-align: middle;\n",
       "    }\n",
       "\n",
       "    .dataframe tbody tr th {\n",
       "        vertical-align: top;\n",
       "    }\n",
       "\n",
       "    .dataframe thead th {\n",
       "        text-align: right;\n",
       "    }\n",
       "</style>\n",
       "<table border=\"1\" class=\"dataframe\">\n",
       "  <thead>\n",
       "    <tr style=\"text-align: right;\">\n",
       "      <th></th>\n",
       "      <th>Nombre</th>\n",
       "      <th>Nota</th>\n",
       "    </tr>\n",
       "  </thead>\n",
       "  <tbody>\n",
       "    <tr>\n",
       "      <th>0</th>\n",
       "      <td>Luis</td>\n",
       "      <td>5.5</td>\n",
       "    </tr>\n",
       "    <tr>\n",
       "      <th>1</th>\n",
       "      <td>Ana</td>\n",
       "      <td>8.7</td>\n",
       "    </tr>\n",
       "    <tr>\n",
       "      <th>2</th>\n",
       "      <td>Marta</td>\n",
       "      <td>4.5</td>\n",
       "    </tr>\n",
       "    <tr>\n",
       "      <th>3</th>\n",
       "      <td>Juan</td>\n",
       "      <td>9.0</td>\n",
       "    </tr>\n",
       "  </tbody>\n",
       "</table>\n",
       "</div>"
      ],
      "text/plain": [
       "  Nombre  Nota\n",
       "0   Luis   5.5\n",
       "1    Ana   8.7\n",
       "2  Marta   4.5\n",
       "3   Juan   9.0"
      ]
     },
     "metadata": {},
     "output_type": "display_data"
    },
    {
     "name": "stdout",
     "output_type": "stream",
     "text": [
      "La serie de booleanos que determinan el aprobado es:\n",
      "0     True\n",
      "1     True\n",
      "2    False\n",
      "3     True\n",
      "Name: Nota, dtype: bool\n",
      "\n",
      "Al aplicar el filtrado el dataframe resulta:\n"
     ]
    },
    {
     "data": {
      "text/html": [
       "<div>\n",
       "<style scoped>\n",
       "    .dataframe tbody tr th:only-of-type {\n",
       "        vertical-align: middle;\n",
       "    }\n",
       "\n",
       "    .dataframe tbody tr th {\n",
       "        vertical-align: top;\n",
       "    }\n",
       "\n",
       "    .dataframe thead th {\n",
       "        text-align: right;\n",
       "    }\n",
       "</style>\n",
       "<table border=\"1\" class=\"dataframe\">\n",
       "  <thead>\n",
       "    <tr style=\"text-align: right;\">\n",
       "      <th></th>\n",
       "      <th>Nombre</th>\n",
       "      <th>Nota</th>\n",
       "    </tr>\n",
       "  </thead>\n",
       "  <tbody>\n",
       "    <tr>\n",
       "      <th>0</th>\n",
       "      <td>Luis</td>\n",
       "      <td>5.5</td>\n",
       "    </tr>\n",
       "    <tr>\n",
       "      <th>1</th>\n",
       "      <td>Ana</td>\n",
       "      <td>8.7</td>\n",
       "    </tr>\n",
       "    <tr>\n",
       "      <th>3</th>\n",
       "      <td>Juan</td>\n",
       "      <td>9.0</td>\n",
       "    </tr>\n",
       "  </tbody>\n",
       "</table>\n",
       "</div>"
      ],
      "text/plain": [
       "  Nombre  Nota\n",
       "0   Luis   5.5\n",
       "1    Ana   8.7\n",
       "3   Juan   9.0"
      ]
     },
     "metadata": {},
     "output_type": "display_data"
    }
   ],
   "source": [
    "# Se quiere seleccionar solo aquellos estudiantes que hayan aprobado\n",
    "data = {\n",
    "    'Nombre': ['Luis', 'Ana', 'Marta', 'Juan'],\n",
    "    'Nota': [5.5, 8.7, 4.5, 9.0]\n",
    "}\n",
    "\n",
    "df = pd.DataFrame(data)\n",
    "display(df)\n",
    "\n",
    "mask = df['Nota'] >= 5.0\n",
    "print(\"La serie de booleanos que determinan el aprobado es:\", mask, sep=\"\\n\", end=\"\\n\\n\")\n",
    "\n",
    "\n",
    "aprobados = df[mask]\n",
    "print(\"Al aplicar el filtrado el dataframe resulta:\")\n",
    "display(aprobados)"
   ]
  },
  {
   "cell_type": "markdown",
   "id": "46155b47",
   "metadata": {},
   "source": [
    "El filtrado también puede realizarse con más de una condición de manera simultánea. La combinación lógica de condiciones, no obstante, es diferente a las declaraciones habituales en Python. En este caso se usa:\n",
    "-  & (conjunción y)\n",
    "-  | (conjuncion o)\n",
    "-  ~ (negación)"
   ]
  },
  {
   "cell_type": "code",
   "execution_count": 32,
   "id": "d7437745",
   "metadata": {},
   "outputs": [
    {
     "name": "stdout",
     "output_type": "stream",
     "text": [
      "DataFrame Original:\n"
     ]
    },
    {
     "data": {
      "text/html": [
       "<div>\n",
       "<style scoped>\n",
       "    .dataframe tbody tr th:only-of-type {\n",
       "        vertical-align: middle;\n",
       "    }\n",
       "\n",
       "    .dataframe tbody tr th {\n",
       "        vertical-align: top;\n",
       "    }\n",
       "\n",
       "    .dataframe thead th {\n",
       "        text-align: right;\n",
       "    }\n",
       "</style>\n",
       "<table border=\"1\" class=\"dataframe\">\n",
       "  <thead>\n",
       "    <tr style=\"text-align: right;\">\n",
       "      <th></th>\n",
       "      <th>Producto</th>\n",
       "      <th>Ciudad</th>\n",
       "      <th>Unidades</th>\n",
       "    </tr>\n",
       "  </thead>\n",
       "  <tbody>\n",
       "    <tr>\n",
       "      <th>0</th>\n",
       "      <td>Teléfono</td>\n",
       "      <td>Madrid</td>\n",
       "      <td>55</td>\n",
       "    </tr>\n",
       "    <tr>\n",
       "      <th>1</th>\n",
       "      <td>Ordenador portátil</td>\n",
       "      <td>Madrid</td>\n",
       "      <td>30</td>\n",
       "    </tr>\n",
       "    <tr>\n",
       "      <th>2</th>\n",
       "      <td>Teléfono</td>\n",
       "      <td>Barcelona</td>\n",
       "      <td>60</td>\n",
       "    </tr>\n",
       "    <tr>\n",
       "      <th>3</th>\n",
       "      <td>Tablet</td>\n",
       "      <td>Valencia</td>\n",
       "      <td>25</td>\n",
       "    </tr>\n",
       "    <tr>\n",
       "      <th>4</th>\n",
       "      <td>Teléfono</td>\n",
       "      <td>Madrid</td>\n",
       "      <td>40</td>\n",
       "    </tr>\n",
       "    <tr>\n",
       "      <th>5</th>\n",
       "      <td>Ordenador portátil</td>\n",
       "      <td>Barcelona</td>\n",
       "      <td>20</td>\n",
       "    </tr>\n",
       "    <tr>\n",
       "      <th>6</th>\n",
       "      <td>Teléfono</td>\n",
       "      <td>Barcelona</td>\n",
       "      <td>70</td>\n",
       "    </tr>\n",
       "  </tbody>\n",
       "</table>\n",
       "</div>"
      ],
      "text/plain": [
       "             Producto     Ciudad  Unidades\n",
       "0            Teléfono     Madrid        55\n",
       "1  Ordenador portátil     Madrid        30\n",
       "2            Teléfono  Barcelona        60\n",
       "3              Tablet   Valencia        25\n",
       "4            Teléfono     Madrid        40\n",
       "5  Ordenador portátil  Barcelona        20\n",
       "6            Teléfono  Barcelona        70"
      ]
     },
     "metadata": {},
     "output_type": "display_data"
    },
    {
     "name": "stdout",
     "output_type": "stream",
     "text": [
      "\n",
      "\n",
      "Ventas Filtradas:\n"
     ]
    },
    {
     "data": {
      "text/html": [
       "<div>\n",
       "<style scoped>\n",
       "    .dataframe tbody tr th:only-of-type {\n",
       "        vertical-align: middle;\n",
       "    }\n",
       "\n",
       "    .dataframe tbody tr th {\n",
       "        vertical-align: top;\n",
       "    }\n",
       "\n",
       "    .dataframe thead th {\n",
       "        text-align: right;\n",
       "    }\n",
       "</style>\n",
       "<table border=\"1\" class=\"dataframe\">\n",
       "  <thead>\n",
       "    <tr style=\"text-align: right;\">\n",
       "      <th></th>\n",
       "      <th>Producto</th>\n",
       "      <th>Ciudad</th>\n",
       "      <th>Unidades</th>\n",
       "    </tr>\n",
       "  </thead>\n",
       "  <tbody>\n",
       "    <tr>\n",
       "      <th>0</th>\n",
       "      <td>Teléfono</td>\n",
       "      <td>Madrid</td>\n",
       "      <td>55</td>\n",
       "    </tr>\n",
       "    <tr>\n",
       "      <th>2</th>\n",
       "      <td>Teléfono</td>\n",
       "      <td>Barcelona</td>\n",
       "      <td>60</td>\n",
       "    </tr>\n",
       "    <tr>\n",
       "      <th>6</th>\n",
       "      <td>Teléfono</td>\n",
       "      <td>Barcelona</td>\n",
       "      <td>70</td>\n",
       "    </tr>\n",
       "  </tbody>\n",
       "</table>\n",
       "</div>"
      ],
      "text/plain": [
       "   Producto     Ciudad  Unidades\n",
       "0  Teléfono     Madrid        55\n",
       "2  Teléfono  Barcelona        60\n",
       "6  Teléfono  Barcelona        70"
      ]
     },
     "metadata": {},
     "output_type": "display_data"
    }
   ],
   "source": [
    "# Filtrado de ventas de teléfonos en Madrid o Barcelona y que hayan superado las 50 unidades.\n",
    "\n",
    "data = {\n",
    "    'Producto': ['Teléfono', 'Ordenador portátil', 'Teléfono', 'Tablet', 'Teléfono', 'Ordenador portátil', 'Teléfono'],\n",
    "    'Ciudad': ['Madrid', 'Madrid', 'Barcelona', 'Valencia', 'Madrid', 'Barcelona', 'Barcelona'],\n",
    "    'Unidades': [55, 30, 60, 25, 40, 20, 70]\n",
    "}\n",
    "\n",
    "df = pd.DataFrame(data)\n",
    "print(\"DataFrame Original:\")\n",
    "display(df)\n",
    "print(\"\\n\")\n",
    "\n",
    "filtro_producto = df['Producto'] == 'Teléfono'\n",
    "filtro_ciudad = (df['Ciudad'] == 'Madrid') | (df['Ciudad'] == 'Barcelona')\n",
    "filtro_unidades = df['Unidades'] > 50\n",
    "\n",
    "ventas_filtradas = df[filtro_producto & filtro_ciudad & filtro_unidades]\n",
    "print(\"Ventas Filtradas:\")\n",
    "display(ventas_filtradas)"
   ]
  },
  {
   "cell_type": "markdown",
   "id": "ff7ba5d2",
   "metadata": {},
   "source": [
    "---\n",
    "**Ejercicio 3.** Se proporciona en el fichero \"experimento_plantas.csv\" que incluye los resultados de un experimento de crecimiento de plantas bajo distintos tipos de irradiación.\n",
    "\n",
    "    a) Lee el archivo \"experimento_plantas.csv\" en un dataframe.\n",
    "    b) Filtra las plantas que crecieron bajo luz solar y que tienen una altura mayor a 16 cm.\n",
    "    c) De las plantas filtradas, muestra solo las columnas \"Planta\" y \"Altura (cm)\".\n",
    "    d) Añade una nueva columna que incluya la tasa de crecimiento de las plantas llamada \"Tasa de Crecimiento (cm/día)\"."
   ]
  },
  {
   "cell_type": "code",
   "execution_count": 3,
   "id": "2600f460",
   "metadata": {},
   "outputs": [
    {
     "name": "stderr",
     "output_type": "stream",
     "text": [
      "<>:1: SyntaxWarning: invalid escape sequence '\\e'\n",
      "<>:1: SyntaxWarning: invalid escape sequence '\\e'\n",
      "C:\\Users\\JuanManuel.Miron\\AppData\\Local\\Temp\\ipykernel_16964\\2101201816.py:1: SyntaxWarning: invalid escape sequence '\\e'\n",
      "  df1 = pd.read_csv(\"data\\experimento_plantas.csv\")\n"
     ]
    },
    {
     "data": {
      "text/html": [
       "<div>\n",
       "<style scoped>\n",
       "    .dataframe tbody tr th:only-of-type {\n",
       "        vertical-align: middle;\n",
       "    }\n",
       "\n",
       "    .dataframe tbody tr th {\n",
       "        vertical-align: top;\n",
       "    }\n",
       "\n",
       "    .dataframe thead th {\n",
       "        text-align: right;\n",
       "    }\n",
       "</style>\n",
       "<table border=\"1\" class=\"dataframe\">\n",
       "  <thead>\n",
       "    <tr style=\"text-align: right;\">\n",
       "      <th></th>\n",
       "      <th>Planta</th>\n",
       "      <th>Tipo de Luz</th>\n",
       "      <th>Altura (cm)</th>\n",
       "      <th>Días de Crecimiento</th>\n",
       "    </tr>\n",
       "  </thead>\n",
       "  <tbody>\n",
       "    <tr>\n",
       "      <th>0</th>\n",
       "      <td>Planta A</td>\n",
       "      <td>Luz Solar</td>\n",
       "      <td>15</td>\n",
       "      <td>7</td>\n",
       "    </tr>\n",
       "    <tr>\n",
       "      <th>1</th>\n",
       "      <td>Planta B</td>\n",
       "      <td>Luz Artificial</td>\n",
       "      <td>20</td>\n",
       "      <td>7</td>\n",
       "    </tr>\n",
       "    <tr>\n",
       "      <th>2</th>\n",
       "      <td>Planta C</td>\n",
       "      <td>Luz Solar</td>\n",
       "      <td>18</td>\n",
       "      <td>7</td>\n",
       "    </tr>\n",
       "    <tr>\n",
       "      <th>3</th>\n",
       "      <td>Planta D</td>\n",
       "      <td>Oscuridad</td>\n",
       "      <td>5</td>\n",
       "      <td>7</td>\n",
       "    </tr>\n",
       "    <tr>\n",
       "      <th>4</th>\n",
       "      <td>Planta E</td>\n",
       "      <td>Luz Solar</td>\n",
       "      <td>17</td>\n",
       "      <td>7</td>\n",
       "    </tr>\n",
       "    <tr>\n",
       "      <th>5</th>\n",
       "      <td>Planta F</td>\n",
       "      <td>Luz Artificial</td>\n",
       "      <td>19</td>\n",
       "      <td>7</td>\n",
       "    </tr>\n",
       "    <tr>\n",
       "      <th>6</th>\n",
       "      <td>Planta G</td>\n",
       "      <td>Oscuridad</td>\n",
       "      <td>6</td>\n",
       "      <td>7</td>\n",
       "    </tr>\n",
       "  </tbody>\n",
       "</table>\n",
       "</div>"
      ],
      "text/plain": [
       "     Planta     Tipo de Luz  Altura (cm)  Días de Crecimiento\n",
       "0  Planta A       Luz Solar           15                    7\n",
       "1  Planta B  Luz Artificial           20                    7\n",
       "2  Planta C       Luz Solar           18                    7\n",
       "3  Planta D       Oscuridad            5                    7\n",
       "4  Planta E       Luz Solar           17                    7\n",
       "5  Planta F  Luz Artificial           19                    7\n",
       "6  Planta G       Oscuridad            6                    7"
      ]
     },
     "metadata": {},
     "output_type": "display_data"
    }
   ],
   "source": [
    "df1 = pd.read_csv(\"data\\experimento_plantas.csv\")\n",
    "display(df1)\n"
   ]
  },
  {
   "cell_type": "code",
   "execution_count": 42,
   "id": "e73afb70",
   "metadata": {},
   "outputs": [
    {
     "data": {
      "text/html": [
       "<div>\n",
       "<style scoped>\n",
       "    .dataframe tbody tr th:only-of-type {\n",
       "        vertical-align: middle;\n",
       "    }\n",
       "\n",
       "    .dataframe tbody tr th {\n",
       "        vertical-align: top;\n",
       "    }\n",
       "\n",
       "    .dataframe thead th {\n",
       "        text-align: right;\n",
       "    }\n",
       "</style>\n",
       "<table border=\"1\" class=\"dataframe\">\n",
       "  <thead>\n",
       "    <tr style=\"text-align: right;\">\n",
       "      <th></th>\n",
       "      <th>Planta</th>\n",
       "      <th>Tipo de Luz</th>\n",
       "      <th>Altura (cm)</th>\n",
       "      <th>Días de Crecimiento</th>\n",
       "    </tr>\n",
       "  </thead>\n",
       "  <tbody>\n",
       "    <tr>\n",
       "      <th>2</th>\n",
       "      <td>Planta C</td>\n",
       "      <td>Luz Solar</td>\n",
       "      <td>18</td>\n",
       "      <td>7</td>\n",
       "    </tr>\n",
       "    <tr>\n",
       "      <th>4</th>\n",
       "      <td>Planta E</td>\n",
       "      <td>Luz Solar</td>\n",
       "      <td>17</td>\n",
       "      <td>7</td>\n",
       "    </tr>\n",
       "  </tbody>\n",
       "</table>\n",
       "</div>"
      ],
      "text/plain": [
       "     Planta Tipo de Luz  Altura (cm)  Días de Crecimiento\n",
       "2  Planta C   Luz Solar           18                    7\n",
       "4  Planta E   Luz Solar           17                    7"
      ]
     },
     "metadata": {},
     "output_type": "display_data"
    }
   ],
   "source": [
    "mask1 = (df1['Tipo de Luz'] == 'Luz Solar') & (df1['Altura (cm)'] > 16)\n",
    "\n",
    "df2 = df1[mask1]\n",
    "\n",
    "display(df2)"
   ]
  },
  {
   "cell_type": "code",
   "execution_count": 50,
   "id": "0d3c411f",
   "metadata": {},
   "outputs": [
    {
     "data": {
      "text/html": [
       "<div>\n",
       "<style scoped>\n",
       "    .dataframe tbody tr th:only-of-type {\n",
       "        vertical-align: middle;\n",
       "    }\n",
       "\n",
       "    .dataframe tbody tr th {\n",
       "        vertical-align: top;\n",
       "    }\n",
       "\n",
       "    .dataframe thead th {\n",
       "        text-align: right;\n",
       "    }\n",
       "</style>\n",
       "<table border=\"1\" class=\"dataframe\">\n",
       "  <thead>\n",
       "    <tr style=\"text-align: right;\">\n",
       "      <th></th>\n",
       "      <th>Planta</th>\n",
       "      <th>Altura (cm)</th>\n",
       "    </tr>\n",
       "  </thead>\n",
       "  <tbody>\n",
       "    <tr>\n",
       "      <th>2</th>\n",
       "      <td>Planta C</td>\n",
       "      <td>18</td>\n",
       "    </tr>\n",
       "    <tr>\n",
       "      <th>4</th>\n",
       "      <td>Planta E</td>\n",
       "      <td>17</td>\n",
       "    </tr>\n",
       "  </tbody>\n",
       "</table>\n",
       "</div>"
      ],
      "text/plain": [
       "     Planta  Altura (cm)\n",
       "2  Planta C           18\n",
       "4  Planta E           17"
      ]
     },
     "metadata": {},
     "output_type": "display_data"
    }
   ],
   "source": [
    "df3 = df2[['Planta', 'Altura (cm)']]\n",
    "display(df3)"
   ]
  },
  {
   "cell_type": "code",
   "execution_count": 59,
   "id": "681a7808",
   "metadata": {},
   "outputs": [
    {
     "name": "stderr",
     "output_type": "stream",
     "text": [
      "C:\\Users\\JuanManuel.Miron\\AppData\\Local\\Temp\\ipykernel_17080\\2561311323.py:1: SettingWithCopyWarning: \n",
      "A value is trying to be set on a copy of a slice from a DataFrame.\n",
      "Try using .loc[row_indexer,col_indexer] = value instead\n",
      "\n",
      "See the caveats in the documentation: https://pandas.pydata.org/pandas-docs/stable/user_guide/indexing.html#returning-a-view-versus-a-copy\n",
      "  df3['Tasa de Crecimiento (cm/día)'] = df2['Altura (cm)']/df2['Días de Crecimiento']\n"
     ]
    },
    {
     "data": {
      "text/html": [
       "<div>\n",
       "<style scoped>\n",
       "    .dataframe tbody tr th:only-of-type {\n",
       "        vertical-align: middle;\n",
       "    }\n",
       "\n",
       "    .dataframe tbody tr th {\n",
       "        vertical-align: top;\n",
       "    }\n",
       "\n",
       "    .dataframe thead th {\n",
       "        text-align: right;\n",
       "    }\n",
       "</style>\n",
       "<table border=\"1\" class=\"dataframe\">\n",
       "  <thead>\n",
       "    <tr style=\"text-align: right;\">\n",
       "      <th></th>\n",
       "      <th>Planta</th>\n",
       "      <th>Altura (cm)</th>\n",
       "      <th>Tasa de Crecimiento (cm/día)</th>\n",
       "    </tr>\n",
       "  </thead>\n",
       "  <tbody>\n",
       "    <tr>\n",
       "      <th>2</th>\n",
       "      <td>Planta C</td>\n",
       "      <td>18</td>\n",
       "      <td>2.571429</td>\n",
       "    </tr>\n",
       "    <tr>\n",
       "      <th>4</th>\n",
       "      <td>Planta E</td>\n",
       "      <td>17</td>\n",
       "      <td>2.428571</td>\n",
       "    </tr>\n",
       "  </tbody>\n",
       "</table>\n",
       "</div>"
      ],
      "text/plain": [
       "     Planta  Altura (cm)  Tasa de Crecimiento (cm/día)\n",
       "2  Planta C           18                      2.571429\n",
       "4  Planta E           17                      2.428571"
      ]
     },
     "metadata": {},
     "output_type": "display_data"
    }
   ],
   "source": [
    "df3['Tasa de Crecimiento (cm/día)'] = df2['Altura (cm)']/df2['Días de Crecimiento']\n",
    "\n",
    "display(df3)"
   ]
  },
  {
   "cell_type": "markdown",
   "id": "6aab562d",
   "metadata": {},
   "source": [
    "### Combinación de dataframes"
   ]
  },
  {
   "cell_type": "markdown",
   "id": "565d7cd2",
   "metadata": {},
   "source": [
    "En muchas ocasiones, es preciso combinar, concatenar o realizar operaciones entre varios dataframes. La librería pandas proporciona diversas herramientas para estas tareas.\n",
    "\n",
    "La primera opción de combinación de dataframes es la suma, `+`. Esta operación únicamente suma los elementos del dataframe que tienen igual etiqueta de índice y de columna."
   ]
  },
  {
   "cell_type": "code",
   "execution_count": 60,
   "id": "38368f50",
   "metadata": {},
   "outputs": [
    {
     "data": {
      "text/html": [
       "<div>\n",
       "<style scoped>\n",
       "    .dataframe tbody tr th:only-of-type {\n",
       "        vertical-align: middle;\n",
       "    }\n",
       "\n",
       "    .dataframe tbody tr th {\n",
       "        vertical-align: top;\n",
       "    }\n",
       "\n",
       "    .dataframe thead th {\n",
       "        text-align: right;\n",
       "    }\n",
       "</style>\n",
       "<table border=\"1\" class=\"dataframe\">\n",
       "  <thead>\n",
       "    <tr style=\"text-align: right;\">\n",
       "      <th></th>\n",
       "      <th>A</th>\n",
       "      <th>B</th>\n",
       "    </tr>\n",
       "  </thead>\n",
       "  <tbody>\n",
       "    <tr>\n",
       "      <th>a</th>\n",
       "      <td>8</td>\n",
       "      <td>14</td>\n",
       "    </tr>\n",
       "    <tr>\n",
       "      <th>b</th>\n",
       "      <td>10</td>\n",
       "      <td>16</td>\n",
       "    </tr>\n",
       "    <tr>\n",
       "      <th>c</th>\n",
       "      <td>12</td>\n",
       "      <td>18</td>\n",
       "    </tr>\n",
       "  </tbody>\n",
       "</table>\n",
       "</div>"
      ],
      "text/plain": [
       "    A   B\n",
       "a   8  14\n",
       "b  10  16\n",
       "c  12  18"
      ]
     },
     "metadata": {},
     "output_type": "display_data"
    },
    {
     "data": {
      "text/html": [
       "<div>\n",
       "<style scoped>\n",
       "    .dataframe tbody tr th:only-of-type {\n",
       "        vertical-align: middle;\n",
       "    }\n",
       "\n",
       "    .dataframe tbody tr th {\n",
       "        vertical-align: top;\n",
       "    }\n",
       "\n",
       "    .dataframe thead th {\n",
       "        text-align: right;\n",
       "    }\n",
       "</style>\n",
       "<table border=\"1\" class=\"dataframe\">\n",
       "  <thead>\n",
       "    <tr style=\"text-align: right;\">\n",
       "      <th></th>\n",
       "      <th>A</th>\n",
       "      <th>B</th>\n",
       "      <th>C</th>\n",
       "    </tr>\n",
       "  </thead>\n",
       "  <tbody>\n",
       "    <tr>\n",
       "      <th>a</th>\n",
       "      <td>8.0</td>\n",
       "      <td>NaN</td>\n",
       "      <td>NaN</td>\n",
       "    </tr>\n",
       "    <tr>\n",
       "      <th>b</th>\n",
       "      <td>10.0</td>\n",
       "      <td>NaN</td>\n",
       "      <td>NaN</td>\n",
       "    </tr>\n",
       "    <tr>\n",
       "      <th>c</th>\n",
       "      <td>NaN</td>\n",
       "      <td>NaN</td>\n",
       "      <td>NaN</td>\n",
       "    </tr>\n",
       "    <tr>\n",
       "      <th>d</th>\n",
       "      <td>NaN</td>\n",
       "      <td>NaN</td>\n",
       "      <td>NaN</td>\n",
       "    </tr>\n",
       "  </tbody>\n",
       "</table>\n",
       "</div>"
      ],
      "text/plain": [
       "      A   B   C\n",
       "a   8.0 NaN NaN\n",
       "b  10.0 NaN NaN\n",
       "c   NaN NaN NaN\n",
       "d   NaN NaN NaN"
      ]
     },
     "metadata": {},
     "output_type": "display_data"
    }
   ],
   "source": [
    "df1 = pd.DataFrame({'A': [1, 2, 3],\n",
    "                    'B': [4, 5, 6]}, index=['a', 'b', 'c'])\n",
    "df2 = pd.DataFrame({'A': [7, 8, 9],\n",
    "                    'B': [10, 11, 12]}, index=['a', 'b', 'c'])\n",
    "df3 = pd.DataFrame({'A': [7, 8, 9],\n",
    "                    'C': [10, 11, 12]}, index=['a', 'b', 'd'])\n",
    "\n",
    "# Suma de DataFrames\n",
    "result1 = df1 + df2  # Todos los términos se mezclan convenientemente\n",
    "display(result1)\n",
    "\n",
    "result2 = df1 + df3  # Solo se juntan los elementos comunes (Columna A y filas a y b)\n",
    "display(result2)"
   ]
  },
  {
   "cell_type": "markdown",
   "id": "36982966",
   "metadata": {},
   "source": [
    "Otra opción de combinación es la concatenación, que se lleva a cabo mediante la función `concat()`. Esta función anexa los dataframes indicados de forma vertical u horizontal, dependiendo si el argumento opcional `axis` es igual a 0 (por defecto) o 1. La sintaxis es:\n",
    "```\n",
    "pd.concat([<dataframe1>, <dataframe2>, ...], axis=<axis>)\n",
    "```"
   ]
  },
  {
   "cell_type": "code",
   "execution_count": 61,
   "id": "ab584280",
   "metadata": {},
   "outputs": [
    {
     "ename": "NameError",
     "evalue": "name 'result1_axis0' is not defined",
     "output_type": "error",
     "traceback": [
      "\u001b[1;31m---------------------------------------------------------------------------\u001b[0m",
      "\u001b[1;31mNameError\u001b[0m                                 Traceback (most recent call last)",
      "Cell \u001b[1;32mIn[61], line 10\u001b[0m\n\u001b[0;32m      8\u001b[0m \u001b[38;5;66;03m# Concatenar verticalmente\u001b[39;00m\n\u001b[0;32m      9\u001b[0m result1 \u001b[38;5;241m=\u001b[39m pd\u001b[38;5;241m.\u001b[39mconcat([df1, df2])  \u001b[38;5;66;03m# Se agrupa el contenido bajo la misma etiqueta de columna (si coincide), pero no de fila\u001b[39;00m\n\u001b[1;32m---> 10\u001b[0m display(\u001b[43mresult1_axis0\u001b[49m)\n\u001b[0;32m     11\u001b[0m result2 \u001b[38;5;241m=\u001b[39m pd\u001b[38;5;241m.\u001b[39mconcat([df1, df3])  \u001b[38;5;66;03m# Hay tres columnas A, B y C, ya que no es posible concatenar en dos columnas\u001b[39;00m\n\u001b[0;32m     12\u001b[0m display(result2_axis0)\n",
      "\u001b[1;31mNameError\u001b[0m: name 'result1_axis0' is not defined"
     ]
    }
   ],
   "source": [
    "df1 = pd.DataFrame({'A': [1, 2, 3],\n",
    "                    'B': [4, 5, 6]}, index=['a', 'b', 'c'])\n",
    "df2 = pd.DataFrame({'A': [7, 8, 9],\n",
    "                    'B': [10, 11, 12]}, index=['a', 'b', 'c'])\n",
    "df3 = pd.DataFrame({'A': [7, 8, 9],\n",
    "                    'C': [10, 11, 12]}, index=['a', 'b', 'd'])\n",
    "\n",
    "# Concatenar verticalmente\n",
    "result1 = pd.concat([df1, df2])  # Se agrupa el contenido bajo la misma etiqueta de columna (si coincide), pero no de fila\n",
    "display(result1_axis0)\n",
    "result2 = pd.concat([df1, df3])  # Hay tres columnas A, B y C, ya que no es posible concatenar en dos columnas\n",
    "display(result2_axis0)\n",
    "\n",
    "# Concatenar horizontalmente\n",
    "result1 = pd.concat([df1, df2], axis=1)  # Se mantienen los índices, pero no los encabezados de columna que se repiten\n",
    "display(result1_axis1)"
   ]
  },
  {
   "cell_type": "markdown",
   "id": "dd0ba8b6",
   "metadata": {},
   "source": [
    "Una tercera opción de combinación es la función `merge()`. A diferencia de las anteriores, esta función combina solo los dataframes que tengan valores comunes en una columna común especificada. Esta función toma como argumentos dos dataframes y el argumento opcional `on`. La sintaxis es:\n",
    "```\n",
    "pd.merge(<dataframe1>, <dataframe2>, on=<columna>)\n",
    "```"
   ]
  },
  {
   "cell_type": "code",
   "execution_count": null,
   "id": "e2fc2f78",
   "metadata": {},
   "outputs": [],
   "source": [
    "df1 = pd.DataFrame({'A': [1, 2, 3, 4],\n",
    "                    'B': [11, 12, 13, 14]}, index=['a', 'b', 'c', 'd'])\n",
    "df2 = pd.DataFrame({'A': [1, 2, 3, 4],\n",
    "                    'B': [21, 22, 23, 24]}, index=['a', 'b', 'c', 'd'])\n",
    "df3 = pd.DataFrame({'A': [1, 2, 7, 8],\n",
    "                    'C': [31, 32, 33, 34]}, index=['a', 'b', 'c', 'e'])\n",
    "\n",
    "# Combinar basado en la columna 'A' (los índices son irrelevantes)\n",
    "result1 = pd.merge(df1, df2, on='A')  # Como los valores de la columna 'A' son comunes, la columna B_x y B_y son las columnas B de df1 y df2\n",
    "display(result1)\n",
    "result2 = pd.merge(df1, df3, on='A')  # Solo los valores 1 y 2 de la columna 'A' son comunes, luego solo se combinan sus filas.\n",
    "display(result2)"
   ]
  },
  {
   "cell_type": "markdown",
   "id": "7aba6d6e",
   "metadata": {},
   "source": [
    "Finalmente, la opción de combinación `join()` anexiona a un dataframe existente el contenido de otro dataframe para aquellos índices que sean comunes. Esta función requiere también que las columnas sean diferentes. Siendo una propiedad de los dataframes, la sintaxis es\n",
    "```\n",
    "<dataframe1>.join(<dataframe2>)\n",
    "```\n",
    "Cabe notar que, en este caso, el resultado depende de qué dataframe anexiones a qué otro. "
   ]
  },
  {
   "cell_type": "code",
   "execution_count": null,
   "id": "4c33058a",
   "metadata": {},
   "outputs": [],
   "source": [
    "df1 = pd.DataFrame({'A': [1, 2, 3, 4],\n",
    "                    'B': [11, 12, 13, 14]}, index=['a', 'b', 'c', 'd'])\n",
    "df2 = pd.DataFrame({'C': [101, 102, 103, 104],\n",
    "                    'D': [1001, 1002, 1003, 1004]}, index=['a', 'b', 'e', 'f'])\n",
    "\n",
    "# Hacer un join basado en el índice\n",
    "result1 = df1.join(df2)  # Al primer dataframe, se le añaden las columnas C y D del segundo, pero solo aquellos elementos con índices comunes\n",
    "display(result1)\n",
    "result2 = df2.join(df1)  # El resultado al invertir el orden de los dataframes es diferente.\n",
    "display(result2)"
   ]
  },
  {
   "cell_type": "markdown",
   "id": "b8704bc0",
   "metadata": {},
   "source": [
    "---\n",
    "**Ejercicio 4.** En los archivos CSV \"ventas_enero.csv\" y \"ventas_febrero.csv\" se encuentran las ventas de los meses de enero y febrero en una frutería (tienen las mismas columnas). Combina de manera adecuada ambos dataframes para que, manteniendo las columnas, se visualicen todas las ventas de los dos meses."
   ]
  },
  {
   "cell_type": "markdown",
   "id": "80e2e4b9",
   "metadata": {},
   "source": [
    "---\n",
    "**Ejercicio 5.** Se proporcionan tres archivos CSV:\n",
    "\n",
    "- \"clientes.csv\" con las columnas ID_Cliente, Nombre y Correo.\n",
    "- \"pedidos.csv\" con las columnas ID_Cliente, Producto y Cantidad.\n",
    "- \"precios.csv\" con las columnas Producto y Precio.\n",
    "\n",
    "Combina la información de los tres archivos para obtener un único dataframe que contenga la información del cliente, los productos que ha comprado, la cantidad, el precio unitario de cada producto, así como el costo total del pedido por producto.\n",
    "Finalmente, calcula el gasto total de cada cliente."
   ]
  },
  {
   "cell_type": "markdown",
   "id": "38e1c775",
   "metadata": {},
   "source": []
  }
 ],
 "metadata": {
  "kernelspec": {
   "display_name": "bigDataScience",
   "language": "python",
   "name": "python3"
  },
  "language_info": {
   "codemirror_mode": {
    "name": "ipython",
    "version": 3
   },
   "file_extension": ".py",
   "mimetype": "text/x-python",
   "name": "python",
   "nbconvert_exporter": "python",
   "pygments_lexer": "ipython3",
   "version": "3.12.7"
  }
 },
 "nbformat": 4,
 "nbformat_minor": 5
}
