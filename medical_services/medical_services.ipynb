{
 "cells": [
  {
   "cell_type": "markdown",
   "metadata": {
    "application/vnd.databricks.v1+cell": {
     "cellMetadata": {},
     "inputWidgets": {},
     "nuid": "439e8880-f1f8-4bb4-bb3d-668ba94ac67e",
     "showTitle": false,
     "tableResultSettingsMap": {},
     "title": ""
    }
   },
   "source": [
    "Práctica (BigData ETls, Processing)\n",
    "\n",
    "Asignatura: Data Science and Big Data\n",
    "Máster en Intelicencia Artificial\n",
    "Prof. Ronal Muresano\n",
    "\n",
    "Notas generales: La práctica está compuesta por un conjunto de datos a los cuales se les debe hacer un conjunto de operaciones en Spark. Este ejercicio se debe documentar, explicando paso a paso cada una de las operaciones realizadas\n"
   ]
  },
  {
   "cell_type": "markdown",
   "metadata": {
    "application/vnd.databricks.v1+cell": {
     "cellMetadata": {},
     "inputWidgets": {},
     "nuid": "34774a3b-504c-4fb8-985a-01a34608e1da",
     "showTitle": false,
     "tableResultSettingsMap": {},
     "title": ""
    }
   },
   "source": [
    "Enunciado: \n",
    "\n",
    "Se tiene el siguiente dataset que mide el uso del servicio médico en Estados Unidos.\n",
    "\n",
    "Las transformaciones que debe realizar en spark Sql son las siguientes\n"
   ]
  },
  {
   "cell_type": "markdown",
   "metadata": {
    "application/vnd.databricks.v1+cell": {
     "cellMetadata": {},
     "inputWidgets": {},
     "nuid": "e8904313-d0a0-41cd-8988-f7ca00c27bd2",
     "showTitle": false,
     "tableResultSettingsMap": {},
     "title": ""
    }
   },
   "source": [
    "1) Leer el fichero desde Spark utilizando un schema predefinido."
   ]
  },
  {
   "cell_type": "code",
   "execution_count": 0,
   "metadata": {
    "application/vnd.databricks.v1+cell": {
     "cellMetadata": {},
     "inputWidgets": {},
     "nuid": "b0106d92-dbe2-49ea-b9d8-f52962c21ebd",
     "showTitle": false,
     "tableResultSettingsMap": {},
     "title": ""
    }
   },
   "outputs": [],
   "source": [
    "Importo todas las librerias que voy a usar"
   ]
  },
  {
   "cell_type": "code",
   "execution_count": 0,
   "metadata": {
    "application/vnd.databricks.v1+cell": {
     "cellMetadata": {
      "byteLimit": 2048000,
      "rowLimit": 10000
     },
     "inputWidgets": {},
     "nuid": "6e6ba195-512a-4770-ba13-36307b28fdea",
     "showTitle": false,
     "tableResultSettingsMap": {},
     "title": ""
    }
   },
   "outputs": [],
   "source": [
    "import pyspark.sql.functions as f \n",
    "from pyspark.sql.functions import col, sum\n",
    "from pyspark.sql.types import IntegerType, DoubleType, StringType, BooleanType, ArrayType, NumericType, StructType, StructField\n"
   ]
  },
  {
   "cell_type": "code",
   "execution_count": 0,
   "metadata": {
    "application/vnd.databricks.v1+cell": {
     "cellMetadata": {},
     "inputWidgets": {},
     "nuid": "d0bcf084-cdf7-4808-8a4a-20aa0fbe2112",
     "showTitle": false,
     "tableResultSettingsMap": {},
     "title": ""
    }
   },
   "outputs": [],
   "source": [
    "Creo el esquema de data frame y cargo el dataset del fichero"
   ]
  },
  {
   "cell_type": "code",
   "execution_count": 0,
   "metadata": {
    "application/vnd.databricks.v1+cell": {
     "cellMetadata": {
      "byteLimit": 2048000,
      "rowLimit": 10000
     },
     "inputWidgets": {},
     "nuid": "a0668a65-4fe7-4003-b5e4-f6ba1e5babd8",
     "showTitle": false,
     "tableResultSettingsMap": {},
     "title": ""
    }
   },
   "outputs": [],
   "source": [
    "file_path = \"/FileStore/dataset2.csv\"\n",
    "\n",
    "schema = StructType([\n",
    "    StructField('visits',IntegerType(), True ),\n",
    "    StructField('nvisits',IntegerType(), True ),\n",
    "    StructField('ovisits',IntegerType(), True ),\n",
    "    StructField('novisits',IntegerType(), True ),\n",
    "    StructField('emergency',IntegerType(), True ),\n",
    "    StructField('hospital',IntegerType(), True ),\n",
    "    StructField('health',StringType(), True ),\n",
    "    StructField('chronic',IntegerType(), True ),\n",
    "    StructField('adl',StringType(), True ),\n",
    "    StructField('region',StringType(), True ),\n",
    "    StructField('age',DoubleType(), True ),\n",
    "    StructField('afam',StringType(), True ),\n",
    "    StructField('gender',StringType(), True ),\n",
    "    StructField('married',StringType(), True ),\n",
    "    StructField('school',IntegerType(), True ),\n",
    "    StructField('income',DoubleType(), True ),\n",
    "    StructField('employed',StringType(), True ),\n",
    "    StructField('insurance',StringType(), True ),\n",
    "    StructField('medicaid',StringType(), True ),\n",
    "])\n",
    "dataFrame = spark.read.csv(file_path, header=True, schema = schema)"
   ]
  },
  {
   "cell_type": "code",
   "execution_count": 0,
   "metadata": {
    "application/vnd.databricks.v1+cell": {
     "cellMetadata": {
      "byteLimit": 2048000,
      "rowLimit": 10000
     },
     "inputWidgets": {},
     "nuid": "a79f35b1-0d02-40ea-bf78-ac144326d78b",
     "showTitle": false,
     "tableResultSettingsMap": {},
     "title": ""
    }
   },
   "outputs": [
    {
     "output_type": "stream",
     "name": "stdout",
     "output_type": "stream",
     "text": [
      "+------+-------+-------+--------+---------+--------+-------+-------+-------+-------+----+----+------+-------+------+------+--------+---------+--------+\n|visits|nvisits|ovisits|novisits|emergency|hospital| health|chronic|    adl| region| age|afam|gender|married|school|income|employed|insurance|medicaid|\n+------+-------+-------+--------+---------+--------+-------+-------+-------+-------+----+----+------+-------+------+------+--------+---------+--------+\n|     5|      0|      0|       0|        0|       1|average|      2| normal|  other| 6.9| yes|  male|    yes|     6| 2.881|     yes|      yes|      no|\n|     1|      0|      2|       0|        2|       0|average|   null| normal|  other| 7.4|  no|female|    yes|    10|2.7478|      no|      yes|      no|\n|    13|      0|      0|       0|        3|       3|   poor|      4|   null|  other|null| yes|female|     no|    10|0.6532|      no|       no|     yes|\n|    16|      0|      5|       0|        1|       1|   poor|      2|limited|  other| 7.6|  no|  male|    yes|     3|0.6588|      no|      yes|      no|\n|     3|      0|      0|       0|        0|       0|average|      2|limited|  other| 7.9|  no|female|    yes|     6|0.6588|      no|      yes|      no|\n|    17|      0|      0|       0|        0|       0|   poor|      5|limited|  other| 6.6|  no|female|     no|     7|0.3301|      no|       no|     yes|\n|     9|      0|      0|       0|        0|       0|average|      0| normal|midwest|null|  no|female|     no|     8| 0.828|      no|      yes|      no|\n|     3|      0|      0|       0|        0|       0|average|      0| normal|midwest| 8.7|  no|female|     no|     8|3.0456|      no|      yes|      no|\n|     1|      0|      0|       0|        0|       0|average|      0| normal|midwest| 7.3|  no|female|     no|     8|3.0456|      no|      yes|      no|\n|     0|      0|      0|       0|        0|       0|average|      0| normal|   null| 7.8|  no|female|     no|     8|3.0456|      no|      yes|      no|\n+------+-------+-------+--------+---------+--------+-------+-------+-------+-------+----+----+------+-------+------+------+--------+---------+--------+\nonly showing top 10 rows\n\n"
     ]
    }
   ],
   "source": [
    "dataFrame.show(10)"
   ]
  },
  {
   "cell_type": "code",
   "execution_count": 0,
   "metadata": {
    "application/vnd.databricks.v1+cell": {
     "cellMetadata": {
      "byteLimit": 2048000,
      "rowLimit": 10000
     },
     "inputWidgets": {},
     "nuid": "fea691ce-b482-46bd-bf08-afd8b8e88cf4",
     "showTitle": false,
     "tableResultSettingsMap": {},
     "title": ""
    }
   },
   "outputs": [
    {
     "output_type": "stream",
     "name": "stdout",
     "output_type": "stream",
     "text": [
      "root\n |-- visits: integer (nullable = true)\n |-- nvisits: integer (nullable = true)\n |-- ovisits: integer (nullable = true)\n |-- novisits: integer (nullable = true)\n |-- emergency: integer (nullable = true)\n |-- hospital: integer (nullable = true)\n |-- health: string (nullable = true)\n |-- chronic: integer (nullable = true)\n |-- adl: string (nullable = true)\n |-- region: string (nullable = true)\n |-- age: double (nullable = true)\n |-- afam: string (nullable = true)\n |-- gender: string (nullable = true)\n |-- married: string (nullable = true)\n |-- school: integer (nullable = true)\n |-- income: double (nullable = true)\n |-- employed: string (nullable = true)\n |-- insurance: string (nullable = true)\n |-- medicaid: string (nullable = true)\n\n"
     ]
    }
   ],
   "source": [
    "dataFrame.printSchema()"
   ]
  },
  {
   "cell_type": "code",
   "execution_count": 0,
   "metadata": {
    "application/vnd.databricks.v1+cell": {
     "cellMetadata": {},
     "inputWidgets": {},
     "nuid": "8f6e599b-9d24-4eb7-82ef-223a490218bd",
     "showTitle": false,
     "tableResultSettingsMap": {},
     "title": ""
    }
   },
   "outputs": [],
   "source": [
    "Cuanto los nulls que hay para despues verificar\n",
    "Como no habia null en el dataset lo modifique y agregue algunos a mano ya que o sino no voy  apoder saber si mi relleno de nulls funciona"
   ]
  },
  {
   "cell_type": "code",
   "execution_count": 0,
   "metadata": {
    "application/vnd.databricks.v1+cell": {
     "cellMetadata": {
      "byteLimit": 2048000,
      "rowLimit": 10000
     },
     "inputWidgets": {},
     "nuid": "426fc80f-4a00-46c9-95be-e52595e85e51",
     "showTitle": false,
     "tableResultSettingsMap": {},
     "title": ""
    }
   },
   "outputs": [
    {
     "output_type": "stream",
     "name": "stdout",
     "output_type": "stream",
     "text": [
      "+------+-------+-------+--------+---------+--------+------+-------+---+------+---+----+------+-------+------+------+--------+---------+--------+\n|visits|nvisits|ovisits|novisits|emergency|hospital|health|chronic|adl|region|age|afam|gender|married|school|income|employed|insurance|medicaid|\n+------+-------+-------+--------+---------+--------+------+-------+---+------+---+----+------+-------+------+------+--------+---------+--------+\n|     1|      0|      0|       0|        0|       0|     0|      2|  1|     1|  2|   0|     0|      0|     0|     0|       0|        0|       0|\n+------+-------+-------+--------+---------+--------+------+-------+---+------+---+----+------+-------+------+------+--------+---------+--------+\n\n"
     ]
    }
   ],
   "source": [
    "\n",
    "null_counts = dataFrame.select([sum(col(c).isNull().cast(\"int\")).alias(c) for c in dataFrame.columns])\n",
    "null_counts.show()\n"
   ]
  },
  {
   "cell_type": "markdown",
   "metadata": {
    "application/vnd.databricks.v1+cell": {
     "cellMetadata": {},
     "inputWidgets": {},
     "nuid": "b53f2a94-ef16-4d21-b246-0b6c27bd2d5e",
     "showTitle": false,
     "tableResultSettingsMap": {},
     "title": ""
    }
   },
   "source": [
    "2)\tRellenar los valores faltantes con 0 en las columnas numérica y “others” en las columnas categóricas"
   ]
  },
  {
   "cell_type": "code",
   "execution_count": 0,
   "metadata": {
    "application/vnd.databricks.v1+cell": {
     "cellMetadata": {
      "byteLimit": 2048000,
      "rowLimit": 10000
     },
     "inputWidgets": {},
     "nuid": "0e3cc98b-6f4a-44d8-bd71-cbc12e6c2d29",
     "showTitle": false,
     "tableResultSettingsMap": {},
     "title": ""
    }
   },
   "outputs": [
    {
     "output_type": "stream",
     "name": "stdout",
     "output_type": "stream",
     "text": [
      "<class 'list'>\nOut[36]: [('visits', 'int'),\n ('nvisits', 'int'),\n ('ovisits', 'int'),\n ('novisits', 'int'),\n ('emergency', 'int'),\n ('hospital', 'int'),\n ('health', 'string'),\n ('chronic', 'int'),\n ('adl', 'string'),\n ('region', 'string'),\n ('age', 'double'),\n ('afam', 'string'),\n ('gender', 'string'),\n ('married', 'string'),\n ('school', 'int'),\n ('income', 'double'),\n ('employed', 'string'),\n ('insurance', 'string'),\n ('medicaid', 'string')]"
     ]
    }
   ],
   "source": [
    "dataFrame_cols = dataFrame.dtypes\n",
    "dataFrame_cols"
   ]
  },
  {
   "cell_type": "code",
   "execution_count": 0,
   "metadata": {
    "application/vnd.databricks.v1+cell": {
     "cellMetadata": {},
     "inputWidgets": {},
     "nuid": "70532857-6c69-42bb-9985-989b03bb14b1",
     "showTitle": false,
     "tableResultSettingsMap": {},
     "title": ""
    }
   },
   "outputs": [],
   "source": [
    "Creo una lista con todos los tipos de las columnas para despues poder identificar si es numerica o no numerica en el if\n",
    "Recorro todas las columnas y voy comparando con los tipos de columna, asi identifico si es numerica, si es numerica guar un 0 y si no \"others\""
   ]
  },
  {
   "cell_type": "code",
   "execution_count": 0,
   "metadata": {
    "application/vnd.databricks.v1+cell": {
     "cellMetadata": {
      "byteLimit": 2048000,
      "rowLimit": 10000
     },
     "inputWidgets": {},
     "nuid": "7509e83a-b463-401d-b055-17ec38d54947",
     "showTitle": false,
     "tableResultSettingsMap": {},
     "title": ""
    }
   },
   "outputs": [
    {
     "output_type": "stream",
     "name": "stdout",
     "output_type": "stream",
     "text": [
      "Out[26]: {'visits': 0,\n 'nvisits': 0,\n 'ovisits': 0,\n 'novisits': 0,\n 'emergency': 0,\n 'hospital': 0,\n 'health': 'others',\n 'chronic': 0,\n 'adl': 'others',\n 'region': 'others',\n 'age': 0,\n 'afam': 'others',\n 'gender': 'others',\n 'married': 'others',\n 'school': 0,\n 'income': 0,\n 'employed': 'others',\n 'insurance': 'others',\n 'medicaid': 'others'}"
     ]
    }
   ],
   "source": [
    "values = {}\n",
    "\n",
    "for col, col_type in dataFrame_cols:\n",
    "    if col_type in ['int', 'double']:\n",
    "        values[col] = 0\n",
    "    else:\n",
    "        values[col] = 'others'\n",
    "\n",
    "values\n"
   ]
  },
  {
   "cell_type": "code",
   "execution_count": 0,
   "metadata": {
    "application/vnd.databricks.v1+cell": {
     "cellMetadata": {},
     "inputWidgets": {},
     "nuid": "7e9940fa-ae82-4cda-ad18-4371941687dd",
     "showTitle": false,
     "tableResultSettingsMap": {},
     "title": ""
    }
   },
   "outputs": [],
   "source": [
    "uso fillna con el dictionario indicandole en que columna debe usar 0 y en cual \"others\""
   ]
  },
  {
   "cell_type": "code",
   "execution_count": 0,
   "metadata": {
    "application/vnd.databricks.v1+cell": {
     "cellMetadata": {
      "byteLimit": 2048000,
      "rowLimit": 10000
     },
     "inputWidgets": {},
     "nuid": "efdca043-2f2d-4eb9-afc2-e0f19ee6d808",
     "showTitle": false,
     "tableResultSettingsMap": {},
     "title": ""
    }
   },
   "outputs": [
    {
     "output_type": "stream",
     "name": "stdout",
     "output_type": "stream",
     "text": [
      "+------+-------+-------+--------+---------+--------+-------+-------+-------+-------+---+----+------+-------+------+--------+--------+---------+--------+\n|visits|nvisits|ovisits|novisits|emergency|hospital| health|chronic|    adl| region|age|afam|gender|married|school|  income|employed|insurance|medicaid|\n+------+-------+-------+--------+---------+--------+-------+-------+-------+-------+---+----+------+-------+------+--------+--------+---------+--------+\n|     5|      0|      0|       0|        0|       1|average|      2| normal|  other|6.9| yes|  male|    yes|     6|   2.881|     yes|      yes|      no|\n|     1|      0|      2|       0|        2|       0|average|      0| normal|  other|7.4|  no|female|    yes|    10|  2.7478|      no|      yes|      no|\n|    13|      0|      0|       0|        3|       3|   poor|      4| others|  other|0.0| yes|female|     no|    10|  0.6532|      no|       no|     yes|\n|    16|      0|      5|       0|        1|       1|   poor|      2|limited|  other|7.6|  no|  male|    yes|     3|  0.6588|      no|      yes|      no|\n|     3|      0|      0|       0|        0|       0|average|      2|limited|  other|7.9|  no|female|    yes|     6|  0.6588|      no|      yes|      no|\n|    17|      0|      0|       0|        0|       0|   poor|      5|limited|  other|6.6|  no|female|     no|     7|  0.3301|      no|       no|     yes|\n|     9|      0|      0|       0|        0|       0|average|      0| normal|midwest|0.0|  no|female|     no|     8|   0.828|      no|      yes|      no|\n|     3|      0|      0|       0|        0|       0|average|      0| normal|midwest|8.7|  no|female|     no|     8|  3.0456|      no|      yes|      no|\n|     1|      0|      0|       0|        0|       0|average|      0| normal|midwest|7.3|  no|female|     no|     8|  3.0456|      no|      yes|      no|\n|     0|      0|      0|       0|        0|       0|average|      0| normal| others|7.8|  no|female|     no|     8|  3.0456|      no|      yes|      no|\n|     0|      0|      0|       0|        0|       0|average|      1| normal|midwest|6.6|  no|  male|    yes|     8|  2.9498|     yes|      yes|      no|\n|    44|      5|      2|       0|        0|       1|average|      5|limited|midwest|6.9|  no|female|    yes|    15|  2.9498|      no|      yes|      no|\n|     2|      0|      0|       0|        0|       0|average|      1|limited|midwest|8.4|  no|female|     no|     8|  0.8988|      no|       no|      no|\n|     1|      0|      0|       0|        0|       0|   poor|      1|limited|midwest|8.1|  no|female|     no|     8|  0.8988|      no|       no|     yes|\n|     0|      0|      1|       2|        0|       1|average|      0| normal|midwest|7.8|  no|female|     no|    12|  6.0654|      no|      yes|      no|\n|    19|      0|      0|       0|        0|       0|average|      0| normal|midwest|7.6|  no|female|     no|     8|  0.6004|      no|       no|      no|\n|     0|      0|      0|       0|        0|       0|average|      1|limited|midwest|8.3|  no|  male|    yes|     8|  0.5988|      no|       no|     yes|\n|     3|      9|      1|       0|        0|       0|average|      2|limited|midwest|8.0|  no|female|    yes|     8|  0.5988|      no|       no|     yes|\n|     2|      0|      0|       0|        0|       0|average|      3| normal|midwest|7.3| yes|  male|    yes|    10|   1.266|      no|       no|      no|\n|    12|      0|      2|       0|        0|       0|average|      4| normal|midwest|7.4|  no|  male|     no|    12|1.906011|      no|      yes|      no|\n+------+-------+-------+--------+---------+--------+-------+-------+-------+-------+---+----+------+-------+------+--------+--------+---------+--------+\nonly showing top 20 rows\n\n"
     ]
    }
   ],
   "source": [
    "dataFrame_filled = dataFrame.fillna(values)\n",
    "dataFrame_filled.show(20)"
   ]
  },
  {
   "cell_type": "code",
   "execution_count": 0,
   "metadata": {
    "application/vnd.databricks.v1+cell": {
     "cellMetadata": {},
     "inputWidgets": {},
     "nuid": "49443cc9-1908-4345-8bad-c5b4a0125828",
     "showTitle": false,
     "tableResultSettingsMap": {},
     "title": ""
    }
   },
   "outputs": [],
   "source": [
    "Cuento los nulls en el dataframe filled para comprobar que no hay nulls"
   ]
  },
  {
   "cell_type": "code",
   "execution_count": 0,
   "metadata": {
    "application/vnd.databricks.v1+cell": {
     "cellMetadata": {
      "byteLimit": 2048000,
      "rowLimit": 10000
     },
     "inputWidgets": {},
     "nuid": "dd64a7b8-63af-44f2-8ceb-3c8d5c1f0381",
     "showTitle": false,
     "tableResultSettingsMap": {},
     "title": ""
    }
   },
   "outputs": [
    {
     "output_type": "stream",
     "name": "stdout",
     "output_type": "stream",
     "text": [
      "+------+-------+-------+--------+---------+--------+------+-------+---+------+---+----+------+-------+------+------+--------+---------+--------+\n|visits|nvisits|ovisits|novisits|emergency|hospital|health|chronic|adl|region|age|afam|gender|married|school|income|employed|insurance|medicaid|\n+------+-------+-------+--------+---------+--------+------+-------+---+------+---+----+------+-------+------+------+--------+---------+--------+\n|     0|      0|      0|       0|        0|       0|     0|      0|  0|     0|  0|   0|     0|      0|     0|     0|       0|        0|       0|\n+------+-------+-------+--------+---------+--------+------+-------+---+------+---+----+------+-------+------+------+--------+---------+--------+\n\n"
     ]
    }
   ],
   "source": [
    "null_counts = dataFrame_filled.select([sum(col(c).isNull().cast(\"int\")).alias(c) for c in dataFrame_filled.columns])\n",
    "null_counts.show()"
   ]
  },
  {
   "cell_type": "markdown",
   "metadata": {
    "application/vnd.databricks.v1+cell": {
     "cellMetadata": {},
     "inputWidgets": {},
     "nuid": "51640087-274a-408b-a355-be768a66d01b",
     "showTitle": false,
     "tableResultSettingsMap": {},
     "title": ""
    }
   },
   "source": [
    "3)\tCalcular el número de visitas totales y asignarlas a una nueva columna llamada TotalVisits"
   ]
  },
  {
   "cell_type": "code",
   "execution_count": 0,
   "metadata": {
    "application/vnd.databricks.v1+cell": {
     "cellMetadata": {
      "byteLimit": 2048000,
      "rowLimit": 10000
     },
     "inputWidgets": {},
     "nuid": "5027fc5d-a8b3-45cb-ba62-e7dac914d3b8",
     "showTitle": false,
     "tableResultSettingsMap": {},
     "title": ""
    }
   },
   "outputs": [
    {
     "output_type": "stream",
     "name": "stdout",
     "output_type": "stream",
     "text": [
      "+------+-------+-------+--------+---------+--------+-------+-------+-------+-------+---+----+------+-------+------+--------+--------+---------+--------+-----------+\n|visits|nvisits|ovisits|novisits|emergency|hospital| health|chronic|    adl| region|age|afam|gender|married|school|  income|employed|insurance|medicaid|TotalVisits|\n+------+-------+-------+--------+---------+--------+-------+-------+-------+-------+---+----+------+-------+------+--------+--------+---------+--------+-----------+\n|     5|      0|      0|       0|        0|       1|average|      2| normal|  other|6.9| yes|  male|    yes|     6|   2.881|     yes|      yes|      no|          5|\n|     1|      0|      2|       0|        2|       0|average|      0| normal|  other|7.4|  no|female|    yes|    10|  2.7478|      no|      yes|      no|          5|\n|    13|      0|      0|       0|        3|       3|   poor|      4| others|  other|0.0| yes|female|     no|    10|  0.6532|      no|       no|     yes|         16|\n|    16|      0|      5|       0|        1|       1|   poor|      2|limited|  other|7.6|  no|  male|    yes|     3|  0.6588|      no|      yes|      no|         22|\n|     3|      0|      0|       0|        0|       0|average|      2|limited|  other|7.9|  no|female|    yes|     6|  0.6588|      no|      yes|      no|          3|\n|    17|      0|      0|       0|        0|       0|   poor|      5|limited|  other|6.6|  no|female|     no|     7|  0.3301|      no|       no|     yes|         17|\n|     9|      0|      0|       0|        0|       0|average|      0| normal|midwest|0.0|  no|female|     no|     8|   0.828|      no|      yes|      no|          9|\n|     3|      0|      0|       0|        0|       0|average|      0| normal|midwest|8.7|  no|female|     no|     8|  3.0456|      no|      yes|      no|          3|\n|     1|      0|      0|       0|        0|       0|average|      0| normal|midwest|7.3|  no|female|     no|     8|  3.0456|      no|      yes|      no|          1|\n|     0|      0|      0|       0|        0|       0|average|      0| normal| others|7.8|  no|female|     no|     8|  3.0456|      no|      yes|      no|          0|\n|     0|      0|      0|       0|        0|       0|average|      1| normal|midwest|6.6|  no|  male|    yes|     8|  2.9498|     yes|      yes|      no|          0|\n|    44|      5|      2|       0|        0|       1|average|      5|limited|midwest|6.9|  no|female|    yes|    15|  2.9498|      no|      yes|      no|         51|\n|     2|      0|      0|       0|        0|       0|average|      1|limited|midwest|8.4|  no|female|     no|     8|  0.8988|      no|       no|      no|          2|\n|     1|      0|      0|       0|        0|       0|   poor|      1|limited|midwest|8.1|  no|female|     no|     8|  0.8988|      no|       no|     yes|          1|\n|     0|      0|      1|       2|        0|       1|average|      0| normal|midwest|7.8|  no|female|     no|    12|  6.0654|      no|      yes|      no|          1|\n|    19|      0|      0|       0|        0|       0|average|      0| normal|midwest|7.6|  no|female|     no|     8|  0.6004|      no|       no|      no|         19|\n|     0|      0|      0|       0|        0|       0|average|      1|limited|midwest|8.3|  no|  male|    yes|     8|  0.5988|      no|       no|     yes|          0|\n|     3|      9|      1|       0|        0|       0|average|      2|limited|midwest|8.0|  no|female|    yes|     8|  0.5988|      no|       no|     yes|         13|\n|     2|      0|      0|       0|        0|       0|average|      3| normal|midwest|7.3| yes|  male|    yes|    10|   1.266|      no|       no|      no|          2|\n|    12|      0|      2|       0|        0|       0|average|      4| normal|midwest|7.4|  no|  male|     no|    12|1.906011|      no|      yes|      no|         14|\n+------+-------+-------+--------+---------+--------+-------+-------+-------+-------+---+----+------+-------+------+--------+--------+---------+--------+-----------+\nonly showing top 20 rows\n\n"
     ]
    }
   ],
   "source": [
    "dataFrame_total_visits = dataFrame_filled.withColumn(\"TotalVisits\", col(\"visits\")+col(\"nvisits\")+col(\"ovisits\")+col(\"emergency\"))\n",
    "dataFrame_total_visits.show(20)"
   ]
  },
  {
   "cell_type": "code",
   "execution_count": 0,
   "metadata": {
    "application/vnd.databricks.v1+cell": {
     "cellMetadata": {},
     "inputWidgets": {},
     "nuid": "ef65037b-0b17-4bba-a4d2-7947f412d1f6",
     "showTitle": false,
     "tableResultSettingsMap": {},
     "title": ""
    }
   },
   "outputs": [],
   "source": [
    "4)\tCambiar la variable gender por F/M dependiendo del caso"
   ]
  },
  {
   "cell_type": "code",
   "execution_count": 0,
   "metadata": {
    "application/vnd.databricks.v1+cell": {
     "cellMetadata": {
      "byteLimit": 2048000,
      "rowLimit": 10000
     },
     "inputWidgets": {},
     "nuid": "60cb153e-5a57-4a2c-bafe-870e32c77ae4",
     "showTitle": false,
     "tableResultSettingsMap": {},
     "title": ""
    }
   },
   "outputs": [
    {
     "output_type": "stream",
     "name": "stdout",
     "output_type": "stream",
     "text": [
      "+------+-------+-------+--------+---------+--------+-------+-------+-------+-------+---+----+------+-------+------+--------+--------+---------+--------+-----------+\n|visits|nvisits|ovisits|novisits|emergency|hospital| health|chronic|    adl| region|age|afam|gender|married|school|  income|employed|insurance|medicaid|TotalVisits|\n+------+-------+-------+--------+---------+--------+-------+-------+-------+-------+---+----+------+-------+------+--------+--------+---------+--------+-----------+\n|     5|      0|      0|       0|        0|       1|average|      2| normal|  other|6.9| yes|     M|    yes|     6|   2.881|     yes|      yes|      no|          5|\n|     1|      0|      2|       0|        2|       0|average|      0| normal|  other|7.4|  no|     F|    yes|    10|  2.7478|      no|      yes|      no|          5|\n|    13|      0|      0|       0|        3|       3|   poor|      4| others|  other|0.0| yes|     F|     no|    10|  0.6532|      no|       no|     yes|         16|\n|    16|      0|      5|       0|        1|       1|   poor|      2|limited|  other|7.6|  no|     M|    yes|     3|  0.6588|      no|      yes|      no|         22|\n|     3|      0|      0|       0|        0|       0|average|      2|limited|  other|7.9|  no|     F|    yes|     6|  0.6588|      no|      yes|      no|          3|\n|    17|      0|      0|       0|        0|       0|   poor|      5|limited|  other|6.6|  no|     F|     no|     7|  0.3301|      no|       no|     yes|         17|\n|     9|      0|      0|       0|        0|       0|average|      0| normal|midwest|0.0|  no|     F|     no|     8|   0.828|      no|      yes|      no|          9|\n|     3|      0|      0|       0|        0|       0|average|      0| normal|midwest|8.7|  no|     F|     no|     8|  3.0456|      no|      yes|      no|          3|\n|     1|      0|      0|       0|        0|       0|average|      0| normal|midwest|7.3|  no|     F|     no|     8|  3.0456|      no|      yes|      no|          1|\n|     0|      0|      0|       0|        0|       0|average|      0| normal| others|7.8|  no|     F|     no|     8|  3.0456|      no|      yes|      no|          0|\n|     0|      0|      0|       0|        0|       0|average|      1| normal|midwest|6.6|  no|     M|    yes|     8|  2.9498|     yes|      yes|      no|          0|\n|    44|      5|      2|       0|        0|       1|average|      5|limited|midwest|6.9|  no|     F|    yes|    15|  2.9498|      no|      yes|      no|         51|\n|     2|      0|      0|       0|        0|       0|average|      1|limited|midwest|8.4|  no|     F|     no|     8|  0.8988|      no|       no|      no|          2|\n|     1|      0|      0|       0|        0|       0|   poor|      1|limited|midwest|8.1|  no|     F|     no|     8|  0.8988|      no|       no|     yes|          1|\n|     0|      0|      1|       2|        0|       1|average|      0| normal|midwest|7.8|  no|     F|     no|    12|  6.0654|      no|      yes|      no|          1|\n|    19|      0|      0|       0|        0|       0|average|      0| normal|midwest|7.6|  no|     F|     no|     8|  0.6004|      no|       no|      no|         19|\n|     0|      0|      0|       0|        0|       0|average|      1|limited|midwest|8.3|  no|     M|    yes|     8|  0.5988|      no|       no|     yes|          0|\n|     3|      9|      1|       0|        0|       0|average|      2|limited|midwest|8.0|  no|     F|    yes|     8|  0.5988|      no|       no|     yes|         13|\n|     2|      0|      0|       0|        0|       0|average|      3| normal|midwest|7.3| yes|     M|    yes|    10|   1.266|      no|       no|      no|          2|\n|    12|      0|      2|       0|        0|       0|average|      4| normal|midwest|7.4|  no|     M|     no|    12|1.906011|      no|      yes|      no|         14|\n+------+-------+-------+--------+---------+--------+-------+-------+-------+-------+---+----+------+-------+------+--------+--------+---------+--------+-----------+\nonly showing top 20 rows\n\n"
     ]
    }
   ],
   "source": [
    "dataFrame_total_visits = dataFrame_total_visits.withColumn('gender', \n",
    "    f.when(f.col(\"gender\") == 'female', 'F').otherwise('M'))\n",
    "\n",
    "dataFrame_total_visits.show(20)\n"
   ]
  },
  {
   "cell_type": "markdown",
   "metadata": {
    "application/vnd.databricks.v1+cell": {
     "cellMetadata": {},
     "inputWidgets": {},
     "nuid": "7842e7d5-6b79-4df7-8503-92a7eb518d08",
     "showTitle": false,
     "tableResultSettingsMap": {},
     "title": ""
    }
   },
   "source": [
    "5)\tCrear una variable categórica llamada School_training que se formará con las siguientes condiciones: \n",
    "\n",
    "Si el valor está entre 0 y 4\tLow_trained\n",
    "Si el valor está es mayor a 4 y menor que 8 \tMid_trained\n",
    "Si el valor es mayor que 8 entonces es\tHigh trained\n"
   ]
  },
  {
   "cell_type": "code",
   "execution_count": 0,
   "metadata": {
    "application/vnd.databricks.v1+cell": {
     "cellMetadata": {
      "byteLimit": 2048000,
      "rowLimit": 10000
     },
     "inputWidgets": {},
     "nuid": "05eb796d-e5f4-4df4-9efc-d6d28c5012c3",
     "showTitle": false,
     "tableResultSettingsMap": {},
     "title": ""
    }
   },
   "outputs": [
    {
     "output_type": "stream",
     "name": "stdout",
     "output_type": "stream",
     "text": [
      "+------+-------+-------+--------+---------+--------+-------+-------+-------+-------+---+----+------+-------+------+--------+--------+---------+--------+-----------+---------------+\n|visits|nvisits|ovisits|novisits|emergency|hospital| health|chronic|    adl| region|age|afam|gender|married|school|  income|employed|insurance|medicaid|TotalVisits|School_training|\n+------+-------+-------+--------+---------+--------+-------+-------+-------+-------+---+----+------+-------+------+--------+--------+---------+--------+-----------+---------------+\n|     5|      0|      0|       0|        0|       1|average|      2| normal|  other|6.9| yes|     M|    yes|     6|   2.881|     yes|      yes|      no|          5|    Mid_trained|\n|     1|      0|      2|       0|        2|       0|average|      0| normal|  other|7.4|  no|     F|    yes|    10|  2.7478|      no|      yes|      no|          5|   High_trained|\n|    13|      0|      0|       0|        3|       3|   poor|      4| others|  other|0.0| yes|     F|     no|    10|  0.6532|      no|       no|     yes|         16|   High_trained|\n|    16|      0|      5|       0|        1|       1|   poor|      2|limited|  other|7.6|  no|     M|    yes|     3|  0.6588|      no|      yes|      no|         22|    Low_trained|\n|     3|      0|      0|       0|        0|       0|average|      2|limited|  other|7.9|  no|     F|    yes|     6|  0.6588|      no|      yes|      no|          3|    Mid_trained|\n|    17|      0|      0|       0|        0|       0|   poor|      5|limited|  other|6.6|  no|     F|     no|     7|  0.3301|      no|       no|     yes|         17|    Mid_trained|\n|     9|      0|      0|       0|        0|       0|average|      0| normal|midwest|0.0|  no|     F|     no|     8|   0.828|      no|      yes|      no|          9|   High_trained|\n|     3|      0|      0|       0|        0|       0|average|      0| normal|midwest|8.7|  no|     F|     no|     8|  3.0456|      no|      yes|      no|          3|   High_trained|\n|     1|      0|      0|       0|        0|       0|average|      0| normal|midwest|7.3|  no|     F|     no|     8|  3.0456|      no|      yes|      no|          1|   High_trained|\n|     0|      0|      0|       0|        0|       0|average|      0| normal| others|7.8|  no|     F|     no|     8|  3.0456|      no|      yes|      no|          0|   High_trained|\n|     0|      0|      0|       0|        0|       0|average|      1| normal|midwest|6.6|  no|     M|    yes|     8|  2.9498|     yes|      yes|      no|          0|   High_trained|\n|    44|      5|      2|       0|        0|       1|average|      5|limited|midwest|6.9|  no|     F|    yes|    15|  2.9498|      no|      yes|      no|         51|   High_trained|\n|     2|      0|      0|       0|        0|       0|average|      1|limited|midwest|8.4|  no|     F|     no|     8|  0.8988|      no|       no|      no|          2|   High_trained|\n|     1|      0|      0|       0|        0|       0|   poor|      1|limited|midwest|8.1|  no|     F|     no|     8|  0.8988|      no|       no|     yes|          1|   High_trained|\n|     0|      0|      1|       2|        0|       1|average|      0| normal|midwest|7.8|  no|     F|     no|    12|  6.0654|      no|      yes|      no|          1|   High_trained|\n|    19|      0|      0|       0|        0|       0|average|      0| normal|midwest|7.6|  no|     F|     no|     8|  0.6004|      no|       no|      no|         19|   High_trained|\n|     0|      0|      0|       0|        0|       0|average|      1|limited|midwest|8.3|  no|     M|    yes|     8|  0.5988|      no|       no|     yes|          0|   High_trained|\n|     3|      9|      1|       0|        0|       0|average|      2|limited|midwest|8.0|  no|     F|    yes|     8|  0.5988|      no|       no|     yes|         13|   High_trained|\n|     2|      0|      0|       0|        0|       0|average|      3| normal|midwest|7.3| yes|     M|    yes|    10|   1.266|      no|       no|      no|          2|   High_trained|\n|    12|      0|      2|       0|        0|       0|average|      4| normal|midwest|7.4|  no|     M|     no|    12|1.906011|      no|      yes|      no|         14|   High_trained|\n+------+-------+-------+--------+---------+--------+-------+-------+-------+-------+---+----+------+-------+------+--------+--------+---------+--------+-----------+---------------+\nonly showing top 20 rows\n\n"
     ]
    }
   ],
   "source": [
    "dataFrame_total_visits = dataFrame_total_visits.withColumn('School_training', \n",
    "    f.when(f.col('school') <= 4, 'Low_trained').when(\n",
    "    (f.col('school') > 4) & (f.col('school') < 8), 'Mid_trained').otherwise( 'High_trained'))\n",
    "\n",
    "dataFrame_total_visits.show(20)\n",
    "\n",
    "\n"
   ]
  },
  {
   "cell_type": "markdown",
   "metadata": {
    "application/vnd.databricks.v1+cell": {
     "cellMetadata": {},
     "inputWidgets": {},
     "nuid": "fd3e1bcf-be7d-4c0e-a32e-511c58652c3e",
     "showTitle": false,
     "tableResultSettingsMap": {},
     "title": ""
    }
   },
   "source": [
    "6)\tCrear una clave compuesta concatenando las siguientes columnas age, health y region"
   ]
  },
  {
   "cell_type": "code",
   "execution_count": 0,
   "metadata": {
    "application/vnd.databricks.v1+cell": {
     "cellMetadata": {
      "byteLimit": 2048000,
      "rowLimit": 10000
     },
     "inputWidgets": {},
     "nuid": "b862ac70-05e5-4f71-8561-81d323174ac2",
     "showTitle": false,
     "tableResultSettingsMap": {},
     "title": ""
    }
   },
   "outputs": [
    {
     "output_type": "stream",
     "name": "stdout",
     "output_type": "stream",
     "text": [
      "+------+-------+-------+--------+---------+--------+-------+-------+-------+-------+---+----+------+-------+------+--------+--------+---------+--------+-----------+---------------+-----------------+\n|visits|nvisits|ovisits|novisits|emergency|hospital| health|chronic|    adl| region|age|afam|gender|married|school|  income|employed|insurance|medicaid|TotalVisits|School_training|              key|\n+------+-------+-------+--------+---------+--------+-------+-------+-------+-------+---+----+------+-------+------+--------+--------+---------+--------+-----------+---------------+-----------------+\n|     5|      0|      0|       0|        0|       1|average|      2| normal|  other|6.9| yes|     M|    yes|     6|   2.881|     yes|      yes|      no|          5|    Mid_trained|  6.9averageother|\n|     1|      0|      2|       0|        2|       0|average|      0| normal|  other|7.4|  no|     F|    yes|    10|  2.7478|      no|      yes|      no|          5|   High_trained|  7.4averageother|\n|    13|      0|      0|       0|        3|       3|   poor|      4| others|  other|0.0| yes|     F|     no|    10|  0.6532|      no|       no|     yes|         16|   High_trained|     0.0poorother|\n|    16|      0|      5|       0|        1|       1|   poor|      2|limited|  other|7.6|  no|     M|    yes|     3|  0.6588|      no|      yes|      no|         22|    Low_trained|     7.6poorother|\n|     3|      0|      0|       0|        0|       0|average|      2|limited|  other|7.9|  no|     F|    yes|     6|  0.6588|      no|      yes|      no|          3|    Mid_trained|  7.9averageother|\n|    17|      0|      0|       0|        0|       0|   poor|      5|limited|  other|6.6|  no|     F|     no|     7|  0.3301|      no|       no|     yes|         17|    Mid_trained|     6.6poorother|\n|     9|      0|      0|       0|        0|       0|average|      0| normal|midwest|0.0|  no|     F|     no|     8|   0.828|      no|      yes|      no|          9|   High_trained|0.0averagemidwest|\n|     3|      0|      0|       0|        0|       0|average|      0| normal|midwest|8.7|  no|     F|     no|     8|  3.0456|      no|      yes|      no|          3|   High_trained|8.7averagemidwest|\n|     1|      0|      0|       0|        0|       0|average|      0| normal|midwest|7.3|  no|     F|     no|     8|  3.0456|      no|      yes|      no|          1|   High_trained|7.3averagemidwest|\n|     0|      0|      0|       0|        0|       0|average|      0| normal| others|7.8|  no|     F|     no|     8|  3.0456|      no|      yes|      no|          0|   High_trained| 7.8averageothers|\n|     0|      0|      0|       0|        0|       0|average|      1| normal|midwest|6.6|  no|     M|    yes|     8|  2.9498|     yes|      yes|      no|          0|   High_trained|6.6averagemidwest|\n|    44|      5|      2|       0|        0|       1|average|      5|limited|midwest|6.9|  no|     F|    yes|    15|  2.9498|      no|      yes|      no|         51|   High_trained|6.9averagemidwest|\n|     2|      0|      0|       0|        0|       0|average|      1|limited|midwest|8.4|  no|     F|     no|     8|  0.8988|      no|       no|      no|          2|   High_trained|8.4averagemidwest|\n|     1|      0|      0|       0|        0|       0|   poor|      1|limited|midwest|8.1|  no|     F|     no|     8|  0.8988|      no|       no|     yes|          1|   High_trained|   8.1poormidwest|\n|     0|      0|      1|       2|        0|       1|average|      0| normal|midwest|7.8|  no|     F|     no|    12|  6.0654|      no|      yes|      no|          1|   High_trained|7.8averagemidwest|\n|    19|      0|      0|       0|        0|       0|average|      0| normal|midwest|7.6|  no|     F|     no|     8|  0.6004|      no|       no|      no|         19|   High_trained|7.6averagemidwest|\n|     0|      0|      0|       0|        0|       0|average|      1|limited|midwest|8.3|  no|     M|    yes|     8|  0.5988|      no|       no|     yes|          0|   High_trained|8.3averagemidwest|\n|     3|      9|      1|       0|        0|       0|average|      2|limited|midwest|8.0|  no|     F|    yes|     8|  0.5988|      no|       no|     yes|         13|   High_trained|8.0averagemidwest|\n|     2|      0|      0|       0|        0|       0|average|      3| normal|midwest|7.3| yes|     M|    yes|    10|   1.266|      no|       no|      no|          2|   High_trained|7.3averagemidwest|\n|    12|      0|      2|       0|        0|       0|average|      4| normal|midwest|7.4|  no|     M|     no|    12|1.906011|      no|      yes|      no|         14|   High_trained|7.4averagemidwest|\n+------+-------+-------+--------+---------+--------+-------+-------+-------+-------+---+----+------+-------+------+--------+--------+---------+--------+-----------+---------------+-----------------+\nonly showing top 20 rows\n\n"
     ]
    }
   ],
   "source": [
    "dataFrame_total_visits_key = dataFrame_total_visits.withColumn('key', f.concat(col('age'), col('health'), col('region')))\n",
    "\n",
    "dataFrame_total_visits_key.show(20)"
   ]
  },
  {
   "cell_type": "markdown",
   "metadata": {
    "application/vnd.databricks.v1+cell": {
     "cellMetadata": {},
     "inputWidgets": {},
     "nuid": "379e5f21-d857-4260-8648-8d25cf8bf9e5",
     "showTitle": false,
     "tableResultSettingsMap": {},
     "title": ""
    }
   },
   "source": [
    "7)\tCrear un identificar único por cada registro (Ayuda, monolitycal_id)"
   ]
  },
  {
   "cell_type": "code",
   "execution_count": 0,
   "metadata": {
    "application/vnd.databricks.v1+cell": {
     "cellMetadata": {
      "byteLimit": 2048000,
      "rowLimit": 10000
     },
     "inputWidgets": {},
     "nuid": "6d46d4d4-d690-4ca0-ba78-3e41b99fbb70",
     "showTitle": false,
     "tableResultSettingsMap": {},
     "title": ""
    }
   },
   "outputs": [
    {
     "output_type": "stream",
     "name": "stdout",
     "output_type": "stream",
     "text": [
      "+------+-------+-------+--------+---------+--------+-------+-------+-------+-------+---+----+------+-------+------+--------+--------+---------+--------+-----------+---------------+-----------------+---+\n|visits|nvisits|ovisits|novisits|emergency|hospital| health|chronic|    adl| region|age|afam|gender|married|school|  income|employed|insurance|medicaid|TotalVisits|School_training|              key|uid|\n+------+-------+-------+--------+---------+--------+-------+-------+-------+-------+---+----+------+-------+------+--------+--------+---------+--------+-----------+---------------+-----------------+---+\n|     5|      0|      0|       0|        0|       1|average|      2| normal|  other|6.9| yes|     M|    yes|     6|   2.881|     yes|      yes|      no|          5|    Mid_trained|  6.9averageother|  0|\n|     1|      0|      2|       0|        2|       0|average|      0| normal|  other|7.4|  no|     F|    yes|    10|  2.7478|      no|      yes|      no|          5|   High_trained|  7.4averageother|  1|\n|    13|      0|      0|       0|        3|       3|   poor|      4| others|  other|0.0| yes|     F|     no|    10|  0.6532|      no|       no|     yes|         16|   High_trained|     0.0poorother|  2|\n|    16|      0|      5|       0|        1|       1|   poor|      2|limited|  other|7.6|  no|     M|    yes|     3|  0.6588|      no|      yes|      no|         22|    Low_trained|     7.6poorother|  3|\n|     3|      0|      0|       0|        0|       0|average|      2|limited|  other|7.9|  no|     F|    yes|     6|  0.6588|      no|      yes|      no|          3|    Mid_trained|  7.9averageother|  4|\n|    17|      0|      0|       0|        0|       0|   poor|      5|limited|  other|6.6|  no|     F|     no|     7|  0.3301|      no|       no|     yes|         17|    Mid_trained|     6.6poorother|  5|\n|     9|      0|      0|       0|        0|       0|average|      0| normal|midwest|0.0|  no|     F|     no|     8|   0.828|      no|      yes|      no|          9|   High_trained|0.0averagemidwest|  6|\n|     3|      0|      0|       0|        0|       0|average|      0| normal|midwest|8.7|  no|     F|     no|     8|  3.0456|      no|      yes|      no|          3|   High_trained|8.7averagemidwest|  7|\n|     1|      0|      0|       0|        0|       0|average|      0| normal|midwest|7.3|  no|     F|     no|     8|  3.0456|      no|      yes|      no|          1|   High_trained|7.3averagemidwest|  8|\n|     0|      0|      0|       0|        0|       0|average|      0| normal| others|7.8|  no|     F|     no|     8|  3.0456|      no|      yes|      no|          0|   High_trained| 7.8averageothers|  9|\n|     0|      0|      0|       0|        0|       0|average|      1| normal|midwest|6.6|  no|     M|    yes|     8|  2.9498|     yes|      yes|      no|          0|   High_trained|6.6averagemidwest| 10|\n|    44|      5|      2|       0|        0|       1|average|      5|limited|midwest|6.9|  no|     F|    yes|    15|  2.9498|      no|      yes|      no|         51|   High_trained|6.9averagemidwest| 11|\n|     2|      0|      0|       0|        0|       0|average|      1|limited|midwest|8.4|  no|     F|     no|     8|  0.8988|      no|       no|      no|          2|   High_trained|8.4averagemidwest| 12|\n|     1|      0|      0|       0|        0|       0|   poor|      1|limited|midwest|8.1|  no|     F|     no|     8|  0.8988|      no|       no|     yes|          1|   High_trained|   8.1poormidwest| 13|\n|     0|      0|      1|       2|        0|       1|average|      0| normal|midwest|7.8|  no|     F|     no|    12|  6.0654|      no|      yes|      no|          1|   High_trained|7.8averagemidwest| 14|\n|    19|      0|      0|       0|        0|       0|average|      0| normal|midwest|7.6|  no|     F|     no|     8|  0.6004|      no|       no|      no|         19|   High_trained|7.6averagemidwest| 15|\n|     0|      0|      0|       0|        0|       0|average|      1|limited|midwest|8.3|  no|     M|    yes|     8|  0.5988|      no|       no|     yes|          0|   High_trained|8.3averagemidwest| 16|\n|     3|      9|      1|       0|        0|       0|average|      2|limited|midwest|8.0|  no|     F|    yes|     8|  0.5988|      no|       no|     yes|         13|   High_trained|8.0averagemidwest| 17|\n|     2|      0|      0|       0|        0|       0|average|      3| normal|midwest|7.3| yes|     M|    yes|    10|   1.266|      no|       no|      no|          2|   High_trained|7.3averagemidwest| 18|\n|    12|      0|      2|       0|        0|       0|average|      4| normal|midwest|7.4|  no|     M|     no|    12|1.906011|      no|      yes|      no|         14|   High_trained|7.4averagemidwest| 19|\n+------+-------+-------+--------+---------+--------+-------+-------+-------+-------+---+----+------+-------+------+--------+--------+---------+--------+-----------+---------------+-----------------+---+\nonly showing top 20 rows\n\n"
     ]
    }
   ],
   "source": [
    "dataFrame_total_visits_key_mid = dataFrame_total_visits_key.withColumn('uid', f.monotonically_increasing_id())\n",
    "dataFrame_total_visits_key_mid.show(20)"
   ]
  },
  {
   "cell_type": "markdown",
   "metadata": {
    "application/vnd.databricks.v1+cell": {
     "cellMetadata": {},
     "inputWidgets": {},
     "nuid": "14ef7a0c-7cda-4b8e-a990-8e1027f98371",
     "showTitle": false,
     "tableResultSettingsMap": {},
     "title": ""
    }
   },
   "source": [
    "8)\tCambiar las columnas employed, insurance and Medicaid por valores T/F"
   ]
  },
  {
   "cell_type": "code",
   "execution_count": 0,
   "metadata": {
    "application/vnd.databricks.v1+cell": {
     "cellMetadata": {
      "byteLimit": 2048000,
      "rowLimit": 10000
     },
     "inputWidgets": {},
     "nuid": "c14a4f38-e616-469c-a3fe-95ec51fe553c",
     "showTitle": false,
     "tableResultSettingsMap": {},
     "title": ""
    }
   },
   "outputs": [
    {
     "output_type": "stream",
     "name": "stdout",
     "output_type": "stream",
     "text": [
      "+------+-------+-------+--------+---------+--------+-------+-------+-------+-------+---+----+------+-------+------+--------+--------+---------+--------+-----------+---------------+-----------------+---+\n|visits|nvisits|ovisits|novisits|emergency|hospital| health|chronic|    adl| region|age|afam|gender|married|school|  income|employed|insurance|medicaid|TotalVisits|School_training|              key|uid|\n+------+-------+-------+--------+---------+--------+-------+-------+-------+-------+---+----+------+-------+------+--------+--------+---------+--------+-----------+---------------+-----------------+---+\n|     5|      0|      0|       0|        0|       1|average|      2| normal|  other|6.9| yes|     M|    yes|     6|   2.881|       T|        T|       F|          5|    Mid_trained|  6.9averageother|  0|\n|     1|      0|      2|       0|        2|       0|average|      0| normal|  other|7.4|  no|     F|    yes|    10|  2.7478|       F|        T|       F|          5|   High_trained|  7.4averageother|  1|\n|    13|      0|      0|       0|        3|       3|   poor|      4| others|  other|0.0| yes|     F|     no|    10|  0.6532|       F|        F|       T|         16|   High_trained|     0.0poorother|  2|\n|    16|      0|      5|       0|        1|       1|   poor|      2|limited|  other|7.6|  no|     M|    yes|     3|  0.6588|       F|        T|       F|         22|    Low_trained|     7.6poorother|  3|\n|     3|      0|      0|       0|        0|       0|average|      2|limited|  other|7.9|  no|     F|    yes|     6|  0.6588|       F|        T|       F|          3|    Mid_trained|  7.9averageother|  4|\n|    17|      0|      0|       0|        0|       0|   poor|      5|limited|  other|6.6|  no|     F|     no|     7|  0.3301|       F|        F|       T|         17|    Mid_trained|     6.6poorother|  5|\n|     9|      0|      0|       0|        0|       0|average|      0| normal|midwest|0.0|  no|     F|     no|     8|   0.828|       F|        T|       F|          9|   High_trained|0.0averagemidwest|  6|\n|     3|      0|      0|       0|        0|       0|average|      0| normal|midwest|8.7|  no|     F|     no|     8|  3.0456|       F|        T|       F|          3|   High_trained|8.7averagemidwest|  7|\n|     1|      0|      0|       0|        0|       0|average|      0| normal|midwest|7.3|  no|     F|     no|     8|  3.0456|       F|        T|       F|          1|   High_trained|7.3averagemidwest|  8|\n|     0|      0|      0|       0|        0|       0|average|      0| normal| others|7.8|  no|     F|     no|     8|  3.0456|       F|        T|       F|          0|   High_trained| 7.8averageothers|  9|\n|     0|      0|      0|       0|        0|       0|average|      1| normal|midwest|6.6|  no|     M|    yes|     8|  2.9498|       T|        T|       F|          0|   High_trained|6.6averagemidwest| 10|\n|    44|      5|      2|       0|        0|       1|average|      5|limited|midwest|6.9|  no|     F|    yes|    15|  2.9498|       F|        T|       F|         51|   High_trained|6.9averagemidwest| 11|\n|     2|      0|      0|       0|        0|       0|average|      1|limited|midwest|8.4|  no|     F|     no|     8|  0.8988|       F|        F|       F|          2|   High_trained|8.4averagemidwest| 12|\n|     1|      0|      0|       0|        0|       0|   poor|      1|limited|midwest|8.1|  no|     F|     no|     8|  0.8988|       F|        F|       T|          1|   High_trained|   8.1poormidwest| 13|\n|     0|      0|      1|       2|        0|       1|average|      0| normal|midwest|7.8|  no|     F|     no|    12|  6.0654|       F|        T|       F|          1|   High_trained|7.8averagemidwest| 14|\n|    19|      0|      0|       0|        0|       0|average|      0| normal|midwest|7.6|  no|     F|     no|     8|  0.6004|       F|        F|       F|         19|   High_trained|7.6averagemidwest| 15|\n|     0|      0|      0|       0|        0|       0|average|      1|limited|midwest|8.3|  no|     M|    yes|     8|  0.5988|       F|        F|       T|          0|   High_trained|8.3averagemidwest| 16|\n|     3|      9|      1|       0|        0|       0|average|      2|limited|midwest|8.0|  no|     F|    yes|     8|  0.5988|       F|        F|       T|         13|   High_trained|8.0averagemidwest| 17|\n|     2|      0|      0|       0|        0|       0|average|      3| normal|midwest|7.3| yes|     M|    yes|    10|   1.266|       F|        F|       F|          2|   High_trained|7.3averagemidwest| 18|\n|    12|      0|      2|       0|        0|       0|average|      4| normal|midwest|7.4|  no|     M|     no|    12|1.906011|       F|        T|       F|         14|   High_trained|7.4averagemidwest| 19|\n+------+-------+-------+--------+---------+--------+-------+-------+-------+-------+---+----+------+-------+------+--------+--------+---------+--------+-----------+---------------+-----------------+---+\nonly showing top 20 rows\n\n"
     ]
    }
   ],
   "source": [
    "dataFrame_total_visits_key_mid = dataFrame_total_visits_key_mid.withColumn('employed', f.when((f.col(\"employed\") == 'yes'), 'T').otherwise('F'))\n",
    "dataFrame_total_visits_key_mid = dataFrame_total_visits_key_mid.withColumn('insurance', f.when((f.col(\"insurance\") == 'yes'), 'T').otherwise('F'))   \n",
    "dataFrame_total_visits_key_mid = dataFrame_total_visits_key_mid.withColumn('medicaid', f.when((f.col(\"medicaid\") == 'yes'), 'T').otherwise('F'))       \n",
    "\n",
    "dataFrame_total_visits_key_mid.show(20)"
   ]
  },
  {
   "cell_type": "markdown",
   "metadata": {
    "application/vnd.databricks.v1+cell": {
     "cellMetadata": {},
     "inputWidgets": {},
     "nuid": "82aa3328-a721-4a5f-b2c3-54c416e19a53",
     "showTitle": false,
     "tableResultSettingsMap": {},
     "title": ""
    }
   },
   "source": [
    "9)\tCrear un fichero parquet de los datos calculados en la columna school_training "
   ]
  },
  {
   "cell_type": "code",
   "execution_count": 0,
   "metadata": {
    "application/vnd.databricks.v1+cell": {
     "cellMetadata": {
      "byteLimit": 2048000,
      "rowLimit": 10000
     },
     "inputWidgets": {},
     "nuid": "7298f478-58ef-4436-ace7-e4a8ffcec070",
     "showTitle": false,
     "tableResultSettingsMap": {},
     "title": ""
    }
   },
   "outputs": [],
   "source": [
    "\n",
    "dataFrame_total_visits_key_mid.select('school_training').write.mode('overwrite').parquet('school_training')"
   ]
  },
  {
   "cell_type": "markdown",
   "metadata": {
    "application/vnd.databricks.v1+cell": {
     "cellMetadata": {},
     "inputWidgets": {},
     "nuid": "f5a76ec8-c5e6-46f9-96db-67ed252634a5",
     "showTitle": false,
     "tableResultSettingsMap": {},
     "title": ""
    }
   },
   "source": [
    "10)\tLeer el fichero y hacer un show para comprobar los datos"
   ]
  },
  {
   "cell_type": "code",
   "execution_count": 0,
   "metadata": {
    "application/vnd.databricks.v1+cell": {
     "cellMetadata": {
      "byteLimit": 2048000,
      "rowLimit": 10000
     },
     "inputWidgets": {},
     "nuid": "ee93a292-d4d7-4ed0-b41a-f02c27239031",
     "showTitle": false,
     "tableResultSettingsMap": {},
     "title": ""
    }
   },
   "outputs": [
    {
     "output_type": "stream",
     "name": "stdout",
     "output_type": "stream",
     "text": [
      "+---------------+\n|school_training|\n+---------------+\n|    Mid_trained|\n|   High_trained|\n|   High_trained|\n|    Low_trained|\n|    Mid_trained|\n|    Mid_trained|\n|   High_trained|\n|   High_trained|\n|   High_trained|\n|   High_trained|\n|   High_trained|\n|   High_trained|\n|   High_trained|\n|   High_trained|\n|   High_trained|\n|   High_trained|\n|   High_trained|\n|   High_trained|\n|   High_trained|\n|   High_trained|\n+---------------+\nonly showing top 20 rows\n\n"
     ]
    }
   ],
   "source": [
    "df_school_training = spark.read.parquet('dbfs:/school_training/part-00000-tid-5091758245159236913-484a3df2-2fb9-4a02-a365-c65f90df4dee-42-1-c000.snappy.parquet')\n",
    "\n",
    "df_school_training.show(20)"
   ]
  },
  {
   "cell_type": "markdown",
   "metadata": {
    "application/vnd.databricks.v1+cell": {
     "cellMetadata": {},
     "inputWidgets": {},
     "nuid": "9c3cec37-cdc3-475a-9593-518500a69dc4",
     "showTitle": false,
     "tableResultSettingsMap": {},
     "title": ""
    }
   },
   "source": [
    "11)\tAgrupar las columnas edad y región y hacer un count, average y una suma de la columna Chronic"
   ]
  },
  {
   "cell_type": "code",
   "execution_count": 0,
   "metadata": {
    "application/vnd.databricks.v1+cell": {
     "cellMetadata": {
      "byteLimit": 2048000,
      "rowLimit": 10000
     },
     "inputWidgets": {},
     "nuid": "4e1d4d84-dbea-45db-b617-423e197a5206",
     "showTitle": false,
     "tableResultSettingsMap": {},
     "title": ""
    }
   },
   "outputs": [
    {
     "output_type": "stream",
     "name": "stdout",
     "output_type": "stream",
     "text": [
      "+---+---------+-----+------------------+---+\n|age|   region|Count|               Avg|Sum|\n+---+---------+-----+------------------+---+\n|6.8|northeast|   63|1.4285714285714286| 90|\n|8.2|northeast|   24|             1.625| 39|\n|9.5|  midwest|    1|               1.0|  1|\n|9.0|  midwest|    7|1.8571428571428572| 13|\n|7.2|     west|   45|1.0888888888888888| 49|\n|7.0|northeast|   60|1.6166666666666667| 97|\n|7.9|     west|   24|             1.375| 33|\n|8.4|  midwest|   18|1.0555555555555556| 19|\n|9.1|     west|    6|1.6666666666666667| 10|\n|8.5|     west|   15|               1.4| 21|\n|8.3|    other|   44|2.0681818181818183| 91|\n|8.0|northeast|    9|0.7777777777777778|  7|\n|9.2|northeast|    3|1.6666666666666667|  5|\n|6.8|     west|   55|1.6363636363636365| 90|\n|8.3|     west|   17| 2.176470588235294| 37|\n|8.9|    other|   11|2.4545454545454546| 27|\n|7.2|northeast|   55| 1.490909090909091| 82|\n|6.9|northeast|   58| 1.293103448275862| 75|\n|9.1|northeast|    1|               0.0|  0|\n|9.6|     west|    1|               3.0|  3|\n+---+---------+-----+------------------+---+\nonly showing top 20 rows\n\n"
     ]
    }
   ],
   "source": [
    "dataFrame_grouped = dataFrame_total_visits_key_mid.groupBy('age', 'region').agg(f.count('Chronic').alias('Count'),\n",
    "                                                                   f.avg('Chronic').alias('Avg'),\n",
    "                                                                   f.sum('Chronic').alias('Sum'))\n",
    "\n",
    "dataFrame_grouped.show(20)"
   ]
  },
  {
   "cell_type": "markdown",
   "metadata": {
    "application/vnd.databricks.v1+cell": {
     "cellMetadata": {},
     "inputWidgets": {},
     "nuid": "94e0fe69-329f-43a7-9d22-1c7720707a1a",
     "showTitle": false,
     "tableResultSettingsMap": {},
     "title": ""
    }
   },
   "source": [
    "12)\tCree un nuevo dataset con un par de columnas y haga el join inner con el mismo"
   ]
  },
  {
   "cell_type": "code",
   "execution_count": 0,
   "metadata": {
    "application/vnd.databricks.v1+cell": {
     "cellMetadata": {
      "byteLimit": 2048000,
      "rowLimit": 10000
     },
     "inputWidgets": {},
     "nuid": "d8807a68-9bfd-4ea3-bdae-7912fa224610",
     "showTitle": false,
     "tableResultSettingsMap": {},
     "title": ""
    }
   },
   "outputs": [
    {
     "output_type": "stream",
     "name": "stdout",
     "output_type": "stream",
     "text": [
      "+-------------+--------+---+\n|have_children|have_car|uid|\n+-------------+--------+---+\n|          yes|       T|  0|\n|          yes|       F|  1|\n|           no|       F|  2|\n|          yes|       F|  3|\n|          yes|       F|  4|\n|           no|       F|  5|\n|           no|       F|  6|\n|           no|       F|  7|\n|           no|       F|  8|\n|           no|       F|  9|\n|          yes|       T| 10|\n|          yes|       F| 11|\n|           no|       F| 12|\n|           no|       F| 13|\n|           no|       F| 14|\n|           no|       F| 15|\n|          yes|       F| 16|\n|          yes|       F| 17|\n|          yes|       F| 18|\n|           no|       F| 19|\n+-------------+--------+---+\nonly showing top 20 rows\n\n"
     ]
    }
   ],
   "source": [
    "dataFrame_new = dataFrame_total_visits_key_mid.select('married', 'employed', 'uid').withColumnRenamed('married', 'have_children').withColumnRenamed('employed', 'have_car')\n",
    "\n",
    "dataFrame_new.show(20)"
   ]
  },
  {
   "cell_type": "code",
   "execution_count": 0,
   "metadata": {
    "application/vnd.databricks.v1+cell": {
     "cellMetadata": {
      "byteLimit": 2048000,
      "rowLimit": 10000
     },
     "inputWidgets": {},
     "nuid": "0ffcc7e8-626f-44cb-bbbe-f1b9a5dfecb1",
     "showTitle": false,
     "tableResultSettingsMap": {},
     "title": ""
    }
   },
   "outputs": [
    {
     "output_type": "stream",
     "name": "stdout",
     "output_type": "stream",
     "text": [
      "+---+------+-------+-------+--------+---------+--------+-------+-------+-------+-------+---+----+------+-------+------+--------+--------+---------+--------+-----------+---------------+-----------------+-------------+--------+\n|uid|visits|nvisits|ovisits|novisits|emergency|hospital| health|chronic|    adl| region|age|afam|gender|married|school|  income|employed|insurance|medicaid|TotalVisits|School_training|              key|have_children|have_car|\n+---+------+-------+-------+--------+---------+--------+-------+-------+-------+-------+---+----+------+-------+------+--------+--------+---------+--------+-----------+---------------+-----------------+-------------+--------+\n|  0|     5|      0|      0|       0|        0|       1|average|      2| normal|  other|6.9| yes|     M|    yes|     6|   2.881|       T|        T|       F|          5|    Mid_trained|  6.9averageother|          yes|       T|\n|  1|     1|      0|      2|       0|        2|       0|average|      0| normal|  other|7.4|  no|     F|    yes|    10|  2.7478|       F|        T|       F|          5|   High_trained|  7.4averageother|          yes|       F|\n|  2|    13|      0|      0|       0|        3|       3|   poor|      4| others|  other|0.0| yes|     F|     no|    10|  0.6532|       F|        F|       T|         16|   High_trained|     0.0poorother|           no|       F|\n|  3|    16|      0|      5|       0|        1|       1|   poor|      2|limited|  other|7.6|  no|     M|    yes|     3|  0.6588|       F|        T|       F|         22|    Low_trained|     7.6poorother|          yes|       F|\n|  4|     3|      0|      0|       0|        0|       0|average|      2|limited|  other|7.9|  no|     F|    yes|     6|  0.6588|       F|        T|       F|          3|    Mid_trained|  7.9averageother|          yes|       F|\n|  5|    17|      0|      0|       0|        0|       0|   poor|      5|limited|  other|6.6|  no|     F|     no|     7|  0.3301|       F|        F|       T|         17|    Mid_trained|     6.6poorother|           no|       F|\n|  6|     9|      0|      0|       0|        0|       0|average|      0| normal|midwest|0.0|  no|     F|     no|     8|   0.828|       F|        T|       F|          9|   High_trained|0.0averagemidwest|           no|       F|\n|  7|     3|      0|      0|       0|        0|       0|average|      0| normal|midwest|8.7|  no|     F|     no|     8|  3.0456|       F|        T|       F|          3|   High_trained|8.7averagemidwest|           no|       F|\n|  8|     1|      0|      0|       0|        0|       0|average|      0| normal|midwest|7.3|  no|     F|     no|     8|  3.0456|       F|        T|       F|          1|   High_trained|7.3averagemidwest|           no|       F|\n|  9|     0|      0|      0|       0|        0|       0|average|      0| normal| others|7.8|  no|     F|     no|     8|  3.0456|       F|        T|       F|          0|   High_trained| 7.8averageothers|           no|       F|\n| 10|     0|      0|      0|       0|        0|       0|average|      1| normal|midwest|6.6|  no|     M|    yes|     8|  2.9498|       T|        T|       F|          0|   High_trained|6.6averagemidwest|          yes|       T|\n| 11|    44|      5|      2|       0|        0|       1|average|      5|limited|midwest|6.9|  no|     F|    yes|    15|  2.9498|       F|        T|       F|         51|   High_trained|6.9averagemidwest|          yes|       F|\n| 12|     2|      0|      0|       0|        0|       0|average|      1|limited|midwest|8.4|  no|     F|     no|     8|  0.8988|       F|        F|       F|          2|   High_trained|8.4averagemidwest|           no|       F|\n| 13|     1|      0|      0|       0|        0|       0|   poor|      1|limited|midwest|8.1|  no|     F|     no|     8|  0.8988|       F|        F|       T|          1|   High_trained|   8.1poormidwest|           no|       F|\n| 14|     0|      0|      1|       2|        0|       1|average|      0| normal|midwest|7.8|  no|     F|     no|    12|  6.0654|       F|        T|       F|          1|   High_trained|7.8averagemidwest|           no|       F|\n| 15|    19|      0|      0|       0|        0|       0|average|      0| normal|midwest|7.6|  no|     F|     no|     8|  0.6004|       F|        F|       F|         19|   High_trained|7.6averagemidwest|           no|       F|\n| 16|     0|      0|      0|       0|        0|       0|average|      1|limited|midwest|8.3|  no|     M|    yes|     8|  0.5988|       F|        F|       T|          0|   High_trained|8.3averagemidwest|          yes|       F|\n| 17|     3|      9|      1|       0|        0|       0|average|      2|limited|midwest|8.0|  no|     F|    yes|     8|  0.5988|       F|        F|       T|         13|   High_trained|8.0averagemidwest|          yes|       F|\n| 18|     2|      0|      0|       0|        0|       0|average|      3| normal|midwest|7.3| yes|     M|    yes|    10|   1.266|       F|        F|       F|          2|   High_trained|7.3averagemidwest|          yes|       F|\n| 19|    12|      0|      2|       0|        0|       0|average|      4| normal|midwest|7.4|  no|     M|     no|    12|1.906011|       F|        T|       F|         14|   High_trained|7.4averagemidwest|           no|       F|\n+---+------+-------+-------+--------+---------+--------+-------+-------+-------+-------+---+----+------+-------+------+--------+--------+---------+--------+-----------+---------------+-----------------+-------------+--------+\nonly showing top 20 rows\n\n"
     ]
    }
   ],
   "source": [
    "dataFrame_joined = dataFrame_total_visits_key_mid.join(dataFrame_new, \"uid\", \"inner\")\n",
    "\n",
    "dataFrame_joined.show(20)"
   ]
  },
  {
   "cell_type": "markdown",
   "metadata": {
    "application/vnd.databricks.v1+cell": {
     "cellMetadata": {},
     "inputWidgets": {},
     "nuid": "50392a78-0fd2-4927-8e08-024e66d5e675",
     "showTitle": false,
     "tableResultSettingsMap": {},
     "title": ""
    }
   },
   "source": [
    "13)\tGenerar una función UDF que permita calcular la concatenación de dos columnas"
   ]
  },
  {
   "cell_type": "code",
   "execution_count": 0,
   "metadata": {
    "application/vnd.databricks.v1+cell": {
     "cellMetadata": {
      "byteLimit": 2048000,
      "rowLimit": 10000
     },
     "inputWidgets": {},
     "nuid": "625ef976-fc2a-4507-9552-865bb5d3c5f6",
     "showTitle": false,
     "tableResultSettingsMap": {},
     "title": ""
    }
   },
   "outputs": [
    {
     "output_type": "stream",
     "name": "stdout",
     "output_type": "stream",
     "text": [
      "+------+\n|concat|\n+------+\n|  6.9T|\n|  7.4F|\n|  0.0F|\n|  7.6F|\n|  7.9F|\n|  6.6F|\n|  0.0F|\n|  8.7F|\n|  7.3F|\n|  7.8F|\n|  6.6T|\n|  6.9F|\n|  8.4F|\n|  8.1F|\n|  7.8F|\n|  7.6F|\n|  8.3F|\n|  8.0F|\n|  7.3F|\n|  7.4F|\n+------+\nonly showing top 20 rows\n\n"
     ]
    }
   ],
   "source": [
    "def cal_concat(df, col_name1, col_name2):\n",
    "    df_concat = df.withColumn('concat', f.concat(col(col_name1), col(col_name2)))\n",
    "    return df_concat.select('concat')\n",
    "\n",
    "cal_concat(dataFrame_joined, 'age', 'have_car').show(20)"
   ]
  },
  {
   "cell_type": "markdown",
   "metadata": {
    "application/vnd.databricks.v1+cell": {
     "cellMetadata": {},
     "inputWidgets": {},
     "nuid": "c0f38225-277b-4933-b2ff-c09b81f848f9",
     "showTitle": false,
     "tableResultSettingsMap": {},
     "title": ""
    }
   },
   "source": [
    "14)\tGenere el fichero resultante en parquet y en formato snappy.\n",
    "\n"
   ]
  },
  {
   "cell_type": "code",
   "execution_count": 0,
   "metadata": {
    "application/vnd.databricks.v1+cell": {
     "cellMetadata": {
      "byteLimit": 2048000,
      "rowLimit": 10000
     },
     "inputWidgets": {},
     "nuid": "b8b19ce0-d9d0-45dc-b545-5451e4626238",
     "showTitle": false,
     "tableResultSettingsMap": {},
     "title": ""
    }
   },
   "outputs": [],
   "source": [
    "cal_concat(dataFrame_joined, 'age', 'have_car').write.mode('overwrite').option(\"compression\", \"snappy\").parquet('concat')"
   ]
  }
 ],
 "metadata": {
  "application/vnd.databricks.v1+notebook": {
   "computePreferences": null,
   "dashboards": [],
   "environmentMetadata": {
    "base_environment": "",
    "client": "1"
   },
   "language": "python",
   "notebookMetadata": {
    "pythonIndentUnit": 4
   },
   "notebookName": "Untitled Notebook 2024-12-28 11:38:56",
   "widgets": {}
  }
 },
 "nbformat": 4,
 "nbformat_minor": 0
}
